{
 "cells": [
  {
   "cell_type": "markdown",
   "metadata": {
    "id": "7s1qRKXxHn5X"
   },
   "source": [
    "# Colab install and settings\n",
    "\n",
    "If you intend to run this notebook on Colab, run the following; otherwise you can skip this part."
   ]
  },
  {
   "cell_type": "code",
   "execution_count": 7,
   "metadata": {
    "colab": {
     "base_uri": "https://localhost:8080/"
    },
    "executionInfo": {
     "elapsed": 48085,
     "status": "ok",
     "timestamp": 1622147931375,
     "user": {
      "displayName": "Caroline Stehlé",
      "photoUrl": "",
      "userId": "16859259941560680692"
     },
     "user_tz": -120
    },
    "id": "p3TOAeTzd-sB",
    "outputId": "7fc2f0bd-60f6-4307-e773-cc7e44d2e41a"
   },
   "outputs": [
    {
     "name": "stdout",
     "output_type": "stream",
     "text": [
      "Requirement already satisfied: sentinelsat in c:\\users\\caroline.stehle\\pythonenvs\\venv-how-green\\lib\\site-packages (1.1.1)\n",
      "Requirement already satisfied: html2text in c:\\users\\caroline.stehle\\pythonenvs\\venv-how-green\\lib\\site-packages (from sentinelsat) (2020.1.16)\n",
      "Requirement already satisfied: requests in c:\\users\\caroline.stehle\\pythonenvs\\venv-how-green\\lib\\site-packages (from sentinelsat) (2.27.1)\n",
      "Requirement already satisfied: geomet in c:\\users\\caroline.stehle\\pythonenvs\\venv-how-green\\lib\\site-packages (from sentinelsat) (0.3.0)\n",
      "Requirement already satisfied: click>=7.1 in c:\\users\\caroline.stehle\\pythonenvs\\venv-how-green\\lib\\site-packages (from sentinelsat) (8.0.4)\n",
      "Requirement already satisfied: tqdm>=4.58 in c:\\users\\caroline.stehle\\pythonenvs\\venv-how-green\\lib\\site-packages (from sentinelsat) (4.63.0)\n",
      "Requirement already satisfied: geojson>=2 in c:\\users\\caroline.stehle\\pythonenvs\\venv-how-green\\lib\\site-packages (from sentinelsat) (2.5.0)\n",
      "Requirement already satisfied: colorama in c:\\users\\caroline.stehle\\pythonenvs\\venv-how-green\\lib\\site-packages (from click>=7.1->sentinelsat) (0.4.4)\n",
      "Requirement already satisfied: six in c:\\users\\caroline.stehle\\pythonenvs\\venv-how-green\\lib\\site-packages (from geomet->sentinelsat) (1.16.0)\n",
      "Requirement already satisfied: certifi>=2017.4.17 in c:\\users\\caroline.stehle\\pythonenvs\\venv-how-green\\lib\\site-packages (from requests->sentinelsat) (2021.10.8)\n",
      "Requirement already satisfied: charset-normalizer~=2.0.0 in c:\\users\\caroline.stehle\\pythonenvs\\venv-how-green\\lib\\site-packages (from requests->sentinelsat) (2.0.12)\n",
      "Requirement already satisfied: idna<4,>=2.5 in c:\\users\\caroline.stehle\\pythonenvs\\venv-how-green\\lib\\site-packages (from requests->sentinelsat) (3.3)\n",
      "Requirement already satisfied: urllib3<1.27,>=1.21.1 in c:\\users\\caroline.stehle\\pythonenvs\\venv-how-green\\lib\\site-packages (from requests->sentinelsat) (1.26.8)\n",
      "Requirement already satisfied: rasterio in c:\\users\\caroline.stehle\\pythonenvs\\venv-how-green\\lib\\site-packages (1.2.10)\n",
      "Requirement already satisfied: click>=4.0 in c:\\users\\caroline.stehle\\pythonenvs\\venv-how-green\\lib\\site-packages (from rasterio) (8.0.4)\n",
      "Requirement already satisfied: click-plugins in c:\\users\\caroline.stehle\\pythonenvs\\venv-how-green\\lib\\site-packages (from rasterio) (1.1.1)\n",
      "Requirement already satisfied: certifi in c:\\users\\caroline.stehle\\pythonenvs\\venv-how-green\\lib\\site-packages (from rasterio) (2021.10.8)\n",
      "Requirement already satisfied: setuptools in c:\\users\\caroline.stehle\\pythonenvs\\venv-how-green\\lib\\site-packages (from rasterio) (60.9.3)\n",
      "Requirement already satisfied: numpy in c:\\users\\caroline.stehle\\pythonenvs\\venv-how-green\\lib\\site-packages (from rasterio) (1.22.2)\n",
      "Requirement already satisfied: snuggs>=1.4.1 in c:\\users\\caroline.stehle\\pythonenvs\\venv-how-green\\lib\\site-packages (from rasterio) (1.4.7)\n",
      "Requirement already satisfied: cligj>=0.5 in c:\\users\\caroline.stehle\\pythonenvs\\venv-how-green\\lib\\site-packages (from rasterio) (0.7.2)\n",
      "Requirement already satisfied: attrs in c:\\users\\caroline.stehle\\pythonenvs\\venv-how-green\\lib\\site-packages (from rasterio) (21.4.0)\n",
      "Requirement already satisfied: gdal~=3.4.1 in c:\\users\\caroline.stehle\\pythonenvs\\venv-how-green\\lib\\site-packages (from rasterio) (3.4.1)\n",
      "Requirement already satisfied: affine in c:\\users\\caroline.stehle\\pythonenvs\\venv-how-green\\lib\\site-packages (from rasterio) (2.3.0)\n",
      "Requirement already satisfied: colorama in c:\\users\\caroline.stehle\\pythonenvs\\venv-how-green\\lib\\site-packages (from click>=4.0->rasterio) (0.4.4)\n",
      "Requirement already satisfied: pyparsing>=2.1.6 in c:\\users\\caroline.stehle\\pythonenvs\\venv-how-green\\lib\\site-packages (from snuggs>=1.4.1->rasterio) (3.0.7)\n",
      "Requirement already satisfied: folium in c:\\users\\caroline.stehle\\pythonenvs\\venv-how-green\\lib\\site-packages (0.12.1.post1)\n",
      "Requirement already satisfied: branca>=0.3.0 in c:\\users\\caroline.stehle\\pythonenvs\\venv-how-green\\lib\\site-packages (from folium) (0.4.2)\n",
      "Requirement already satisfied: requests in c:\\users\\caroline.stehle\\pythonenvs\\venv-how-green\\lib\\site-packages (from folium) (2.27.1)\n",
      "Requirement already satisfied: jinja2>=2.9 in c:\\users\\caroline.stehle\\pythonenvs\\venv-how-green\\lib\\site-packages (from folium) (3.0.3)\n",
      "Requirement already satisfied: numpy in c:\\users\\caroline.stehle\\pythonenvs\\venv-how-green\\lib\\site-packages (from folium) (1.22.2)\n",
      "Requirement already satisfied: MarkupSafe>=2.0 in c:\\users\\caroline.stehle\\pythonenvs\\venv-how-green\\lib\\site-packages (from jinja2>=2.9->folium) (2.1.0)\n",
      "Requirement already satisfied: charset-normalizer~=2.0.0 in c:\\users\\caroline.stehle\\pythonenvs\\venv-how-green\\lib\\site-packages (from requests->folium) (2.0.12)\n",
      "Requirement already satisfied: urllib3<1.27,>=1.21.1 in c:\\users\\caroline.stehle\\pythonenvs\\venv-how-green\\lib\\site-packages (from requests->folium) (1.26.8)\n",
      "Requirement already satisfied: certifi>=2017.4.17 in c:\\users\\caroline.stehle\\pythonenvs\\venv-how-green\\lib\\site-packages (from requests->folium) (2021.10.8)\n",
      "Requirement already satisfied: idna<4,>=2.5 in c:\\users\\caroline.stehle\\pythonenvs\\venv-how-green\\lib\\site-packages (from requests->folium) (3.3)\n"
     ]
    },
    {
     "name": "stderr",
     "output_type": "stream",
     "text": [
      "'apt' is not recognized as an internal or external command,\n",
      "operable program or batch file.\n",
      "'apt' is not recognized as an internal or external command,\n",
      "operable program or batch file.\n"
     ]
    },
    {
     "name": "stdout",
     "output_type": "stream",
     "text": [
      "Collecting git+git://github.com/geopandas/geopandas.git"
     ]
    },
    {
     "name": "stderr",
     "output_type": "stream",
     "text": [
      "  Running command git clone --filter=blob:none --quiet git://github.com/geopandas/geopandas.git 'C:\\Users\\caroline.stehle\\AppData\\Local\\Temp\\pip-req-build-jguyxs57'\n"
     ]
    },
    {
     "name": "stdout",
     "output_type": "stream",
     "text": [
      "\n",
      "  Cloning git://github.com/geopandas/geopandas.git to c:\\users\\caroline.stehle\\appdata\\local\\temp\\pip-req-build-jguyxs57\n",
      "  Resolved git://github.com/geopandas/geopandas.git to commit 51864acf3dd0bcbc74b2a922c6e012d7e57e46b5\n",
      "  Preparing metadata (setup.py): started\n",
      "  Preparing metadata (setup.py): finished with status 'done'\n",
      "Requirement already satisfied: pandas>=1.0.0 in c:\\users\\caroline.stehle\\pythonenvs\\venv-how-green\\lib\\site-packages (from geopandas==0+untagged.1552.g51864ac) (1.4.1)\n",
      "Requirement already satisfied: shapely>=1.7 in c:\\users\\caroline.stehle\\pythonenvs\\venv-how-green\\lib\\site-packages (from geopandas==0+untagged.1552.g51864ac) (1.8.1.post1)\n",
      "Requirement already satisfied: fiona>=1.8 in c:\\users\\caroline.stehle\\pythonenvs\\venv-how-green\\lib\\site-packages (from geopandas==0+untagged.1552.g51864ac) (1.8.21)\n",
      "Requirement already satisfied: pyproj>=2.6.1.post1 in c:\\users\\caroline.stehle\\pythonenvs\\venv-how-green\\lib\\site-packages (from geopandas==0+untagged.1552.g51864ac) (3.3.0)\n",
      "Requirement already satisfied: packaging in c:\\users\\caroline.stehle\\pythonenvs\\venv-how-green\\lib\\site-packages (from geopandas==0+untagged.1552.g51864ac) (21.3)\n",
      "Requirement already satisfied: cligj>=0.5 in c:\\users\\caroline.stehle\\pythonenvs\\venv-how-green\\lib\\site-packages (from fiona>=1.8->geopandas==0+untagged.1552.g51864ac) (0.7.2)\n",
      "Requirement already satisfied: gdal~=3.4.1 in c:\\users\\caroline.stehle\\pythonenvs\\venv-how-green\\lib\\site-packages (from fiona>=1.8->geopandas==0+untagged.1552.g51864ac) (3.4.1)\n",
      "Requirement already satisfied: click>=4.0 in c:\\users\\caroline.stehle\\pythonenvs\\venv-how-green\\lib\\site-packages (from fiona>=1.8->geopandas==0+untagged.1552.g51864ac) (8.0.4)\n",
      "Requirement already satisfied: six>=1.7 in c:\\users\\caroline.stehle\\pythonenvs\\venv-how-green\\lib\\site-packages (from fiona>=1.8->geopandas==0+untagged.1552.g51864ac) (1.16.0)\n",
      "Requirement already satisfied: click-plugins>=1.0 in c:\\users\\caroline.stehle\\pythonenvs\\venv-how-green\\lib\\site-packages (from fiona>=1.8->geopandas==0+untagged.1552.g51864ac) (1.1.1)\n",
      "Requirement already satisfied: certifi in c:\\users\\caroline.stehle\\pythonenvs\\venv-how-green\\lib\\site-packages (from fiona>=1.8->geopandas==0+untagged.1552.g51864ac) (2021.10.8)\n",
      "Requirement already satisfied: attrs>=17 in c:\\users\\caroline.stehle\\pythonenvs\\venv-how-green\\lib\\site-packages (from fiona>=1.8->geopandas==0+untagged.1552.g51864ac) (21.4.0)\n",
      "Requirement already satisfied: setuptools in c:\\users\\caroline.stehle\\pythonenvs\\venv-how-green\\lib\\site-packages (from fiona>=1.8->geopandas==0+untagged.1552.g51864ac) (60.9.3)\n",
      "Requirement already satisfied: munch in c:\\users\\caroline.stehle\\pythonenvs\\venv-how-green\\lib\\site-packages (from fiona>=1.8->geopandas==0+untagged.1552.g51864ac) (2.5.0)\n",
      "Requirement already satisfied: pytz>=2020.1 in c:\\users\\caroline.stehle\\pythonenvs\\venv-how-green\\lib\\site-packages (from pandas>=1.0.0->geopandas==0+untagged.1552.g51864ac) (2021.3)\n",
      "Requirement already satisfied: python-dateutil>=2.8.1 in c:\\users\\caroline.stehle\\pythonenvs\\venv-how-green\\lib\\site-packages (from pandas>=1.0.0->geopandas==0+untagged.1552.g51864ac) (2.8.2)\n",
      "Requirement already satisfied: numpy>=1.18.5 in c:\\users\\caroline.stehle\\pythonenvs\\venv-how-green\\lib\\site-packages (from pandas>=1.0.0->geopandas==0+untagged.1552.g51864ac) (1.22.2)\n",
      "Requirement already satisfied: pyparsing!=3.0.5,>=2.0.2 in c:\\users\\caroline.stehle\\pythonenvs\\venv-how-green\\lib\\site-packages (from packaging->geopandas==0+untagged.1552.g51864ac) (3.0.7)\n",
      "Requirement already satisfied: colorama in c:\\users\\caroline.stehle\\pythonenvs\\venv-how-green\\lib\\site-packages (from click>=4.0->fiona>=1.8->geopandas==0+untagged.1552.g51864ac) (0.4.4)\n",
      "Building wheels for collected packages: geopandas\n",
      "  Building wheel for geopandas (setup.py): started\n",
      "  Building wheel for geopandas (setup.py): finished with status 'done'\n",
      "  Created wheel for geopandas: filename=geopandas-0+untagged.1552.g51864ac-py2.py3-none-any.whl size=1037522 sha256=bfa17e18be4eaee740b465dc610f34c38c3b1155689f93fa2c550b85f3a3f966\n",
      "  Stored in directory: C:\\Users\\caroline.stehle\\AppData\\Local\\Temp\\pip-ephem-wheel-cache-f1281z83\\wheels\\37\\ce\\df\\09721a3e578b57e217d038d0555fd872eba4e1fd9c8f6c8013\n",
      "Successfully built geopandas\n",
      "Installing collected packages: geopandas\n",
      "  Attempting uninstall: geopandas\n",
      "    Found existing installation: geopandas 0.10.2\n",
      "    Uninstalling geopandas-0.10.2:\n",
      "      Successfully uninstalled geopandas-0.10.2\n",
      "Successfully installed geopandas-0+untagged.1552.g51864ac\n",
      "Requirement already satisfied: descartes in c:\\users\\caroline.stehle\\pythonenvs\\venv-how-green\\lib\\site-packages (1.0.1)\n"
     ]
    }
   ],
   "source": [
    "!pip install sentinelsat\n",
    "!pip install rasterio\n",
    "!pip install folium\n",
    "!apt install gdal-bin python-gdal python3-gdal \n",
    "!apt install python3-rtree \n",
    "!pip install git+git://github.com/geopandas/geopandas.git\n",
    "!pip install descartes "
   ]
  },
  {
   "cell_type": "code",
   "execution_count": 23,
   "metadata": {
    "id": "Th4BMrYBGH-E"
   },
   "outputs": [],
   "source": [
    "%load_ext autoreload\n",
    "%autoreload 2"
   ]
  },
  {
   "cell_type": "code",
   "execution_count": null,
   "metadata": {
    "colab": {
     "base_uri": "https://localhost:8080/"
    },
    "executionInfo": {
     "elapsed": 14,
     "status": "ok",
     "timestamp": 1622147861901,
     "user": {
      "displayName": "Caroline Stehlé",
      "photoUrl": "",
      "userId": "16859259941560680692"
     },
     "user_tz": -120
    },
    "id": "xDxPQn-lBqR_",
    "outputId": "19a59b34-940f-497c-aef1-420964749618"
   },
   "outputs": [
    {
     "name": "stdout",
     "output_type": "stream",
     "text": [
      "Drive already mounted at /content/drive; to attempt to forcibly remount, call drive.mount(\"/content/drive\", force_remount=True).\n"
     ]
    }
   ],
   "source": [
    "from google.colab import drive\n",
    "drive.mount(\"/content/drive\")"
   ]
  },
  {
   "cell_type": "code",
   "execution_count": null,
   "metadata": {
    "colab": {
     "base_uri": "https://localhost:8080/"
    },
    "executionInfo": {
     "elapsed": 11,
     "status": "ok",
     "timestamp": 1622147861901,
     "user": {
      "displayName": "Caroline Stehlé",
      "photoUrl": "",
      "userId": "16859259941560680692"
     },
     "user_tz": -120
    },
    "id": "5dJBCxmbbwc3",
    "outputId": "2a2b3add-068e-4280-eae2-c35546f6b79b"
   },
   "outputs": [
    {
     "name": "stdout",
     "output_type": "stream",
     "text": [
      "/content/drive/MyDrive/Colab Notebooks\n"
     ]
    }
   ],
   "source": [
    "cd '/content/drive/MyDrive/Colab Notebooks/'"
   ]
  },
  {
   "cell_type": "markdown",
   "metadata": {
    "id": "7s1qRKXxHn5X"
   },
   "source": [
    "# Introduction"
   ]
  },
  {
   "cell_type": "markdown",
   "metadata": {
    "id": "E3fOPofTFMuK"
   },
   "source": [
    "This Notebook was intended to get semi-automatically multi-spectral images of reduced size which could be used at entry of Neural network for green (vegetation) areas detection.\n",
    "\n",
    "As first step, we need  images with full urban areas or full vegetation areas. This is why we need to crop images to get only reduced images with the area of interest.\n",
    "\n",
    "Before running this Jupyter notebook, I searched the GPS coordinates of a dense urban area on OpenStreetMap -> Export\n",
    ". \n",
    "In the Notebook, we create a shapefile, make a query on Copernicus hub with Sentinel API to get a corresponding satellite file. \n",
    "We select the 10m and 20m resolution bands and we oversample 20m resolution bands. At the end we crop all bands of satellite image corresponding to the shapefile over the area of interest and we create a new tiff multispectral image with all the bands. This image still contains the metadata information to locate the image on a map (with folium for instance).\n",
    "\n",
    "The same procedure must be repeated for a dense green area, and for a mix area.\n",
    "\n",
    "The area of interest is a rectangle, but we could create more complex shapes with holes, etc."
   ]
  },
  {
   "cell_type": "markdown",
   "metadata": {
    "id": "YiWTxzbnMCQV"
   },
   "source": [
    "# Create shapefile over area of interest\n",
    "\n",
    "Reference tutorial: https://pypi.org/project/pyshp/#writing-shapefiles\n"
   ]
  },
  {
   "cell_type": "code",
   "execution_count": 4,
   "metadata": {
    "colab": {
     "base_uri": "https://localhost:8080/"
    },
    "executionInfo": {
     "elapsed": 6106,
     "status": "ok",
     "timestamp": 1622147871914,
     "user": {
      "displayName": "Caroline Stehlé",
      "photoUrl": "",
      "userId": "16859259941560680692"
     },
     "user_tz": -120
    },
    "id": "FQQ_CGv2U2qT",
    "outputId": "3647fab0-c8bf-4af2-a9e1-155e44d84dae"
   },
   "outputs": [],
   "source": [
    "from sat_tools import create_shapefile_from_geo_coordinates\n",
    "from sat_tools import create_list_of_points_from_geo_coordinates"
   ]
  },
  {
   "cell_type": "markdown",
   "metadata": {
    "id": "iukXLHHXKDoz"
   },
   "source": [
    "Here we create a simple polygon shapefile, which is a square composed of GPS coordinates (latitude, longitude) in clockwise order. Latitude and longitude of area of interest can be found with www.openstreetmap.org -> Export\n"
   ]
  },
  {
   "cell_type": "markdown",
   "metadata": {
    "id": "XIlA_1auxnzT"
   },
   "source": [
    "In the following, choose 1 cell to run, depending on which file you want to generate, and then go to next section (NB: I choose areas which correspond to the same satellite image, so that we don't need to download 3 times a new satellite image -> we reuse the same)"
   ]
  },
  {
   "cell_type": "code",
   "execution_count": 5,
   "metadata": {
    "id": "anLJqiuMBdhY"
   },
   "outputs": [],
   "source": [
    "area = 'Puebla'\n",
    "shapefilename = area + '_' + 'shapefile'\n",
    "fieldname = 'urban'\n",
    "N_lat = 19.1062\n",
    "S_lat = 18.9813\n",
    "W_long = -98.2894\n",
    "E_long = -98.1731\n",
    "create_shapefile_from_geo_coordinates(shapefilename, fieldname, N_lat, S_lat, W_long, E_long)\n"
   ]
  },
  {
   "cell_type": "markdown",
   "metadata": {
    "id": "jO9CEttt-AGh"
   },
   "source": [
    "We do the same for a green area:"
   ]
  },
  {
   "cell_type": "code",
   "execution_count": 6,
   "metadata": {
    "id": "7JzlaTOU95yv"
   },
   "outputs": [],
   "source": [
    "area = 'Popocatepetl'\n",
    "shapefilename = area + '_' + 'shapefile'\n",
    "fieldname = 'nature'\n",
    "N_lat = 19.3098\n",
    "S_lat = 19.0981\n",
    "W_long = -98.7381\n",
    "E_long = -98.5573\n",
    "create_shapefile_from_geo_coordinates(shapefilename, fieldname, N_lat, S_lat, W_long, E_long)\n"
   ]
  },
  {
   "cell_type": "markdown",
   "metadata": {
    "id": "bffbFTDvlsP4"
   },
   "source": [
    "And for a mixed urban/green area:"
   ]
  },
  {
   "cell_type": "code",
   "execution_count": 7,
   "metadata": {
    "id": "-DchedhAlrSo"
   },
   "outputs": [],
   "source": [
    "area = 'Tlaxcala'\n",
    "shapefilename = area + '_' + 'shapefile'\n",
    "fieldname = 'mixed'\n",
    "N_lat = 19.3509\n",
    "S_lat = 19.3118\n",
    "W_long = -98.2599\n",
    "E_long = -98.2154\n",
    "create_shapefile_from_geo_coordinates(shapefilename, fieldname, N_lat, S_lat, W_long, E_long)\n"
   ]
  },
  {
   "cell_type": "code",
   "execution_count": 8,
   "metadata": {
    "id": "GqbYJSQei9go"
   },
   "outputs": [],
   "source": [
    "area = 'Roquefort'\n",
    "shapefilename = area + '_' + 'shapefile'\n",
    "fieldname = 'mixed'\n",
    "N_lat = 43.7085\n",
    "S_lat = 43.6363\n",
    "W_long = 6.9929\n",
    "E_long = 7.1204\n",
    "create_shapefile_from_geo_coordinates(shapefilename, fieldname, N_lat, S_lat, W_long, E_long)\n",
    "area_points_list = create_list_of_points_from_geo_coordinates(N_lat, S_lat, W_long, E_long)"
   ]
  },
  {
   "cell_type": "markdown",
   "metadata": {
    "id": "eRgnGrY-NGrA"
   },
   "source": [
    "# Visualise area of interest with geopandas and folium"
   ]
  },
  {
   "cell_type": "markdown",
   "metadata": {
    "id": "gXJu6jIgNna4"
   },
   "source": [
    "Reference tutorial:\n",
    "https://towardsdatascience.com/satellite-imagery-access-and-analysis-in-python-jupyter-notebooks-387971ece84b"
   ]
  },
  {
   "cell_type": "code",
   "execution_count": 9,
   "metadata": {
    "id": "w-XSiH9Feu8B"
   },
   "outputs": [],
   "source": [
    "import folium\n",
    "import os\n",
    "import numpy as np\n",
    "\n",
    "from sentinelsat import SentinelAPI, read_geojson, geojson_to_wkt \n",
    "import geopandas as gpd\n",
    "import pandas as pd\n",
    "import numpy as np\n",
    "import matplotlib.pyplot as plt\n",
    "\n",
    "from shapely.geometry import MultiPolygon, Polygon\n",
    "import rasterio as rio\n",
    "from rasterio.plot import show\n",
    "import rasterio.mask\n",
    "import fiona"
   ]
  },
  {
   "cell_type": "markdown",
   "metadata": {
    "id": "3vC429vNFSqv"
   },
   "source": [
    "Read shapefile with Geopandas and visualize it with Folium python library."
   ]
  },
  {
   "cell_type": "code",
   "execution_count": 10,
   "metadata": {
    "colab": {
     "base_uri": "https://localhost:8080/",
     "height": 80
    },
    "executionInfo": {
     "elapsed": 254,
     "status": "ok",
     "timestamp": 1622147932133,
     "user": {
      "displayName": "Caroline Stehlé",
      "photoUrl": "",
      "userId": "16859259941560680692"
     },
     "user_tz": -120
    },
    "id": "IQmeINyZfATS",
    "outputId": "cf25d30e-7d60-4600-bee8-abe7d18e6b57"
   },
   "outputs": [
    {
     "data": {
      "text/html": [
       "<div>\n",
       "<style scoped>\n",
       "    .dataframe tbody tr th:only-of-type {\n",
       "        vertical-align: middle;\n",
       "    }\n",
       "\n",
       "    .dataframe tbody tr th {\n",
       "        vertical-align: top;\n",
       "    }\n",
       "\n",
       "    .dataframe thead th {\n",
       "        text-align: right;\n",
       "    }\n",
       "</style>\n",
       "<table border=\"1\" class=\"dataframe\">\n",
       "  <thead>\n",
       "    <tr style=\"text-align: right;\">\n",
       "      <th></th>\n",
       "      <th>mixed</th>\n",
       "      <th>geometry</th>\n",
       "    </tr>\n",
       "  </thead>\n",
       "  <tbody>\n",
       "    <tr>\n",
       "      <th>0</th>\n",
       "      <td>polygon1</td>\n",
       "      <td>POLYGON ((6.99290 43.70850, 7.12040 43.70850, ...</td>\n",
       "    </tr>\n",
       "  </tbody>\n",
       "</table>\n",
       "</div>"
      ],
      "text/plain": [
       "      mixed                                           geometry\n",
       "0  polygon1  POLYGON ((6.99290 43.70850, 7.12040 43.70850, ..."
      ]
     },
     "execution_count": 10,
     "metadata": {},
     "output_type": "execute_result"
    }
   ],
   "source": [
    "area_shape = gpd.read_file(shapefilename + '.shp')\n",
    "area_shape"
   ]
  },
  {
   "cell_type": "markdown",
   "metadata": {
    "id": "eYchUW4kFizG"
   },
   "source": [
    "We need to specify the CRS: Coordinate Reference System with an EPSG code, otherwise the shapefile is unusable."
   ]
  },
  {
   "cell_type": "markdown",
   "metadata": {
    "id": "IwWUEnlpGGDG"
   },
   "source": [
    "**EPSG** stands for European Petroleum Survey Group and is an organization that maintains a geodetic parameter database with standard codes, the EPSG codes, for coordinate systems, datums, spheroids, units... "
   ]
  },
  {
   "cell_type": "markdown",
   "metadata": {
    "id": "7o755qOymIz5"
   },
   "source": [
    "Common EPSG codes (Source: Wikipedia)\n",
    "\n",
    "**EPSG:4326** - WGS 84, latitude/longitude coordinate system based on the Earth's center of mass, used by the Global Positioning System among others.\n",
    "\n",
    "**EPSG:3857** - Web Mercator projection used for display by many web-based mapping tools, including Google Maps and OpenStreetMap.\n",
    "\n",
    "**EPSG:7789** - International Terrestrial Reference Frame 2014 (ITRF2014), an Earth-fixed system that is independent of continental drift."
   ]
  },
  {
   "cell_type": "code",
   "execution_count": 11,
   "metadata": {
    "colab": {
     "base_uri": "https://localhost:8080/"
    },
    "executionInfo": {
     "elapsed": 195,
     "status": "ok",
     "timestamp": 1621927791167,
     "user": {
      "displayName": "Caroline Stehlé",
      "photoUrl": "",
      "userId": "16859259941560680692"
     },
     "user_tz": -120
    },
    "id": "SsgeSkSNlVnO",
    "outputId": "c9faf26f-7f7d-443c-f5ee-f5f5f47d2c3a"
   },
   "outputs": [],
   "source": [
    "#area_shape.crs = {'init':\"epsg:4326\"}\n",
    "\n",
    "from pyproj import CRS\n",
    "area_shape.crs = CRS(\"EPSG:4326\")"
   ]
  },
  {
   "cell_type": "code",
   "execution_count": 12,
   "metadata": {
    "colab": {
     "base_uri": "https://localhost:8080/",
     "height": 422
    },
    "executionInfo": {
     "elapsed": 614,
     "status": "ok",
     "timestamp": 1621892454683,
     "user": {
      "displayName": "Caroline Stehlé",
      "photoUrl": "",
      "userId": "16859259941560680692"
     },
     "user_tz": -120
    },
    "id": "kcE4wwvRf92O",
    "outputId": "b8f5afe9-2a0e-4b0d-e6b5-b1ad570a9296"
   },
   "outputs": [
    {
     "data": {
      "text/html": [
       "<div style=\"width:100%;\"><div style=\"position:relative;width:100%;height:0;padding-bottom:60%;\"><span style=\"color:#565656\">Make this Notebook Trusted to load map: File -> Trust Notebook</span><iframe src=\"about:blank\" style=\"position:absolute;width:100%;height:100%;left:0;top:0;border:none !important;\" data-html=%3C%21DOCTYPE%20html%3E%0A%3Chead%3E%20%20%20%20%0A%20%20%20%20%3Cmeta%20http-equiv%3D%22content-type%22%20content%3D%22text/html%3B%20charset%3DUTF-8%22%20/%3E%0A%20%20%20%20%0A%20%20%20%20%20%20%20%20%3Cscript%3E%0A%20%20%20%20%20%20%20%20%20%20%20%20L_NO_TOUCH%20%3D%20false%3B%0A%20%20%20%20%20%20%20%20%20%20%20%20L_DISABLE_3D%20%3D%20false%3B%0A%20%20%20%20%20%20%20%20%3C/script%3E%0A%20%20%20%20%0A%20%20%20%20%3Cstyle%3Ehtml%2C%20body%20%7Bwidth%3A%20100%25%3Bheight%3A%20100%25%3Bmargin%3A%200%3Bpadding%3A%200%3B%7D%3C/style%3E%0A%20%20%20%20%3Cstyle%3E%23map%20%7Bposition%3Aabsolute%3Btop%3A0%3Bbottom%3A0%3Bright%3A0%3Bleft%3A0%3B%7D%3C/style%3E%0A%20%20%20%20%3Cscript%20src%3D%22https%3A//cdn.jsdelivr.net/npm/leaflet%401.6.0/dist/leaflet.js%22%3E%3C/script%3E%0A%20%20%20%20%3Cscript%20src%3D%22https%3A//code.jquery.com/jquery-1.12.4.min.js%22%3E%3C/script%3E%0A%20%20%20%20%3Cscript%20src%3D%22https%3A//maxcdn.bootstrapcdn.com/bootstrap/3.2.0/js/bootstrap.min.js%22%3E%3C/script%3E%0A%20%20%20%20%3Cscript%20src%3D%22https%3A//cdnjs.cloudflare.com/ajax/libs/Leaflet.awesome-markers/2.0.2/leaflet.awesome-markers.js%22%3E%3C/script%3E%0A%20%20%20%20%3Clink%20rel%3D%22stylesheet%22%20href%3D%22https%3A//cdn.jsdelivr.net/npm/leaflet%401.6.0/dist/leaflet.css%22/%3E%0A%20%20%20%20%3Clink%20rel%3D%22stylesheet%22%20href%3D%22https%3A//maxcdn.bootstrapcdn.com/bootstrap/3.2.0/css/bootstrap.min.css%22/%3E%0A%20%20%20%20%3Clink%20rel%3D%22stylesheet%22%20href%3D%22https%3A//maxcdn.bootstrapcdn.com/bootstrap/3.2.0/css/bootstrap-theme.min.css%22/%3E%0A%20%20%20%20%3Clink%20rel%3D%22stylesheet%22%20href%3D%22https%3A//maxcdn.bootstrapcdn.com/font-awesome/4.6.3/css/font-awesome.min.css%22/%3E%0A%20%20%20%20%3Clink%20rel%3D%22stylesheet%22%20href%3D%22https%3A//cdnjs.cloudflare.com/ajax/libs/Leaflet.awesome-markers/2.0.2/leaflet.awesome-markers.css%22/%3E%0A%20%20%20%20%3Clink%20rel%3D%22stylesheet%22%20href%3D%22https%3A//cdn.jsdelivr.net/gh/python-visualization/folium/folium/templates/leaflet.awesome.rotate.min.css%22/%3E%0A%20%20%20%20%0A%20%20%20%20%20%20%20%20%20%20%20%20%3Cmeta%20name%3D%22viewport%22%20content%3D%22width%3Ddevice-width%2C%0A%20%20%20%20%20%20%20%20%20%20%20%20%20%20%20%20initial-scale%3D1.0%2C%20maximum-scale%3D1.0%2C%20user-scalable%3Dno%22%20/%3E%0A%20%20%20%20%20%20%20%20%20%20%20%20%3Cstyle%3E%0A%20%20%20%20%20%20%20%20%20%20%20%20%20%20%20%20%23map_b4c694412e3e45baab3ad55b72df1943%20%7B%0A%20%20%20%20%20%20%20%20%20%20%20%20%20%20%20%20%20%20%20%20position%3A%20relative%3B%0A%20%20%20%20%20%20%20%20%20%20%20%20%20%20%20%20%20%20%20%20width%3A%20100.0%25%3B%0A%20%20%20%20%20%20%20%20%20%20%20%20%20%20%20%20%20%20%20%20height%3A%20100.0%25%3B%0A%20%20%20%20%20%20%20%20%20%20%20%20%20%20%20%20%20%20%20%20left%3A%200.0%25%3B%0A%20%20%20%20%20%20%20%20%20%20%20%20%20%20%20%20%20%20%20%20top%3A%200.0%25%3B%0A%20%20%20%20%20%20%20%20%20%20%20%20%20%20%20%20%7D%0A%20%20%20%20%20%20%20%20%20%20%20%20%3C/style%3E%0A%20%20%20%20%20%20%20%20%0A%3C/head%3E%0A%3Cbody%3E%20%20%20%20%0A%20%20%20%20%0A%20%20%20%20%20%20%20%20%20%20%20%20%3Cdiv%20class%3D%22folium-map%22%20id%3D%22map_b4c694412e3e45baab3ad55b72df1943%22%20%3E%3C/div%3E%0A%20%20%20%20%20%20%20%20%0A%3C/body%3E%0A%3Cscript%3E%20%20%20%20%0A%20%20%20%20%0A%20%20%20%20%20%20%20%20%20%20%20%20var%20map_b4c694412e3e45baab3ad55b72df1943%20%3D%20L.map%28%0A%20%20%20%20%20%20%20%20%20%20%20%20%20%20%20%20%22map_b4c694412e3e45baab3ad55b72df1943%22%2C%0A%20%20%20%20%20%20%20%20%20%20%20%20%20%20%20%20%7B%0A%20%20%20%20%20%20%20%20%20%20%20%20%20%20%20%20%20%20%20%20center%3A%20%5B43.672399999999996%2C%207.056649999999999%5D%2C%0A%20%20%20%20%20%20%20%20%20%20%20%20%20%20%20%20%20%20%20%20crs%3A%20L.CRS.EPSG3857%2C%0A%20%20%20%20%20%20%20%20%20%20%20%20%20%20%20%20%20%20%20%20zoom%3A%2011%2C%0A%20%20%20%20%20%20%20%20%20%20%20%20%20%20%20%20%20%20%20%20zoomControl%3A%20true%2C%0A%20%20%20%20%20%20%20%20%20%20%20%20%20%20%20%20%20%20%20%20preferCanvas%3A%20false%2C%0A%20%20%20%20%20%20%20%20%20%20%20%20%20%20%20%20%7D%0A%20%20%20%20%20%20%20%20%20%20%20%20%29%3B%0A%0A%20%20%20%20%20%20%20%20%20%20%20%20%0A%0A%20%20%20%20%20%20%20%20%0A%20%20%20%20%0A%20%20%20%20%20%20%20%20%20%20%20%20var%20tile_layer_5446bf4a395141e19e386ca4efde49cc%20%3D%20L.tileLayer%28%0A%20%20%20%20%20%20%20%20%20%20%20%20%20%20%20%20%22https%3A//%7Bs%7D.tile.openstreetmap.org/%7Bz%7D/%7Bx%7D/%7By%7D.png%22%2C%0A%20%20%20%20%20%20%20%20%20%20%20%20%20%20%20%20%7B%22attribution%22%3A%20%22Data%20by%20%5Cu0026copy%3B%20%5Cu003ca%20href%3D%5C%22http%3A//openstreetmap.org%5C%22%5Cu003eOpenStreetMap%5Cu003c/a%5Cu003e%2C%20under%20%5Cu003ca%20href%3D%5C%22http%3A//www.openstreetmap.org/copyright%5C%22%5Cu003eODbL%5Cu003c/a%5Cu003e.%22%2C%20%22detectRetina%22%3A%20false%2C%20%22maxNativeZoom%22%3A%2018%2C%20%22maxZoom%22%3A%2018%2C%20%22minZoom%22%3A%200%2C%20%22noWrap%22%3A%20false%2C%20%22opacity%22%3A%201%2C%20%22subdomains%22%3A%20%22abc%22%2C%20%22tms%22%3A%20false%7D%0A%20%20%20%20%20%20%20%20%20%20%20%20%29.addTo%28map_b4c694412e3e45baab3ad55b72df1943%29%3B%0A%20%20%20%20%20%20%20%20%0A%20%20%20%20%0A%0A%20%20%20%20%20%20%20%20function%20geo_json_e18db9b598dc4bbcae0fdd36763c3b6d_onEachFeature%28feature%2C%20layer%29%20%7B%0A%20%20%20%20%20%20%20%20%20%20%20%20layer.on%28%7B%0A%20%20%20%20%20%20%20%20%20%20%20%20%7D%29%3B%0A%20%20%20%20%20%20%20%20%7D%3B%0A%20%20%20%20%20%20%20%20var%20geo_json_e18db9b598dc4bbcae0fdd36763c3b6d%20%3D%20L.geoJson%28null%2C%20%7B%0A%20%20%20%20%20%20%20%20%20%20%20%20%20%20%20%20onEachFeature%3A%20geo_json_e18db9b598dc4bbcae0fdd36763c3b6d_onEachFeature%2C%0A%20%20%20%20%20%20%20%20%20%20%20%20%0A%20%20%20%20%20%20%20%20%7D%29%3B%0A%0A%20%20%20%20%20%20%20%20function%20geo_json_e18db9b598dc4bbcae0fdd36763c3b6d_add%20%28data%29%20%7B%0A%20%20%20%20%20%20%20%20%20%20%20%20geo_json_e18db9b598dc4bbcae0fdd36763c3b6d%0A%20%20%20%20%20%20%20%20%20%20%20%20%20%20%20%20.addData%28data%29%0A%20%20%20%20%20%20%20%20%20%20%20%20%20%20%20%20.addTo%28map_b4c694412e3e45baab3ad55b72df1943%29%3B%0A%20%20%20%20%20%20%20%20%7D%0A%20%20%20%20%20%20%20%20%20%20%20%20geo_json_e18db9b598dc4bbcae0fdd36763c3b6d_add%28%7B%22bbox%22%3A%20%5B6.9929%2C%2043.6363%2C%207.1204%2C%2043.7085%5D%2C%20%22features%22%3A%20%5B%7B%22bbox%22%3A%20%5B6.9929%2C%2043.6363%2C%207.1204%2C%2043.7085%5D%2C%20%22geometry%22%3A%20%7B%22coordinates%22%3A%20%5B%5B%5B6.9929%2C%2043.7085%5D%2C%20%5B7.1204%2C%2043.7085%5D%2C%20%5B7.1204%2C%2043.6363%5D%2C%20%5B6.9929%2C%2043.6363%5D%2C%20%5B6.9929%2C%2043.7085%5D%5D%5D%2C%20%22type%22%3A%20%22Polygon%22%7D%2C%20%22id%22%3A%20%220%22%2C%20%22properties%22%3A%20%7B%22mixed%22%3A%20%22polygon1%22%7D%2C%20%22type%22%3A%20%22Feature%22%7D%5D%2C%20%22type%22%3A%20%22FeatureCollection%22%7D%29%3B%0A%0A%20%20%20%20%20%20%20%20%0A%3C/script%3E onload=\"this.contentDocument.open();this.contentDocument.write(    decodeURIComponent(this.getAttribute('data-html')));this.contentDocument.close();\" allowfullscreen webkitallowfullscreen mozallowfullscreen></iframe></div></div>"
      ],
      "text/plain": [
       "<folium.folium.Map at 0x1ea713cbf70>"
      ]
     },
     "execution_count": 12,
     "metadata": {},
     "output_type": "execute_result"
    }
   ],
   "source": [
    "# Center the map at the center of the area of interest, thanks to latitude and longitude coordinates:\n",
    "m = folium.Map([(N_lat+S_lat)/2,(W_long+E_long)/2], zoom_start=11)\n",
    "\n",
    "# Visualise the map and the shape of the area\n",
    "folium.GeoJson(area_shape).add_to(m)\n",
    "m"
   ]
  },
  {
   "cell_type": "markdown",
   "metadata": {
    "id": "0SLrInBC-dnV"
   },
   "source": [
    "Create a footprint from the shapefile geometry. Here we will use Shapely Python library since our data is in Shapefiles and read it already as Geopandas GeodataFrame. (Note that if you have Geojson data, Sentinelsat provides a handy way to convert your data into a proper format in the query)."
   ]
  },
  {
   "cell_type": "code",
   "execution_count": 13,
   "metadata": {
    "colab": {
     "base_uri": "https://localhost:8080/",
     "height": 120
    },
    "executionInfo": {
     "elapsed": 190,
     "status": "ok",
     "timestamp": 1621892464931,
     "user": {
      "displayName": "Caroline Stehlé",
      "photoUrl": "",
      "userId": "16859259941560680692"
     },
     "user_tz": -120
    },
    "id": "4O68RGlR-j2o",
    "outputId": "32e2e5b1-bedf-456f-99b9-d39dc4685d52"
   },
   "outputs": [
    {
     "data": {
      "image/svg+xml": [
       "<svg xmlns=\"http://www.w3.org/2000/svg\" xmlns:xlink=\"http://www.w3.org/1999/xlink\" width=\"100.0\" height=\"100.0\" viewBox=\"6.9878 43.6312 0.1376999999999997 0.0823999999999998\" preserveAspectRatio=\"xMinYMin meet\"><g transform=\"matrix(1,0,0,-1,0,87.34479999999999)\"><path fill-rule=\"evenodd\" fill=\"#66cc99\" stroke=\"#555555\" stroke-width=\"0.0027539999999999943\" opacity=\"0.6\" d=\"M 6.9929,43.7085 L 7.1204,43.7085 L 7.1204,43.6363 L 6.9929,43.6363 L 6.9929,43.7085 z\" /></g></svg>"
      ],
      "text/plain": [
       "<shapely.geometry.polygon.Polygon at 0x1ea6df705b0>"
      ]
     },
     "execution_count": 13,
     "metadata": {},
     "output_type": "execute_result"
    }
   ],
   "source": [
    "footprint = None\n",
    "for i in area_shape['geometry']:\n",
    "    footprint = i\n",
    "    \n",
    "footprint"
   ]
  },
  {
   "cell_type": "markdown",
   "metadata": {
    "id": "EhDmCRx2ELRq"
   },
   "source": [
    "# Download satellite file corresponding to footprint with Sentinel API"
   ]
  },
  {
   "cell_type": "markdown",
   "metadata": {
    "id": "aawIkoQlBRVn"
   },
   "source": [
    "Before we are able to use sentinelsat, we need to register a username in [Copernicus Open Access Hub](https://scihub.copernicus.eu/dhus/#/home) and note down your username and password and paste them here inside the code."
   ]
  },
  {
   "cell_type": "code",
   "execution_count": 14,
   "metadata": {
    "id": "Gr9Box3j9bj7"
   },
   "outputs": [],
   "source": [
    "user = 'cstehle' \n",
    "password = 'mdpCopernicus01'\n",
    "\n",
    "api = SentinelAPI(user, password, 'https://scihub.copernicus.eu/dhus')"
   ]
  },
  {
   "cell_type": "markdown",
   "metadata": {
    "id": "HgyAux3496D5"
   },
   "source": [
    "Run a query for Sentinel-2 images with Level 2A with cloud coverage between 0 and 2 % that fall or intersect with the footprint (Area of study). For the time period, we are interested in Sentinel Level 2A satellite images taken between '20210201' and '20210228' (For reference on valid search queries please refer to [scihub](https://scihub.copernicus.eu/twiki/do/view/SciHubUserGuide/FullTextSearch?redirectedfrom=SciHubUserGuide.3FullTextSearch))."
   ]
  },
  {
   "cell_type": "code",
   "execution_count": 15,
   "metadata": {
    "id": "oiJlGYzMiC7h"
   },
   "outputs": [],
   "source": [
    "# Remark: if we do the search with the area footprint as a polygon or rectangle, \n",
    "# we perform a Geographical search of the products \n",
    "# whose footprint intersects or is included in the given area footprint.\n",
    "# products = api.query(footprint,\n",
    "#                   date = ('20210201', '20210430'),\n",
    "#                   platformname = 'Sentinel-2',\n",
    "#                   processinglevel = 'Level-2A',\n",
    "#                   cloudcoverpercentage = (0,2))"
   ]
  },
  {
   "cell_type": "code",
   "execution_count": 16,
   "metadata": {
    "id": "OzITytaHCz6M"
   },
   "outputs": [],
   "source": [
    "# To be sure that the whole rectangle that we want is included in the satellite image, \n",
    "# we perform 4 searches that include points = the corners of the rectangle of interest\n",
    "# and we look for the intersection of these searches:\n",
    "prod = []\n",
    "for p in area_points_list:\n",
    "   res = api.query(p,\n",
    "                     date = ('20220101', '20220228'),\n",
    "                     platformname = 'Sentinel-2',\n",
    "                     processinglevel = 'Level-2A',\n",
    "                     cloudcoverpercentage = (0,2))\n",
    "   prod.append(res)\n",
    "\n",
    "shared_keys = prod[0].keys() & prod[1].keys() & prod[2].keys() & prod[3].keys()\n",
    "dict_intersection = {k: prod[0][k] for k in shared_keys }\n",
    "products = dict_intersection"
   ]
  },
  {
   "cell_type": "markdown",
   "metadata": {
    "id": "mqevEhTWAuGM"
   },
   "source": [
    "We get a dictionary of all products available in this period with the query specification."
   ]
  },
  {
   "cell_type": "code",
   "execution_count": 15,
   "metadata": {
    "colab": {
     "base_uri": "https://localhost:8080/"
    },
    "executionInfo": {
     "elapsed": 9,
     "status": "ok",
     "timestamp": 1621928426775,
     "user": {
      "displayName": "Caroline Stehlé",
      "photoUrl": "",
      "userId": "16859259941560680692"
     },
     "user_tz": -120
    },
    "id": "O1WjcSK6mjRq",
    "outputId": "5f3c63b7-59bb-42fa-88c0-c6cdb8eb7354"
   },
   "outputs": [
    {
     "name": "stdout",
     "output_type": "stream",
     "text": [
      "Number of products found:  9\n"
     ]
    }
   ],
   "source": [
    "# Check number of products from the query\n",
    "if len(products) > 0:\n",
    "   print(\"Number of products found: \",len(products))\n",
    "else:\n",
    "   print(\"No products found. Try to rerun the query by changing the parameters (ex: increase cloudcoverpercentage or date window) \")   "
   ]
  },
  {
   "cell_type": "markdown",
   "metadata": {
    "id": "jsytqOCYA-tG"
   },
   "source": [
    "From here we can create a GeodataFrame or Dataframe from the product dictionary and sort them according to cloud coverage percentage."
   ]
  },
  {
   "cell_type": "code",
   "execution_count": 16,
   "metadata": {
    "colab": {
     "base_uri": "https://localhost:8080/",
     "height": 479
    },
    "executionInfo": {
     "elapsed": 12,
     "status": "ok",
     "timestamp": 1621928428013,
     "user": {
      "displayName": "Caroline Stehlé",
      "photoUrl": "",
      "userId": "16859259941560680692"
     },
     "user_tz": -120
    },
    "id": "atHf5SsIBB_4",
    "outputId": "b69fcd9a-8b02-4b7f-99df-2dd55b654484"
   },
   "outputs": [
    {
     "data": {
      "text/html": [
       "<div>\n",
       "<style scoped>\n",
       "    .dataframe tbody tr th:only-of-type {\n",
       "        vertical-align: middle;\n",
       "    }\n",
       "\n",
       "    .dataframe tbody tr th {\n",
       "        vertical-align: top;\n",
       "    }\n",
       "\n",
       "    .dataframe thead th {\n",
       "        text-align: right;\n",
       "    }\n",
       "</style>\n",
       "<table border=\"1\" class=\"dataframe\">\n",
       "  <thead>\n",
       "    <tr style=\"text-align: right;\">\n",
       "      <th></th>\n",
       "      <th>title</th>\n",
       "      <th>link</th>\n",
       "      <th>link_alternative</th>\n",
       "      <th>link_icon</th>\n",
       "      <th>summary</th>\n",
       "      <th>ondemand</th>\n",
       "      <th>generationdate</th>\n",
       "      <th>beginposition</th>\n",
       "      <th>endposition</th>\n",
       "      <th>ingestiondate</th>\n",
       "      <th>...</th>\n",
       "      <th>producttype</th>\n",
       "      <th>platformidentifier</th>\n",
       "      <th>orbitdirection</th>\n",
       "      <th>platformserialidentifier</th>\n",
       "      <th>processinglevel</th>\n",
       "      <th>datastripidentifier</th>\n",
       "      <th>granuleidentifier</th>\n",
       "      <th>identifier</th>\n",
       "      <th>uuid</th>\n",
       "      <th>geometry</th>\n",
       "    </tr>\n",
       "  </thead>\n",
       "  <tbody>\n",
       "    <tr>\n",
       "      <th>11c5e6f2-18e3-49c7-a6e7-d4c150ee2869</th>\n",
       "      <td>S2B_MSIL2A_20220129T103159_N0400_R108_T32TLP_2...</td>\n",
       "      <td>https://scihub.copernicus.eu/dhus/odata/v1/Pro...</td>\n",
       "      <td>https://scihub.copernicus.eu/dhus/odata/v1/Pro...</td>\n",
       "      <td>https://scihub.copernicus.eu/dhus/odata/v1/Pro...</td>\n",
       "      <td>Date: 2022-01-29T10:31:59.024Z, Instrument: MS...</td>\n",
       "      <td>false</td>\n",
       "      <td>2022-01-29 12:09:45</td>\n",
       "      <td>2022-01-29 10:31:59.024</td>\n",
       "      <td>2022-01-29 10:31:59.024</td>\n",
       "      <td>2022-01-29 16:39:34.397</td>\n",
       "      <td>...</td>\n",
       "      <td>S2MSI2A</td>\n",
       "      <td>2017-013A</td>\n",
       "      <td>DESCENDING</td>\n",
       "      <td>Sentinel-2B</td>\n",
       "      <td>Level-2A</td>\n",
       "      <td>S2B_OPER_MSI_L2A_DS_VGS4_20220129T120945_S2022...</td>\n",
       "      <td>S2B_OPER_MSI_L2A_TL_VGS4_20220129T120945_A0255...</td>\n",
       "      <td>S2B_MSIL2A_20220129T103159_N0400_R108_T32TLP_2...</td>\n",
       "      <td>11c5e6f2-18e3-49c7-a6e7-d4c150ee2869</td>\n",
       "      <td>MULTIPOLYGON (((6.53677 43.23826, 7.77074 43.2...</td>\n",
       "    </tr>\n",
       "    <tr>\n",
       "      <th>f1e4dcb6-cd48-4dc9-a1fa-7824cc45abc0</th>\n",
       "      <td>S2B_MSIL2A_20220208T103109_N0400_R108_T32TLP_2...</td>\n",
       "      <td>https://scihub.copernicus.eu/dhus/odata/v1/Pro...</td>\n",
       "      <td>https://scihub.copernicus.eu/dhus/odata/v1/Pro...</td>\n",
       "      <td>https://scihub.copernicus.eu/dhus/odata/v1/Pro...</td>\n",
       "      <td>Date: 2022-02-08T10:31:09.024Z, Instrument: MS...</td>\n",
       "      <td>false</td>\n",
       "      <td>2022-02-08 14:35:49</td>\n",
       "      <td>2022-02-08 10:31:09.024</td>\n",
       "      <td>2022-02-08 10:31:09.024</td>\n",
       "      <td>2022-02-08 18:48:57.754</td>\n",
       "      <td>...</td>\n",
       "      <td>S2MSI2A</td>\n",
       "      <td>2017-013A</td>\n",
       "      <td>DESCENDING</td>\n",
       "      <td>Sentinel-2B</td>\n",
       "      <td>Level-2A</td>\n",
       "      <td>S2B_OPER_MSI_L2A_DS_VGS2_20220208T143549_S2022...</td>\n",
       "      <td>S2B_OPER_MSI_L2A_TL_VGS2_20220208T143549_A0257...</td>\n",
       "      <td>S2B_MSIL2A_20220208T103109_N0400_R108_T32TLP_2...</td>\n",
       "      <td>f1e4dcb6-cd48-4dc9-a1fa-7824cc45abc0</td>\n",
       "      <td>MULTIPOLYGON (((6.53677 43.23826, 7.76332 43.2...</td>\n",
       "    </tr>\n",
       "    <tr>\n",
       "      <th>307cb3e2-8d66-4683-8ec9-2a9f5a8ff1f3</th>\n",
       "      <td>S2A_MSIL2A_20220210T102151_N0400_R065_T32TLP_2...</td>\n",
       "      <td>https://scihub.copernicus.eu/dhus/odata/v1/Pro...</td>\n",
       "      <td>https://scihub.copernicus.eu/dhus/odata/v1/Pro...</td>\n",
       "      <td>https://scihub.copernicus.eu/dhus/odata/v1/Pro...</td>\n",
       "      <td>Date: 2022-02-10T10:21:51.024Z, Instrument: MS...</td>\n",
       "      <td>false</td>\n",
       "      <td>2022-02-10 15:34:00</td>\n",
       "      <td>2022-02-10 10:21:51.024</td>\n",
       "      <td>2022-02-10 10:21:51.024</td>\n",
       "      <td>2022-02-10 21:28:40.939</td>\n",
       "      <td>...</td>\n",
       "      <td>S2MSI2A</td>\n",
       "      <td>2015-028A</td>\n",
       "      <td>DESCENDING</td>\n",
       "      <td>Sentinel-2A</td>\n",
       "      <td>Level-2A</td>\n",
       "      <td>S2A_OPER_MSI_L2A_DS_VGS2_20220210T153400_S2022...</td>\n",
       "      <td>S2A_OPER_MSI_L2A_TL_VGS2_20220210T153400_A0346...</td>\n",
       "      <td>S2A_MSIL2A_20220210T102151_N0400_R065_T32TLP_2...</td>\n",
       "      <td>307cb3e2-8d66-4683-8ec9-2a9f5a8ff1f3</td>\n",
       "      <td>MULTIPOLYGON (((6.53677 43.23826, 7.88868 43.2...</td>\n",
       "    </tr>\n",
       "    <tr>\n",
       "      <th>33adc1cd-3206-4dc9-9e00-9f779f6c4226</th>\n",
       "      <td>S2A_MSIL2A_20220223T103031_N0400_R108_T32TLP_2...</td>\n",
       "      <td>https://scihub.copernicus.eu/dhus/odata/v1/Pro...</td>\n",
       "      <td>https://scihub.copernicus.eu/dhus/odata/v1/Pro...</td>\n",
       "      <td>https://scihub.copernicus.eu/dhus/odata/v1/Pro...</td>\n",
       "      <td>Date: 2022-02-23T10:30:31.024Z, Instrument: MS...</td>\n",
       "      <td>false</td>\n",
       "      <td>2022-02-23 15:41:41</td>\n",
       "      <td>2022-02-23 10:30:31.024</td>\n",
       "      <td>2022-02-23 10:30:31.024</td>\n",
       "      <td>2022-02-23 21:38:41.575</td>\n",
       "      <td>...</td>\n",
       "      <td>S2MSI2A</td>\n",
       "      <td>2015-028A</td>\n",
       "      <td>DESCENDING</td>\n",
       "      <td>Sentinel-2A</td>\n",
       "      <td>Level-2A</td>\n",
       "      <td>S2A_OPER_MSI_L2A_DS_VGS2_20220223T154141_S2022...</td>\n",
       "      <td>S2A_OPER_MSI_L2A_TL_VGS2_20220223T154141_A0348...</td>\n",
       "      <td>S2A_MSIL2A_20220223T103031_N0400_R108_T32TLP_2...</td>\n",
       "      <td>33adc1cd-3206-4dc9-9e00-9f779f6c4226</td>\n",
       "      <td>MULTIPOLYGON (((6.53677 43.23826, 7.75939 43.2...</td>\n",
       "    </tr>\n",
       "    <tr>\n",
       "      <th>b40cf9be-10e3-4fd3-a78a-41c6f8695175</th>\n",
       "      <td>S2A_MSIL2A_20220121T102331_N0301_R065_T32TLP_2...</td>\n",
       "      <td>https://scihub.copernicus.eu/dhus/odata/v1/Pro...</td>\n",
       "      <td>https://scihub.copernicus.eu/dhus/odata/v1/Pro...</td>\n",
       "      <td>https://scihub.copernicus.eu/dhus/odata/v1/Pro...</td>\n",
       "      <td>Date: 2022-01-21T10:23:31.024Z, Instrument: MS...</td>\n",
       "      <td>false</td>\n",
       "      <td>2022-01-21 13:15:36</td>\n",
       "      <td>2022-01-21 10:23:31.024</td>\n",
       "      <td>2022-01-21 10:23:31.024</td>\n",
       "      <td>2022-01-21 16:31:30.468</td>\n",
       "      <td>...</td>\n",
       "      <td>S2MSI2A</td>\n",
       "      <td>2015-028A</td>\n",
       "      <td>DESCENDING</td>\n",
       "      <td>Sentinel-2A</td>\n",
       "      <td>Level-2A</td>\n",
       "      <td>S2A_OPER_MSI_L2A_DS_VGS2_20220121T131536_S2022...</td>\n",
       "      <td>S2A_OPER_MSI_L2A_TL_VGS2_20220121T131536_A0343...</td>\n",
       "      <td>S2A_MSIL2A_20220121T102331_N0301_R065_T32TLP_2...</td>\n",
       "      <td>b40cf9be-10e3-4fd3-a78a-41c6f8695175</td>\n",
       "      <td>MULTIPOLYGON (((6.53677 43.23826, 7.88868 43.2...</td>\n",
       "    </tr>\n",
       "    <tr>\n",
       "      <th>3b8bc993-52ff-4b0a-af7b-c083ab8c5bb2</th>\n",
       "      <td>S2A_MSIL2A_20220124T103331_N0301_R108_T32TLP_2...</td>\n",
       "      <td>https://scihub.copernicus.eu/dhus/odata/v1/Pro...</td>\n",
       "      <td>https://scihub.copernicus.eu/dhus/odata/v1/Pro...</td>\n",
       "      <td>https://scihub.copernicus.eu/dhus/odata/v1/Pro...</td>\n",
       "      <td>Date: 2022-01-24T10:33:31.024Z, Instrument: MS...</td>\n",
       "      <td>false</td>\n",
       "      <td>2022-01-24 16:37:34</td>\n",
       "      <td>2022-01-24 10:33:31.024</td>\n",
       "      <td>2022-01-24 10:33:31.024</td>\n",
       "      <td>2022-01-25 00:15:17.745</td>\n",
       "      <td>...</td>\n",
       "      <td>S2MSI2A</td>\n",
       "      <td>2015-028A</td>\n",
       "      <td>DESCENDING</td>\n",
       "      <td>Sentinel-2A</td>\n",
       "      <td>Level-2A</td>\n",
       "      <td>S2A_OPER_MSI_L2A_DS_VGS2_20220124T163734_S2022...</td>\n",
       "      <td>S2A_OPER_MSI_L2A_TL_VGS2_20220124T163734_A0344...</td>\n",
       "      <td>S2A_MSIL2A_20220124T103331_N0301_R108_T32TLP_2...</td>\n",
       "      <td>3b8bc993-52ff-4b0a-af7b-c083ab8c5bb2</td>\n",
       "      <td>MULTIPOLYGON (((6.53677 43.23826, 7.76326 43.2...</td>\n",
       "    </tr>\n",
       "    <tr>\n",
       "      <th>83c3a52d-d7af-4958-af34-45c3571d38bf</th>\n",
       "      <td>S2A_MSIL2A_20220114T103401_N0301_R108_T32TLP_2...</td>\n",
       "      <td>https://scihub.copernicus.eu/dhus/odata/v1/Pro...</td>\n",
       "      <td>https://scihub.copernicus.eu/dhus/odata/v1/Pro...</td>\n",
       "      <td>https://scihub.copernicus.eu/dhus/odata/v1/Pro...</td>\n",
       "      <td>Date: 2022-01-14T10:34:01.024Z, Instrument: MS...</td>\n",
       "      <td>false</td>\n",
       "      <td>2022-01-14 13:27:49</td>\n",
       "      <td>2022-01-14 10:34:01.024</td>\n",
       "      <td>2022-01-14 10:34:01.024</td>\n",
       "      <td>2022-01-14 16:41:59.942</td>\n",
       "      <td>...</td>\n",
       "      <td>S2MSI2A</td>\n",
       "      <td>2015-028A</td>\n",
       "      <td>DESCENDING</td>\n",
       "      <td>Sentinel-2A</td>\n",
       "      <td>Level-2A</td>\n",
       "      <td>S2A_OPER_MSI_L2A_DS_VGS2_20220114T132749_S2022...</td>\n",
       "      <td>S2A_OPER_MSI_L2A_TL_VGS2_20220114T132749_A0342...</td>\n",
       "      <td>S2A_MSIL2A_20220114T103401_N0301_R108_T32TLP_2...</td>\n",
       "      <td>83c3a52d-d7af-4958-af34-45c3571d38bf</td>\n",
       "      <td>MULTIPOLYGON (((6.53677 43.23826, 7.76379 43.2...</td>\n",
       "    </tr>\n",
       "    <tr>\n",
       "      <th>83ff9837-1015-4633-b20a-45bc410c8585</th>\n",
       "      <td>S2A_MSIL2A_20220220T102051_N0400_R065_T32TLP_2...</td>\n",
       "      <td>https://scihub.copernicus.eu/dhus/odata/v1/Pro...</td>\n",
       "      <td>https://scihub.copernicus.eu/dhus/odata/v1/Pro...</td>\n",
       "      <td>https://scihub.copernicus.eu/dhus/odata/v1/Pro...</td>\n",
       "      <td>Date: 2022-02-20T10:20:51.024Z, Instrument: MS...</td>\n",
       "      <td>false</td>\n",
       "      <td>2022-02-20 15:25:32</td>\n",
       "      <td>2022-02-20 10:20:51.024</td>\n",
       "      <td>2022-02-20 10:20:51.024</td>\n",
       "      <td>2022-02-20 20:14:58.246</td>\n",
       "      <td>...</td>\n",
       "      <td>S2MSI2A</td>\n",
       "      <td>2015-028A</td>\n",
       "      <td>DESCENDING</td>\n",
       "      <td>Sentinel-2A</td>\n",
       "      <td>Level-2A</td>\n",
       "      <td>S2A_OPER_MSI_L2A_DS_VGS2_20220220T152532_S2022...</td>\n",
       "      <td>S2A_OPER_MSI_L2A_TL_VGS2_20220220T152532_A0348...</td>\n",
       "      <td>S2A_MSIL2A_20220220T102051_N0400_R065_T32TLP_2...</td>\n",
       "      <td>83ff9837-1015-4633-b20a-45bc410c8585</td>\n",
       "      <td>MULTIPOLYGON (((6.53677 43.23826, 7.88868 43.2...</td>\n",
       "    </tr>\n",
       "    <tr>\n",
       "      <th>5c97cf8f-13d1-412a-b9b4-323bccba414f</th>\n",
       "      <td>S2A_MSIL2A_20220111T102411_N0301_R065_T32TLP_2...</td>\n",
       "      <td>https://scihub.copernicus.eu/dhus/odata/v1/Pro...</td>\n",
       "      <td>https://scihub.copernicus.eu/dhus/odata/v1/Pro...</td>\n",
       "      <td>https://scihub.copernicus.eu/dhus/odata/v1/Pro...</td>\n",
       "      <td>Date: 2022-01-11T10:24:11.024Z, Instrument: MS...</td>\n",
       "      <td>false</td>\n",
       "      <td>2022-01-11 13:15:16</td>\n",
       "      <td>2022-01-11 10:24:11.024</td>\n",
       "      <td>2022-01-11 10:24:11.024</td>\n",
       "      <td>2022-01-11 15:36:23.103</td>\n",
       "      <td>...</td>\n",
       "      <td>S2MSI2A</td>\n",
       "      <td>2015-028A</td>\n",
       "      <td>DESCENDING</td>\n",
       "      <td>Sentinel-2A</td>\n",
       "      <td>Level-2A</td>\n",
       "      <td>S2A_OPER_MSI_L2A_DS_VGS2_20220111T131516_S2022...</td>\n",
       "      <td>S2A_OPER_MSI_L2A_TL_VGS2_20220111T131516_A0342...</td>\n",
       "      <td>S2A_MSIL2A_20220111T102411_N0301_R065_T32TLP_2...</td>\n",
       "      <td>5c97cf8f-13d1-412a-b9b4-323bccba414f</td>\n",
       "      <td>MULTIPOLYGON (((6.53677 43.23826, 7.88868 43.2...</td>\n",
       "    </tr>\n",
       "  </tbody>\n",
       "</table>\n",
       "<p>9 rows × 41 columns</p>\n",
       "</div>"
      ],
      "text/plain": [
       "                                                                                  title  \\\n",
       "11c5e6f2-18e3-49c7-a6e7-d4c150ee2869  S2B_MSIL2A_20220129T103159_N0400_R108_T32TLP_2...   \n",
       "f1e4dcb6-cd48-4dc9-a1fa-7824cc45abc0  S2B_MSIL2A_20220208T103109_N0400_R108_T32TLP_2...   \n",
       "307cb3e2-8d66-4683-8ec9-2a9f5a8ff1f3  S2A_MSIL2A_20220210T102151_N0400_R065_T32TLP_2...   \n",
       "33adc1cd-3206-4dc9-9e00-9f779f6c4226  S2A_MSIL2A_20220223T103031_N0400_R108_T32TLP_2...   \n",
       "b40cf9be-10e3-4fd3-a78a-41c6f8695175  S2A_MSIL2A_20220121T102331_N0301_R065_T32TLP_2...   \n",
       "3b8bc993-52ff-4b0a-af7b-c083ab8c5bb2  S2A_MSIL2A_20220124T103331_N0301_R108_T32TLP_2...   \n",
       "83c3a52d-d7af-4958-af34-45c3571d38bf  S2A_MSIL2A_20220114T103401_N0301_R108_T32TLP_2...   \n",
       "83ff9837-1015-4633-b20a-45bc410c8585  S2A_MSIL2A_20220220T102051_N0400_R065_T32TLP_2...   \n",
       "5c97cf8f-13d1-412a-b9b4-323bccba414f  S2A_MSIL2A_20220111T102411_N0301_R065_T32TLP_2...   \n",
       "\n",
       "                                                                                   link  \\\n",
       "11c5e6f2-18e3-49c7-a6e7-d4c150ee2869  https://scihub.copernicus.eu/dhus/odata/v1/Pro...   \n",
       "f1e4dcb6-cd48-4dc9-a1fa-7824cc45abc0  https://scihub.copernicus.eu/dhus/odata/v1/Pro...   \n",
       "307cb3e2-8d66-4683-8ec9-2a9f5a8ff1f3  https://scihub.copernicus.eu/dhus/odata/v1/Pro...   \n",
       "33adc1cd-3206-4dc9-9e00-9f779f6c4226  https://scihub.copernicus.eu/dhus/odata/v1/Pro...   \n",
       "b40cf9be-10e3-4fd3-a78a-41c6f8695175  https://scihub.copernicus.eu/dhus/odata/v1/Pro...   \n",
       "3b8bc993-52ff-4b0a-af7b-c083ab8c5bb2  https://scihub.copernicus.eu/dhus/odata/v1/Pro...   \n",
       "83c3a52d-d7af-4958-af34-45c3571d38bf  https://scihub.copernicus.eu/dhus/odata/v1/Pro...   \n",
       "83ff9837-1015-4633-b20a-45bc410c8585  https://scihub.copernicus.eu/dhus/odata/v1/Pro...   \n",
       "5c97cf8f-13d1-412a-b9b4-323bccba414f  https://scihub.copernicus.eu/dhus/odata/v1/Pro...   \n",
       "\n",
       "                                                                       link_alternative  \\\n",
       "11c5e6f2-18e3-49c7-a6e7-d4c150ee2869  https://scihub.copernicus.eu/dhus/odata/v1/Pro...   \n",
       "f1e4dcb6-cd48-4dc9-a1fa-7824cc45abc0  https://scihub.copernicus.eu/dhus/odata/v1/Pro...   \n",
       "307cb3e2-8d66-4683-8ec9-2a9f5a8ff1f3  https://scihub.copernicus.eu/dhus/odata/v1/Pro...   \n",
       "33adc1cd-3206-4dc9-9e00-9f779f6c4226  https://scihub.copernicus.eu/dhus/odata/v1/Pro...   \n",
       "b40cf9be-10e3-4fd3-a78a-41c6f8695175  https://scihub.copernicus.eu/dhus/odata/v1/Pro...   \n",
       "3b8bc993-52ff-4b0a-af7b-c083ab8c5bb2  https://scihub.copernicus.eu/dhus/odata/v1/Pro...   \n",
       "83c3a52d-d7af-4958-af34-45c3571d38bf  https://scihub.copernicus.eu/dhus/odata/v1/Pro...   \n",
       "83ff9837-1015-4633-b20a-45bc410c8585  https://scihub.copernicus.eu/dhus/odata/v1/Pro...   \n",
       "5c97cf8f-13d1-412a-b9b4-323bccba414f  https://scihub.copernicus.eu/dhus/odata/v1/Pro...   \n",
       "\n",
       "                                                                              link_icon  \\\n",
       "11c5e6f2-18e3-49c7-a6e7-d4c150ee2869  https://scihub.copernicus.eu/dhus/odata/v1/Pro...   \n",
       "f1e4dcb6-cd48-4dc9-a1fa-7824cc45abc0  https://scihub.copernicus.eu/dhus/odata/v1/Pro...   \n",
       "307cb3e2-8d66-4683-8ec9-2a9f5a8ff1f3  https://scihub.copernicus.eu/dhus/odata/v1/Pro...   \n",
       "33adc1cd-3206-4dc9-9e00-9f779f6c4226  https://scihub.copernicus.eu/dhus/odata/v1/Pro...   \n",
       "b40cf9be-10e3-4fd3-a78a-41c6f8695175  https://scihub.copernicus.eu/dhus/odata/v1/Pro...   \n",
       "3b8bc993-52ff-4b0a-af7b-c083ab8c5bb2  https://scihub.copernicus.eu/dhus/odata/v1/Pro...   \n",
       "83c3a52d-d7af-4958-af34-45c3571d38bf  https://scihub.copernicus.eu/dhus/odata/v1/Pro...   \n",
       "83ff9837-1015-4633-b20a-45bc410c8585  https://scihub.copernicus.eu/dhus/odata/v1/Pro...   \n",
       "5c97cf8f-13d1-412a-b9b4-323bccba414f  https://scihub.copernicus.eu/dhus/odata/v1/Pro...   \n",
       "\n",
       "                                                                                summary  \\\n",
       "11c5e6f2-18e3-49c7-a6e7-d4c150ee2869  Date: 2022-01-29T10:31:59.024Z, Instrument: MS...   \n",
       "f1e4dcb6-cd48-4dc9-a1fa-7824cc45abc0  Date: 2022-02-08T10:31:09.024Z, Instrument: MS...   \n",
       "307cb3e2-8d66-4683-8ec9-2a9f5a8ff1f3  Date: 2022-02-10T10:21:51.024Z, Instrument: MS...   \n",
       "33adc1cd-3206-4dc9-9e00-9f779f6c4226  Date: 2022-02-23T10:30:31.024Z, Instrument: MS...   \n",
       "b40cf9be-10e3-4fd3-a78a-41c6f8695175  Date: 2022-01-21T10:23:31.024Z, Instrument: MS...   \n",
       "3b8bc993-52ff-4b0a-af7b-c083ab8c5bb2  Date: 2022-01-24T10:33:31.024Z, Instrument: MS...   \n",
       "83c3a52d-d7af-4958-af34-45c3571d38bf  Date: 2022-01-14T10:34:01.024Z, Instrument: MS...   \n",
       "83ff9837-1015-4633-b20a-45bc410c8585  Date: 2022-02-20T10:20:51.024Z, Instrument: MS...   \n",
       "5c97cf8f-13d1-412a-b9b4-323bccba414f  Date: 2022-01-11T10:24:11.024Z, Instrument: MS...   \n",
       "\n",
       "                                     ondemand      generationdate  \\\n",
       "11c5e6f2-18e3-49c7-a6e7-d4c150ee2869    false 2022-01-29 12:09:45   \n",
       "f1e4dcb6-cd48-4dc9-a1fa-7824cc45abc0    false 2022-02-08 14:35:49   \n",
       "307cb3e2-8d66-4683-8ec9-2a9f5a8ff1f3    false 2022-02-10 15:34:00   \n",
       "33adc1cd-3206-4dc9-9e00-9f779f6c4226    false 2022-02-23 15:41:41   \n",
       "b40cf9be-10e3-4fd3-a78a-41c6f8695175    false 2022-01-21 13:15:36   \n",
       "3b8bc993-52ff-4b0a-af7b-c083ab8c5bb2    false 2022-01-24 16:37:34   \n",
       "83c3a52d-d7af-4958-af34-45c3571d38bf    false 2022-01-14 13:27:49   \n",
       "83ff9837-1015-4633-b20a-45bc410c8585    false 2022-02-20 15:25:32   \n",
       "5c97cf8f-13d1-412a-b9b4-323bccba414f    false 2022-01-11 13:15:16   \n",
       "\n",
       "                                               beginposition  \\\n",
       "11c5e6f2-18e3-49c7-a6e7-d4c150ee2869 2022-01-29 10:31:59.024   \n",
       "f1e4dcb6-cd48-4dc9-a1fa-7824cc45abc0 2022-02-08 10:31:09.024   \n",
       "307cb3e2-8d66-4683-8ec9-2a9f5a8ff1f3 2022-02-10 10:21:51.024   \n",
       "33adc1cd-3206-4dc9-9e00-9f779f6c4226 2022-02-23 10:30:31.024   \n",
       "b40cf9be-10e3-4fd3-a78a-41c6f8695175 2022-01-21 10:23:31.024   \n",
       "3b8bc993-52ff-4b0a-af7b-c083ab8c5bb2 2022-01-24 10:33:31.024   \n",
       "83c3a52d-d7af-4958-af34-45c3571d38bf 2022-01-14 10:34:01.024   \n",
       "83ff9837-1015-4633-b20a-45bc410c8585 2022-02-20 10:20:51.024   \n",
       "5c97cf8f-13d1-412a-b9b4-323bccba414f 2022-01-11 10:24:11.024   \n",
       "\n",
       "                                                 endposition  \\\n",
       "11c5e6f2-18e3-49c7-a6e7-d4c150ee2869 2022-01-29 10:31:59.024   \n",
       "f1e4dcb6-cd48-4dc9-a1fa-7824cc45abc0 2022-02-08 10:31:09.024   \n",
       "307cb3e2-8d66-4683-8ec9-2a9f5a8ff1f3 2022-02-10 10:21:51.024   \n",
       "33adc1cd-3206-4dc9-9e00-9f779f6c4226 2022-02-23 10:30:31.024   \n",
       "b40cf9be-10e3-4fd3-a78a-41c6f8695175 2022-01-21 10:23:31.024   \n",
       "3b8bc993-52ff-4b0a-af7b-c083ab8c5bb2 2022-01-24 10:33:31.024   \n",
       "83c3a52d-d7af-4958-af34-45c3571d38bf 2022-01-14 10:34:01.024   \n",
       "83ff9837-1015-4633-b20a-45bc410c8585 2022-02-20 10:20:51.024   \n",
       "5c97cf8f-13d1-412a-b9b4-323bccba414f 2022-01-11 10:24:11.024   \n",
       "\n",
       "                                               ingestiondate  ...  \\\n",
       "11c5e6f2-18e3-49c7-a6e7-d4c150ee2869 2022-01-29 16:39:34.397  ...   \n",
       "f1e4dcb6-cd48-4dc9-a1fa-7824cc45abc0 2022-02-08 18:48:57.754  ...   \n",
       "307cb3e2-8d66-4683-8ec9-2a9f5a8ff1f3 2022-02-10 21:28:40.939  ...   \n",
       "33adc1cd-3206-4dc9-9e00-9f779f6c4226 2022-02-23 21:38:41.575  ...   \n",
       "b40cf9be-10e3-4fd3-a78a-41c6f8695175 2022-01-21 16:31:30.468  ...   \n",
       "3b8bc993-52ff-4b0a-af7b-c083ab8c5bb2 2022-01-25 00:15:17.745  ...   \n",
       "83c3a52d-d7af-4958-af34-45c3571d38bf 2022-01-14 16:41:59.942  ...   \n",
       "83ff9837-1015-4633-b20a-45bc410c8585 2022-02-20 20:14:58.246  ...   \n",
       "5c97cf8f-13d1-412a-b9b4-323bccba414f 2022-01-11 15:36:23.103  ...   \n",
       "\n",
       "                                      producttype  platformidentifier  \\\n",
       "11c5e6f2-18e3-49c7-a6e7-d4c150ee2869      S2MSI2A           2017-013A   \n",
       "f1e4dcb6-cd48-4dc9-a1fa-7824cc45abc0      S2MSI2A           2017-013A   \n",
       "307cb3e2-8d66-4683-8ec9-2a9f5a8ff1f3      S2MSI2A           2015-028A   \n",
       "33adc1cd-3206-4dc9-9e00-9f779f6c4226      S2MSI2A           2015-028A   \n",
       "b40cf9be-10e3-4fd3-a78a-41c6f8695175      S2MSI2A           2015-028A   \n",
       "3b8bc993-52ff-4b0a-af7b-c083ab8c5bb2      S2MSI2A           2015-028A   \n",
       "83c3a52d-d7af-4958-af34-45c3571d38bf      S2MSI2A           2015-028A   \n",
       "83ff9837-1015-4633-b20a-45bc410c8585      S2MSI2A           2015-028A   \n",
       "5c97cf8f-13d1-412a-b9b4-323bccba414f      S2MSI2A           2015-028A   \n",
       "\n",
       "                                      orbitdirection  \\\n",
       "11c5e6f2-18e3-49c7-a6e7-d4c150ee2869      DESCENDING   \n",
       "f1e4dcb6-cd48-4dc9-a1fa-7824cc45abc0      DESCENDING   \n",
       "307cb3e2-8d66-4683-8ec9-2a9f5a8ff1f3      DESCENDING   \n",
       "33adc1cd-3206-4dc9-9e00-9f779f6c4226      DESCENDING   \n",
       "b40cf9be-10e3-4fd3-a78a-41c6f8695175      DESCENDING   \n",
       "3b8bc993-52ff-4b0a-af7b-c083ab8c5bb2      DESCENDING   \n",
       "83c3a52d-d7af-4958-af34-45c3571d38bf      DESCENDING   \n",
       "83ff9837-1015-4633-b20a-45bc410c8585      DESCENDING   \n",
       "5c97cf8f-13d1-412a-b9b4-323bccba414f      DESCENDING   \n",
       "\n",
       "                                      platformserialidentifier  \\\n",
       "11c5e6f2-18e3-49c7-a6e7-d4c150ee2869               Sentinel-2B   \n",
       "f1e4dcb6-cd48-4dc9-a1fa-7824cc45abc0               Sentinel-2B   \n",
       "307cb3e2-8d66-4683-8ec9-2a9f5a8ff1f3               Sentinel-2A   \n",
       "33adc1cd-3206-4dc9-9e00-9f779f6c4226               Sentinel-2A   \n",
       "b40cf9be-10e3-4fd3-a78a-41c6f8695175               Sentinel-2A   \n",
       "3b8bc993-52ff-4b0a-af7b-c083ab8c5bb2               Sentinel-2A   \n",
       "83c3a52d-d7af-4958-af34-45c3571d38bf               Sentinel-2A   \n",
       "83ff9837-1015-4633-b20a-45bc410c8585               Sentinel-2A   \n",
       "5c97cf8f-13d1-412a-b9b4-323bccba414f               Sentinel-2A   \n",
       "\n",
       "                                      processinglevel  \\\n",
       "11c5e6f2-18e3-49c7-a6e7-d4c150ee2869         Level-2A   \n",
       "f1e4dcb6-cd48-4dc9-a1fa-7824cc45abc0         Level-2A   \n",
       "307cb3e2-8d66-4683-8ec9-2a9f5a8ff1f3         Level-2A   \n",
       "33adc1cd-3206-4dc9-9e00-9f779f6c4226         Level-2A   \n",
       "b40cf9be-10e3-4fd3-a78a-41c6f8695175         Level-2A   \n",
       "3b8bc993-52ff-4b0a-af7b-c083ab8c5bb2         Level-2A   \n",
       "83c3a52d-d7af-4958-af34-45c3571d38bf         Level-2A   \n",
       "83ff9837-1015-4633-b20a-45bc410c8585         Level-2A   \n",
       "5c97cf8f-13d1-412a-b9b4-323bccba414f         Level-2A   \n",
       "\n",
       "                                                                    datastripidentifier  \\\n",
       "11c5e6f2-18e3-49c7-a6e7-d4c150ee2869  S2B_OPER_MSI_L2A_DS_VGS4_20220129T120945_S2022...   \n",
       "f1e4dcb6-cd48-4dc9-a1fa-7824cc45abc0  S2B_OPER_MSI_L2A_DS_VGS2_20220208T143549_S2022...   \n",
       "307cb3e2-8d66-4683-8ec9-2a9f5a8ff1f3  S2A_OPER_MSI_L2A_DS_VGS2_20220210T153400_S2022...   \n",
       "33adc1cd-3206-4dc9-9e00-9f779f6c4226  S2A_OPER_MSI_L2A_DS_VGS2_20220223T154141_S2022...   \n",
       "b40cf9be-10e3-4fd3-a78a-41c6f8695175  S2A_OPER_MSI_L2A_DS_VGS2_20220121T131536_S2022...   \n",
       "3b8bc993-52ff-4b0a-af7b-c083ab8c5bb2  S2A_OPER_MSI_L2A_DS_VGS2_20220124T163734_S2022...   \n",
       "83c3a52d-d7af-4958-af34-45c3571d38bf  S2A_OPER_MSI_L2A_DS_VGS2_20220114T132749_S2022...   \n",
       "83ff9837-1015-4633-b20a-45bc410c8585  S2A_OPER_MSI_L2A_DS_VGS2_20220220T152532_S2022...   \n",
       "5c97cf8f-13d1-412a-b9b4-323bccba414f  S2A_OPER_MSI_L2A_DS_VGS2_20220111T131516_S2022...   \n",
       "\n",
       "                                                                      granuleidentifier  \\\n",
       "11c5e6f2-18e3-49c7-a6e7-d4c150ee2869  S2B_OPER_MSI_L2A_TL_VGS4_20220129T120945_A0255...   \n",
       "f1e4dcb6-cd48-4dc9-a1fa-7824cc45abc0  S2B_OPER_MSI_L2A_TL_VGS2_20220208T143549_A0257...   \n",
       "307cb3e2-8d66-4683-8ec9-2a9f5a8ff1f3  S2A_OPER_MSI_L2A_TL_VGS2_20220210T153400_A0346...   \n",
       "33adc1cd-3206-4dc9-9e00-9f779f6c4226  S2A_OPER_MSI_L2A_TL_VGS2_20220223T154141_A0348...   \n",
       "b40cf9be-10e3-4fd3-a78a-41c6f8695175  S2A_OPER_MSI_L2A_TL_VGS2_20220121T131536_A0343...   \n",
       "3b8bc993-52ff-4b0a-af7b-c083ab8c5bb2  S2A_OPER_MSI_L2A_TL_VGS2_20220124T163734_A0344...   \n",
       "83c3a52d-d7af-4958-af34-45c3571d38bf  S2A_OPER_MSI_L2A_TL_VGS2_20220114T132749_A0342...   \n",
       "83ff9837-1015-4633-b20a-45bc410c8585  S2A_OPER_MSI_L2A_TL_VGS2_20220220T152532_A0348...   \n",
       "5c97cf8f-13d1-412a-b9b4-323bccba414f  S2A_OPER_MSI_L2A_TL_VGS2_20220111T131516_A0342...   \n",
       "\n",
       "                                                                             identifier  \\\n",
       "11c5e6f2-18e3-49c7-a6e7-d4c150ee2869  S2B_MSIL2A_20220129T103159_N0400_R108_T32TLP_2...   \n",
       "f1e4dcb6-cd48-4dc9-a1fa-7824cc45abc0  S2B_MSIL2A_20220208T103109_N0400_R108_T32TLP_2...   \n",
       "307cb3e2-8d66-4683-8ec9-2a9f5a8ff1f3  S2A_MSIL2A_20220210T102151_N0400_R065_T32TLP_2...   \n",
       "33adc1cd-3206-4dc9-9e00-9f779f6c4226  S2A_MSIL2A_20220223T103031_N0400_R108_T32TLP_2...   \n",
       "b40cf9be-10e3-4fd3-a78a-41c6f8695175  S2A_MSIL2A_20220121T102331_N0301_R065_T32TLP_2...   \n",
       "3b8bc993-52ff-4b0a-af7b-c083ab8c5bb2  S2A_MSIL2A_20220124T103331_N0301_R108_T32TLP_2...   \n",
       "83c3a52d-d7af-4958-af34-45c3571d38bf  S2A_MSIL2A_20220114T103401_N0301_R108_T32TLP_2...   \n",
       "83ff9837-1015-4633-b20a-45bc410c8585  S2A_MSIL2A_20220220T102051_N0400_R065_T32TLP_2...   \n",
       "5c97cf8f-13d1-412a-b9b4-323bccba414f  S2A_MSIL2A_20220111T102411_N0301_R065_T32TLP_2...   \n",
       "\n",
       "                                                                      uuid  \\\n",
       "11c5e6f2-18e3-49c7-a6e7-d4c150ee2869  11c5e6f2-18e3-49c7-a6e7-d4c150ee2869   \n",
       "f1e4dcb6-cd48-4dc9-a1fa-7824cc45abc0  f1e4dcb6-cd48-4dc9-a1fa-7824cc45abc0   \n",
       "307cb3e2-8d66-4683-8ec9-2a9f5a8ff1f3  307cb3e2-8d66-4683-8ec9-2a9f5a8ff1f3   \n",
       "33adc1cd-3206-4dc9-9e00-9f779f6c4226  33adc1cd-3206-4dc9-9e00-9f779f6c4226   \n",
       "b40cf9be-10e3-4fd3-a78a-41c6f8695175  b40cf9be-10e3-4fd3-a78a-41c6f8695175   \n",
       "3b8bc993-52ff-4b0a-af7b-c083ab8c5bb2  3b8bc993-52ff-4b0a-af7b-c083ab8c5bb2   \n",
       "83c3a52d-d7af-4958-af34-45c3571d38bf  83c3a52d-d7af-4958-af34-45c3571d38bf   \n",
       "83ff9837-1015-4633-b20a-45bc410c8585  83ff9837-1015-4633-b20a-45bc410c8585   \n",
       "5c97cf8f-13d1-412a-b9b4-323bccba414f  5c97cf8f-13d1-412a-b9b4-323bccba414f   \n",
       "\n",
       "                                                                               geometry  \n",
       "11c5e6f2-18e3-49c7-a6e7-d4c150ee2869  MULTIPOLYGON (((6.53677 43.23826, 7.77074 43.2...  \n",
       "f1e4dcb6-cd48-4dc9-a1fa-7824cc45abc0  MULTIPOLYGON (((6.53677 43.23826, 7.76332 43.2...  \n",
       "307cb3e2-8d66-4683-8ec9-2a9f5a8ff1f3  MULTIPOLYGON (((6.53677 43.23826, 7.88868 43.2...  \n",
       "33adc1cd-3206-4dc9-9e00-9f779f6c4226  MULTIPOLYGON (((6.53677 43.23826, 7.75939 43.2...  \n",
       "b40cf9be-10e3-4fd3-a78a-41c6f8695175  MULTIPOLYGON (((6.53677 43.23826, 7.88868 43.2...  \n",
       "3b8bc993-52ff-4b0a-af7b-c083ab8c5bb2  MULTIPOLYGON (((6.53677 43.23826, 7.76326 43.2...  \n",
       "83c3a52d-d7af-4958-af34-45c3571d38bf  MULTIPOLYGON (((6.53677 43.23826, 7.76379 43.2...  \n",
       "83ff9837-1015-4633-b20a-45bc410c8585  MULTIPOLYGON (((6.53677 43.23826, 7.88868 43.2...  \n",
       "5c97cf8f-13d1-412a-b9b4-323bccba414f  MULTIPOLYGON (((6.53677 43.23826, 7.88868 43.2...  \n",
       "\n",
       "[9 rows x 41 columns]"
      ]
     },
     "execution_count": 16,
     "metadata": {},
     "output_type": "execute_result"
    }
   ],
   "source": [
    "products_gdf = api.to_geodataframe(products)\n",
    "products_gdf_sorted = products_gdf.sort_values(['cloudcoverpercentage'], ascending=[True])\n",
    "products_gdf_sorted"
   ]
  },
  {
   "cell_type": "code",
   "execution_count": 17,
   "metadata": {
    "colab": {
     "base_uri": "https://localhost:8080/"
    },
    "executionInfo": {
     "elapsed": 10,
     "status": "ok",
     "timestamp": 1621928428014,
     "user": {
      "displayName": "Caroline Stehlé",
      "photoUrl": "",
      "userId": "16859259941560680692"
     },
     "user_tz": -120
    },
    "id": "ZYH5d9fjsUjW",
    "outputId": "909d2010-aa9e-4024-ca50-0a65bcdff115"
   },
   "outputs": [
    {
     "data": {
      "text/plain": [
       "geopandas.geodataframe.GeoDataFrame"
      ]
     },
     "execution_count": 17,
     "metadata": {},
     "output_type": "execute_result"
    }
   ],
   "source": [
    "# A geopandas dataframe is a pandas dataframe with a geometry column\n",
    "type(products_gdf_sorted)"
   ]
  },
  {
   "cell_type": "markdown",
   "metadata": {
    "id": "7AdbiW0PBf0Y"
   },
   "source": [
    "Download image of interest: first image in the list that has less could percentage, and for which download is successful "
   ]
  },
  {
   "cell_type": "code",
   "execution_count": 18,
   "metadata": {
    "id": "0FAP8VEzf860"
   },
   "outputs": [],
   "source": [
    "from sat_tools import extractFile"
   ]
  },
  {
   "cell_type": "code",
   "execution_count": 20,
   "metadata": {
    "id": "D4jbUFYiNuIU"
   },
   "outputs": [
    {
     "data": {
      "application/vnd.jupyter.widget-view+json": {
       "model_id": "9cae90c8afd04d5582081b2c9a759fac",
       "version_major": 2,
       "version_minor": 0
      },
      "text/plain": [
       "Downloading S2B_MSIL2A_20220129T103159_N0400_R108_T32TLP_20220129T120945.zip:  23%|##2       | 247M/1.09G [00:…"
      ]
     },
     "metadata": {},
     "output_type": "display_data"
    },
    {
     "data": {
      "application/vnd.jupyter.widget-view+json": {
       "model_id": "c60ffb982cba435a923e8de31dde0892",
       "version_major": 2,
       "version_minor": 0
      },
      "text/plain": [
       "Downloading S2B_MSIL2A_20220208T103109_N0400_R108_T32TLP_20220208T143549.zip:   0%|          | 0.00/1.08G [00:…"
      ]
     },
     "metadata": {},
     "output_type": "display_data"
    },
    {
     "data": {
      "application/vnd.jupyter.widget-view+json": {
       "model_id": "",
       "version_major": 2,
       "version_minor": 0
      },
      "text/plain": [
       "MD5 checksumming:   0%|          | 0.00/1.08G [00:00<?, ?B/s]"
      ]
     },
     "metadata": {},
     "output_type": "display_data"
    }
   ],
   "source": [
    "download_OK = False\n",
    "product_idx = 0\n",
    "while not download_OK and (product_idx < len(products)):\n",
    "  try: # it can happen that the download is incomplete or file is not any more on the sentinel server\n",
    "    sat_image_uuid = products_gdf_sorted['uuid'][product_idx]\n",
    "    api.download(sat_image_uuid)\n",
    "    sat_image_id = products_gdf_sorted['identifier'][product_idx]\n",
    "    zipfilename = products_gdf_sorted['identifier'][product_idx] + \".zip\"\n",
    "    extractFile(zipfilename, 'Sentinel2_images/') \n",
    "    download_OK = True\n",
    "  except:\n",
    "    product_idx = product_idx + 1"
   ]
  },
  {
   "cell_type": "code",
   "execution_count": 21,
   "metadata": {
    "colab": {
     "base_uri": "https://localhost:8080/"
    },
    "executionInfo": {
     "elapsed": 17,
     "status": "ok",
     "timestamp": 1621928480952,
     "user": {
      "displayName": "Caroline Stehlé",
      "photoUrl": "",
      "userId": "16859259941560680692"
     },
     "user_tz": -120
    },
    "id": "r_W-DpMqOJdZ",
    "outputId": "8d059ce0-22bd-462e-f909-46ae4f027fda"
   },
   "outputs": [
    {
     "name": "stdout",
     "output_type": "stream",
     "text": [
      "index found: 1\n",
      "zipfilename: S2B_MSIL2A_20220208T103109_N0400_R108_T32TLP_20220208T143549.zip\n"
     ]
    }
   ],
   "source": [
    "if download_OK:\n",
    "  print(\"index found:\", product_idx )\n",
    "  print(\"zipfilename:\", zipfilename )\n",
    "else:\n",
    "   print(\"No downloadable product. Try to rerun the Sentinel API query by changing the parameters (ex: increase cloudcoverpercentage or date window) \")     "
   ]
  },
  {
   "cell_type": "code",
   "execution_count": 39,
   "metadata": {
    "colab": {
     "base_uri": "https://localhost:8080/"
    },
    "executionInfo": {
     "elapsed": 15,
     "status": "ok",
     "timestamp": 1621928480953,
     "user": {
      "displayName": "Caroline Stehlé",
      "photoUrl": "",
      "userId": "16859259941560680692"
     },
     "user_tz": -120
    },
    "id": "H0NAxTglPkLU",
    "outputId": "fb386dad-521c-41d3-f625-5b3f5ce17365"
   },
   "outputs": [
    {
     "name": "stdout",
     "output_type": "stream",
     "text": [
      " Volume in drive C is Acer\n",
      " Volume Serial Number is 0EE5-46F4\n",
      "\n",
      " Directory of C:\\Users\\caroline.stehle\\DSTI-sat-project\\how-green-is\\notebooks\n",
      "\n",
      "\n",
      " Directory of C:\\Users\\caroline.stehle\\DSTI-sat-project\\how-green-is\\notebooks\n",
      "\n",
      "03/08/2022  04:04 PM     1,080,554,612 S2B_MSIL2A_20220208T103109_N0400_R108_T32TLP_20220208T143549.zip\n",
      "               1 File(s)  1,080,554,612 bytes\n",
      "               0 Dir(s)  846,356,725,760 bytes free\n"
     ]
    }
   ],
   "source": [
    "ls -l *.zip"
   ]
  },
  {
   "cell_type": "code",
   "execution_count": 17,
   "metadata": {},
   "outputs": [],
   "source": [
    "# If you don't want to download satellite file (which could take 30 min), use pre-downloaded file\n",
    "sat_image_id = \"S2B_MSIL2A_20220208T103109_N0400_R108_T32TLP_20220208T143549\""
   ]
  },
  {
   "cell_type": "markdown",
   "metadata": {
    "id": "ggC7lUMMJaiO"
   },
   "source": [
    "# Select 10m bands and create RGB image (RGB.tiff)"
   ]
  },
  {
   "cell_type": "markdown",
   "metadata": {
    "id": "ggC7lUMMJaiO"
   },
   "source": [
    "Here is a table with Sentinel2 bands description:\n",
    "\n",
    "Band| Resolution\t| Central Wavelength |\tDescription\n",
    "----|---------------|--------------------|-------------\n",
    "B1\t| 60 m\t| 443 nm\t| Ultra blue (Coastal and Aerosol)\n",
    "B2\t| 10 m\t| 490 nm\t| Blue\n",
    "B3\t| 10 m\t| 560 nm\t| Green\n",
    "B4\t| 10 m\t| 665 nm\t| Red\n",
    "B5\t| 20 m\t| 705 nm\t| Visible and Near Infrared (VNIR)\n",
    "B6\t| 20 m\t| 740 nm\t| Visible and Near Infrared (VNIR)\n",
    "B7\t| 20 m\t| 783 nm\t| Visible and Near Infrared (VNIR)\n",
    "B8\t| 10 m\t| 842 nm\t| Visible and Near Infrared (VNIR)\n",
    "B8a\t| 20 m\t| 865 nm\t| Visible and Near Infrared (VNIR)\n",
    "B9\t| 60 m\t| 940 nm\t| Short Wave Infrared (SWIR)\n",
    "B10\t| 60 m\t| 1375 nm\t| Short Wave Infrared (SWIR)\n",
    "B11\t| 20 m\t| 1610 nm\t| Short Wave Infrared (SWIR)\n",
    "B12\t| 20 m\t| 2190 nm\t| Short Wave Infrared (SWIR)\n",
    "\n",
    "In this part we select only the 10m bands, that is to say bands B2, B3, B4 and B8."
   ]
  },
  {
   "cell_type": "code",
   "execution_count": 18,
   "metadata": {
    "id": "2KU0ImOOnofb"
   },
   "outputs": [],
   "source": [
    "import glob2"
   ]
  },
  {
   "cell_type": "code",
   "execution_count": 19,
   "metadata": {
    "id": "YE_e-U05mgKj"
   },
   "outputs": [],
   "source": [
    "common_path = 'Sentinel2_images/' + sat_image_id + '.SAFE/GRANULE/*/IMG_DATA/'"
   ]
  },
  {
   "cell_type": "code",
   "execution_count": 20,
   "metadata": {
    "id": "_6zTHbCHf5vJ"
   },
   "outputs": [],
   "source": [
    "#check if the contents of the zip file have been actually extracted\n",
    "#glob2.glob returns a list of files in a directory\n",
    "assert len(glob2.glob(common_path + '*')) > 0"
   ]
  },
  {
   "cell_type": "markdown",
   "metadata": {
    "id": "HXmp3z1HOtYg"
   },
   "source": [
    "Let's work only on 10 bands resolution to start.\n",
    "We'll deal with different resolution bands later..."
   ]
  },
  {
   "cell_type": "code",
   "execution_count": 21,
   "metadata": {
    "id": "gfx9I9JrqT8J"
   },
   "outputs": [],
   "source": [
    "# Open Bands 8, 4, 3 and 2 with Rasterio\n",
    "R10 = common_path + 'R10m'\n",
    "\n",
    "b2 = rio.open(glob2.glob(R10+'/*_B02_10m.jp2')[0])\n",
    "b3 = rio.open(glob2.glob(R10+'/*_B03_10m.jp2')[0])\n",
    "b4 = rio.open(glob2.glob(R10+'/*_B04_10m.jp2')[0])\n",
    "b8 = rio.open(glob2.glob(R10+'/*_B08_10m.jp2')[0])\n"
   ]
  },
  {
   "cell_type": "code",
   "execution_count": 22,
   "metadata": {
    "colab": {
     "base_uri": "https://localhost:8080/"
    },
    "executionInfo": {
     "elapsed": 6,
     "status": "ok",
     "timestamp": 1621928481253,
     "user": {
      "displayName": "Caroline Stehlé",
      "photoUrl": "",
      "userId": "16859259941560680692"
     },
     "user_tz": -120
    },
    "id": "IH8GWOIpPCyn",
    "outputId": "dab64004-faa2-410f-d407-77a42b6e599e"
   },
   "outputs": [
    {
     "data": {
      "text/plain": [
       "(1, 10980, 10980)"
      ]
     },
     "execution_count": 22,
     "metadata": {},
     "output_type": "execute_result"
    }
   ],
   "source": [
    "b4.count, b4.width, b4.height"
   ]
  },
  {
   "cell_type": "code",
   "execution_count": 23,
   "metadata": {
    "id": "9_cgawf_D3al"
   },
   "outputs": [],
   "source": [
    "# Optional : Create RGB image\n",
    "image_name=\"RGB_\" + area + \".tiff\"\n",
    "with rio.open(image_name,'w',driver='Gtiff', width=b4.width, height=b4.height, \n",
    "              count=3,crs=b4.crs,transform=b4.transform, dtype=b4.dtypes[0]) as dst:\n",
    "    dst.write(b4.read(1),1) # Red \n",
    "    dst.write(b3.read(1),2) # Green\n",
    "    dst.write(b2.read(1),3) # Blue\n",
    "    dst.close()"
   ]
  },
  {
   "cell_type": "code",
   "execution_count": 24,
   "metadata": {},
   "outputs": [],
   "source": [
    "from sat_tools import plot_RGB_raster"
   ]
  },
  {
   "cell_type": "code",
   "execution_count": 25,
   "metadata": {},
   "outputs": [
    {
     "data": {
      "image/png": "[encoded data removed]",
      "text/plain": [
       "<Figure size 432x288 with 1 Axes>"
      ]
     },
     "metadata": {
      "needs_background": "light"
     },
     "output_type": "display_data"
    }
   ],
   "source": [
    "# Plot nicely the resulting RGB image, using percentile rescaling\n",
    "plot_RGB_raster(image_name, scaling_method=\"pct\", pct=[2,90])"
   ]
  },
  {
   "cell_type": "markdown",
   "metadata": {
    "id": "2pNgRR2Fgsei"
   },
   "source": [
    "# Select and upsample 20m bands"
   ]
  },
  {
   "cell_type": "code",
   "execution_count": 26,
   "metadata": {
    "id": "q2C92m99QO7l"
   },
   "outputs": [],
   "source": [
    "# Open Bands 5, 6 and 7, 8A, 11, 12 with Rasterio\n",
    "R20 = common_path + 'R20m'\n",
    "\n",
    "b5 = rio.open(glob2.glob(R20+'/*_B05_20m.jp2')[0])\n",
    "b6 = rio.open(glob2.glob(R20+'/*_B06_20m.jp2')[0])\n",
    "b7 = rio.open(glob2.glob(R20+'/*_B07_20m.jp2')[0])\n",
    "b8A = rio.open(glob2.glob(R20+'/*_B8A_20m.jp2')[0])\n",
    "b11 = rio.open(glob2.glob(R20+'/*_B11_20m.jp2')[0])\n",
    "b12 = rio.open(glob2.glob(R20+'/*_B12_20m.jp2')[0])"
   ]
  },
  {
   "cell_type": "code",
   "execution_count": 27,
   "metadata": {
    "colab": {
     "base_uri": "https://localhost:8080/"
    },
    "executionInfo": {
     "elapsed": 9,
     "status": "ok",
     "timestamp": 1621928560638,
     "user": {
      "displayName": "Caroline Stehlé",
      "photoUrl": "",
      "userId": "16859259941560680692"
     },
     "user_tz": -120
    },
    "id": "uREXGfGjS6T_",
    "outputId": "d65f75be-147d-4ecf-8061-bd112b44074e"
   },
   "outputs": [
    {
     "data": {
      "text/plain": [
       "(1, 5490, 5490)"
      ]
     },
     "execution_count": 27,
     "metadata": {},
     "output_type": "execute_result"
    }
   ],
   "source": [
    "b5.count, b5.width, b5.height"
   ]
  },
  {
   "cell_type": "markdown",
   "metadata": {
    "id": "sKny_5r63e98"
   },
   "source": [
    "20m resolution images are smaller than the 10m resolution images. To run our NN we need images of same size and therefore we need to upsample the 20m resolution images. To be sure to obtain images of same size after croping, we need to resample first, and then apply the mask corresponding to the area of interest (otherwise there can be a difference of 2 pixels)"
   ]
  },
  {
   "cell_type": "code",
   "execution_count": 28,
   "metadata": {},
   "outputs": [],
   "source": [
    "from sat_tools import resample_image"
   ]
  },
  {
   "cell_type": "code",
   "execution_count": 29,
   "metadata": {
    "id": "Fc2E0VNQMfNJ"
   },
   "outputs": [],
   "source": [
    "# Loop to resample 20m bands images\n",
    "for (band, bandchar) in zip((b5, b6, b7, b8A, b11, b12), (\"b5\", \"b6\", \"b7\", \"b8A\", \"b11\", \"b12\")):\n",
    "  out_image, out_transform = resample_image(band, upscale_factor=2)\n",
    "  out_meta = band.meta.copy()\n",
    "  out_meta.update({\"driver\": \"GTiff\",\n",
    "                 \"height\": out_image.shape[1],\n",
    "                 \"width\": out_image.shape[2],\n",
    "                 \"transform\": out_transform})\n",
    "    \n",
    "  with rasterio.open(bandchar+\"_r.tif\", \"w\", **out_meta) as dest:\n",
    "    dest.write(out_image)"
   ]
  },
  {
   "cell_type": "markdown",
   "metadata": {
    "id": "stzCelh6XupF"
   },
   "source": [
    "# Mask Satellite images"
   ]
  },
  {
   "cell_type": "code",
   "execution_count": 30,
   "metadata": {
    "colab": {
     "base_uri": "https://localhost:8080/"
    },
    "executionInfo": {
     "elapsed": 19,
     "status": "ok",
     "timestamp": 1621928609942,
     "user": {
      "displayName": "Caroline Stehlé",
      "photoUrl": "",
      "userId": "16859259941560680692"
     },
     "user_tz": -120
    },
    "id": "lP4r9Eb6i5DC",
    "outputId": "49a1ba7a-a846-4a28-fe4d-3c9e7d69ba63"
   },
   "outputs": [],
   "source": [
    "# Check what is the crs of the file to mask\n",
    "src = rasterio.open(\"RGB_\" + area + \".tiff\") "
   ]
  },
  {
   "cell_type": "code",
   "execution_count": 31,
   "metadata": {
    "colab": {
     "base_uri": "https://localhost:8080/"
    },
    "executionInfo": {
     "elapsed": 16,
     "status": "ok",
     "timestamp": 1621928609942,
     "user": {
      "displayName": "Caroline Stehlé",
      "photoUrl": "",
      "userId": "16859259941560680692"
     },
     "user_tz": -120
    },
    "id": "nBurcOpmcQeO",
    "outputId": "7dd17d42-6498-4476-9eaa-5d94abfa7169"
   },
   "outputs": [
    {
     "name": "stdout",
     "output_type": "stream",
     "text": [
      "EPSG:32632\n"
     ]
    }
   ],
   "source": [
    "print(src.crs)"
   ]
  },
  {
   "cell_type": "code",
   "execution_count": 32,
   "metadata": {
    "colab": {
     "base_uri": "https://localhost:8080/",
     "height": 135
    },
    "executionInfo": {
     "elapsed": 348,
     "status": "ok",
     "timestamp": 1621928610591,
     "user": {
      "displayName": "Caroline Stehlé",
      "photoUrl": "",
      "userId": "16859259941560680692"
     },
     "user_tz": -120
    },
    "id": "iresw5X3YKHM",
    "outputId": "2ab3a60c-7ce0-4d4a-f82a-c4ca0cc52695"
   },
   "outputs": [
    {
     "data": {
      "text/html": [
       "<div>\n",
       "<style scoped>\n",
       "    .dataframe tbody tr th:only-of-type {\n",
       "        vertical-align: middle;\n",
       "    }\n",
       "\n",
       "    .dataframe tbody tr th {\n",
       "        vertical-align: top;\n",
       "    }\n",
       "\n",
       "    .dataframe thead th {\n",
       "        text-align: right;\n",
       "    }\n",
       "</style>\n",
       "<table border=\"1\" class=\"dataframe\">\n",
       "  <thead>\n",
       "    <tr style=\"text-align: right;\">\n",
       "      <th></th>\n",
       "      <th>mixed</th>\n",
       "      <th>geometry</th>\n",
       "    </tr>\n",
       "  </thead>\n",
       "  <tbody>\n",
       "    <tr>\n",
       "      <th>0</th>\n",
       "      <td>polygon1</td>\n",
       "      <td>POLYGON ((338295.245 4841454.909, 348567.634 4...</td>\n",
       "    </tr>\n",
       "  </tbody>\n",
       "</table>\n",
       "</div>"
      ],
      "text/plain": [
       "      mixed                                           geometry\n",
       "0  polygon1  POLYGON ((338295.245 4841454.909, 348567.634 4..."
      ]
     },
     "execution_count": 32,
     "metadata": {},
     "output_type": "execute_result"
    }
   ],
   "source": [
    "# Change the projection \n",
    "area_shape_proj = area_shape.to_crs(src.crs)\n",
    "area_shape_proj"
   ]
  },
  {
   "cell_type": "code",
   "execution_count": 33,
   "metadata": {
    "id": "1PaCnttGD-yS"
   },
   "outputs": [],
   "source": [
    "# Optional: crop RGB image\n",
    "with rio.open(\"RGB_\" + area + \".tiff\") as src:\n",
    "    out_image, out_transform = rio.mask.mask(src, area_shape_proj.geometry,crop=True)\n",
    "    out_meta = src.meta.copy()\n",
    "    out_meta.update({\"driver\": \"GTiff\",\n",
    "                 \"height\": out_image.shape[1],\n",
    "                 \"width\": out_image.shape[2],\n",
    "                 \"transform\": out_transform})\n",
    "    \n",
    "with rasterio.open(\"RGB_\" + area + \"_masked.tiff\", \"w\", **out_meta) as dest:\n",
    "    dest.write(out_image)"
   ]
  },
  {
   "cell_type": "code",
   "execution_count": 34,
   "metadata": {},
   "outputs": [
    {
     "data": {
      "image/png": "[encoded data removed]",
      "text/plain": [
       "<Figure size 432x288 with 1 Axes>"
      ]
     },
     "metadata": {
      "needs_background": "light"
     },
     "output_type": "display_data"
    }
   ],
   "source": [
    "# Plot nicely the resulting RGB image, using percentile rescaling\n",
    "plot_RGB_raster(\"RGB_\" + area + \"_masked.tiff\", scaling_method=\"pct\", pct=[5,98])"
   ]
  },
  {
   "cell_type": "code",
   "execution_count": 35,
   "metadata": {
    "id": "sWNjUXCmz4Zs"
   },
   "outputs": [],
   "source": [
    "# Loop to crop all single bands images for the area\n",
    "for (band, bandchar) in zip((b2, b3, b4, b8), (\"b2\", \"b3\", \"b4\", \"b8\")):\n",
    "  out_image, out_transform = rio.mask.mask(band, area_shape_proj.geometry,crop=True)\n",
    "  out_meta = band.meta.copy()\n",
    "  out_meta.update({\"driver\": \"GTiff\",\n",
    "                 \"height\": out_image.shape[1],\n",
    "                 \"width\": out_image.shape[2],\n",
    "                 \"transform\": out_transform})\n",
    "    \n",
    "  with rasterio.open(area + \"_\" + bandchar + \"_masked.tif\", \"w\", **out_meta) as dest:\n",
    "    dest.write(out_image)"
   ]
  },
  {
   "cell_type": "code",
   "execution_count": 36,
   "metadata": {
    "id": "nEA9wqjSkVYN"
   },
   "outputs": [],
   "source": [
    "# Loop to crop resampled bands images for the area\n",
    "for bandchar in (\"b5_r\", \"b6_r\", \"b7_r\", \"b8A_r\", \"b11_r\", \"b12_r\"):\n",
    "  band = rasterio.open(bandchar+\".tif\")\n",
    "  out_image, out_transform = rio.mask.mask(band, area_shape_proj.geometry,crop=True)\n",
    "  out_meta = band.meta.copy()\n",
    "  out_meta.update({\"driver\": \"GTiff\",\n",
    "                 \"height\": out_image.shape[1],\n",
    "                 \"width\": out_image.shape[2],\n",
    "                 \"transform\": out_transform})\n",
    "    \n",
    "  with rasterio.open(area + \"_\" + bandchar + \"_masked.tif\", \"w\", **out_meta) as dest:\n",
    "    dest.write(out_image)"
   ]
  },
  {
   "cell_type": "markdown",
   "metadata": {
    "id": "BQM97oVi3215"
   },
   "source": [
    "Comparison of images sizes obtained with 10m resolution (without resampling) and 20 m resolution after resampling : they should be equal"
   ]
  },
  {
   "cell_type": "code",
   "execution_count": 37,
   "metadata": {
    "colab": {
     "base_uri": "https://localhost:8080/"
    },
    "executionInfo": {
     "elapsed": 8,
     "status": "ok",
     "timestamp": 1621928615575,
     "user": {
      "displayName": "Caroline Stehlé",
      "photoUrl": "",
      "userId": "16859259941560680692"
     },
     "user_tz": -120
    },
    "id": "UBTtBGXiYEnB",
    "outputId": "88326ed5-e8b6-45b1-b058-9641bc103a6a"
   },
   "outputs": [
    {
     "name": "stdout",
     "output_type": "stream",
     "text": [
      "(1, 827, 1047)\n"
     ]
    }
   ],
   "source": [
    "# 10m band after croping only :\n",
    "with rio.open(area + '_' + 'b4_masked.tif', 'r') as ds:\n",
    "    tmp = ds.read()  \n",
    "print(tmp.shape)"
   ]
  },
  {
   "cell_type": "code",
   "execution_count": 38,
   "metadata": {
    "colab": {
     "base_uri": "https://localhost:8080/"
    },
    "executionInfo": {
     "elapsed": 759,
     "status": "ok",
     "timestamp": 1621928616328,
     "user": {
      "displayName": "Caroline Stehlé",
      "photoUrl": "",
      "userId": "16859259941560680692"
     },
     "user_tz": -120
    },
    "id": "OPZjDjzulLD1",
    "outputId": "9895eb0c-0f69-459e-ac02-701b27d35781"
   },
   "outputs": [
    {
     "name": "stdout",
     "output_type": "stream",
     "text": [
      "(1, 827, 1047)\n"
     ]
    }
   ],
   "source": [
    "# After resampling then croping:\n",
    "with rio.open(area + '_' + 'b5_r_masked.tif', 'r') as ds:\n",
    "    area_b5_r_raster = ds.read()  \n",
    "print(area_b5_r_raster.shape)"
   ]
  },
  {
   "cell_type": "markdown",
   "metadata": {
    "id": "RcIokKV_Jxwx"
   },
   "source": [
    "# Create multiband image (allbands.tiff) for croped area"
   ]
  },
  {
   "cell_type": "code",
   "execution_count": 39,
   "metadata": {
    "id": "PdGjhlhVIzep"
   },
   "outputs": [],
   "source": [
    "# Create 1 single tiff file with all bands\n",
    "b2 = rio.open(area + '_' + 'b2_masked.tif')\n",
    "b3 = rio.open(area + '_' + 'b3_masked.tif')\n",
    "b4 = rio.open(area + '_' + 'b4_masked.tif')\n",
    "b5_r = rio.open(area + '_' + 'b5_r_masked.tif')\n",
    "b6_r = rio.open(area + '_' + 'b6_r_masked.tif')\n",
    "b7_r = rio.open(area + '_' + 'b7_r_masked.tif')\n",
    "b8 = rio.open(area + '_' + 'b8_masked.tif')\n",
    "b8A_r = rio.open(area + '_' + 'b8A_r_masked.tif')\n",
    "b11_r = rio.open(area + '_' + 'b11_r_masked.tif')\n",
    "b12_r = rio.open(area + '_' + 'b12_r_masked.tif')\n",
    "\n",
    "with rio.open(area + '_' + 'allbands.tiff','w',driver='Gtiff', width=b2.width, height=b2.height, \n",
    "              count=10,crs=b2.crs,transform=b2.transform, dtype=b2.dtypes[0]) as dst:\n",
    "    dst.write(b2.read(1),1) \n",
    "    dst.write(b3.read(1),2) \n",
    "    dst.write(b4.read(1),3) \n",
    "    dst.write(b5_r.read(1),4) \n",
    "    dst.write(b6_r.read(1),5) \n",
    "    dst.write(b7_r.read(1),6) \n",
    "    dst.write(b8.read(1),7) \n",
    "    dst.write(b8A_r.read(1),8) \n",
    "    dst.write(b11_r.read(1),9) \n",
    "    dst.write(b12_r.read(1),10) \n",
    "    dst.close()\n"
   ]
  },
  {
   "cell_type": "code",
   "execution_count": 40,
   "metadata": {
    "colab": {
     "base_uri": "https://localhost:8080/"
    },
    "executionInfo": {
     "elapsed": 5,
     "status": "ok",
     "timestamp": 1621928616670,
     "user": {
      "displayName": "Caroline Stehlé",
      "photoUrl": "",
      "userId": "16859259941560680692"
     },
     "user_tz": -120
    },
    "id": "xT8ETe9b654p",
    "outputId": "e4ad0ec1-0f33-49e8-c16b-812daab52486"
   },
   "outputs": [
    {
     "name": "stdout",
     "output_type": "stream",
     "text": [
      "(10, 827, 1047)\n"
     ]
    }
   ],
   "source": [
    "with rio.open(area + '_' + 'allbands.tiff', 'r') as ds:\n",
    "    featuresArea = ds.read()  # read all raster values\n",
    "\n",
    "print(featuresArea.shape)  # this is a 3D numpy array, with dimensions [band, row, col]\n"
   ]
  },
  {
   "cell_type": "code",
   "execution_count": 41,
   "metadata": {
    "id": "71tB0OzFuDcj"
   },
   "outputs": [],
   "source": [
    "# do some cleaning of intermediate tif files \n",
    "# and move final tiff files (multiband) in folder Sentinel2_images "
   ]
  },
  {
   "cell_type": "code",
   "execution_count": 42,
   "metadata": {
    "id": "RnFCyw-huKTp"
   },
   "outputs": [
    {
     "name": "stderr",
     "output_type": "stream",
     "text": [
      "rm: cannot remove 'Roquefort_b11_r_masked.tif': Device or resource busy\n",
      "rm: cannot remove 'Roquefort_b12_r_masked.tif': Device or resource busy\n",
      "rm: cannot remove 'Roquefort_b2_masked.tif': Device or resource busy\n",
      "rm: cannot remove 'Roquefort_b3_masked.tif': Device or resource busy\n",
      "rm: cannot remove 'Roquefort_b4_masked.tif': Device or resource busy\n",
      "rm: cannot remove 'Roquefort_b5_r_masked.tif': Device or resource busy\n",
      "rm: cannot remove 'Roquefort_b6_r_masked.tif': Device or resource busy\n",
      "rm: cannot remove 'Roquefort_b7_r_masked.tif': Device or resource busy\n",
      "rm: cannot remove 'Roquefort_b8A_r_masked.tif': Device or resource busy\n",
      "rm: cannot remove 'Roquefort_b8_masked.tif': Device or resource busy\n",
      "rm: cannot remove 'b12_r.tif': Device or resource busy\n"
     ]
    }
   ],
   "source": [
    "!rm *.tif"
   ]
  },
  {
   "cell_type": "code",
   "execution_count": 43,
   "metadata": {
    "id": "n2V27xk-zKdV"
   },
   "outputs": [
    {
     "name": "stderr",
     "output_type": "stream",
     "text": [
      "mv: cannot move 'RGB_Roquefort_masked.tiff' to './Sentinel2_images/RGB_Roquefort_masked.tiff': Device or resource busy\n"
     ]
    }
   ],
   "source": [
    "!mv *.tiff ./Sentinel2_images/"
   ]
  },
  {
   "cell_type": "code",
   "execution_count": 45,
   "metadata": {},
   "outputs": [
    {
     "name": "stdout",
     "output_type": "stream",
     "text": [
      " Volume in drive C is Acer\n",
      " Volume Serial Number is 0EE5-46F4\n",
      "\n",
      " Directory of C:\\Users\\caroline.stehle\\DSTI-sat-project\\how-green-is\\notebooks\n",
      "\n",
      "03/10/2022  10:55 AM       241,187,040 b12_r.tif\n",
      "03/10/2022  10:55 AM         5,200,560 RGB_Roquefort_masked.tiff\n",
      "03/10/2022  10:55 AM         1,733,754 Roquefort_b11_r_masked.tif\n",
      "03/10/2022  10:55 AM         1,733,754 Roquefort_b12_r_masked.tif\n",
      "03/10/2022  10:55 AM         1,733,754 Roquefort_b2_masked.tif\n",
      "03/10/2022  10:55 AM         1,733,754 Roquefort_b3_masked.tif\n",
      "03/10/2022  10:55 AM         1,733,754 Roquefort_b4_masked.tif\n",
      "03/10/2022  10:55 AM         1,733,754 Roquefort_b5_r_masked.tif\n",
      "03/10/2022  10:55 AM         1,733,754 Roquefort_b6_r_masked.tif\n",
      "03/10/2022  10:55 AM         1,733,754 Roquefort_b7_r_masked.tif\n",
      "03/10/2022  10:55 AM         1,733,754 Roquefort_b8_masked.tif\n",
      "03/10/2022  10:55 AM         1,733,754 Roquefort_b8A_r_masked.tif\n",
      "              12 File(s)    263,725,140 bytes\n",
      "               0 Dir(s)  846,066,556,928 bytes free\n"
     ]
    }
   ],
   "source": [
    "ls *.tif"
   ]
  },
  {
   "cell_type": "code",
   "execution_count": null,
   "metadata": {},
   "outputs": [],
   "source": []
  }
 ],
 "metadata": {
  "colab": {
   "authorship_tag": "ABX9TyMnxkilPEEA7WUC4zv5hwy3",
   "collapsed_sections": [],
   "mount_file_id": "1Z4xct5d52up-9R6m4XTIDOhp6vEM52mN",
   "name": "Create_shapefile_and_tiff_from_geo_coord.ipynb",
   "provenance": [
    {
     "file_id": "1L-n0ggvlCNWXdGGs8ENKTHGwy41A_YcT",
     "timestamp": 1617119831668
    }
   ],
   "toc_visible": true
  },
  "kernelspec": {
   "display_name": "Python 3 (ipykernel)",
   "language": "python",
   "name": "python3"
  },
  "language_info": {
   "codemirror_mode": {
    "name": "ipython",
    "version": 3
   },
   "file_extension": ".py",
   "mimetype": "text/x-python",
   "name": "python",
   "nbconvert_exporter": "python",
   "pygments_lexer": "ipython3",
   "version": "3.8.1"
  }
 },
 "nbformat": 4,
 "nbformat_minor": 1
}
