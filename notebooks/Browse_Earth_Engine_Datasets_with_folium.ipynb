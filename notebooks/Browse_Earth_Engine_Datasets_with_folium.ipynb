{
  "nbformat": 4,
  "nbformat_minor": 0,
  "metadata": {
    "kernelspec": {
      "display_name": "Python 3",
      "language": "python",
      "name": "python3"
    },
    "language_info": {
      "codemirror_mode": {
        "name": "ipython",
        "version": 3
      },
      "file_extension": ".py",
      "mimetype": "text/x-python",
      "name": "python",
      "nbconvert_exporter": "python",
      "pygments_lexer": "ipython3",
      "version": "3.7.3"
    },
    "colab": {
      "name": "Browse Earth Engine Datasets with folium",
      "provenance": []
    }
  },
  "cells": [
    {
      "cell_type": "code",
      "metadata": {
        "id": "2kDAhGm45kct",
        "colab": {
          "base_uri": "https://localhost:8080/"
        },
        "outputId": "7930946a-3bb2-44c5-e4d0-edd91bab840c"
      },
      "source": [
        "import ee\r\n",
        "# Import the folium library.\r\n",
        "import folium\r\n",
        "from folium import plugins\r\n",
        "import logging\r\n",
        "## Trigger the authentication flow. You only need to do this once\r\n",
        "## To be able to access google earth engine you have to register first\r\n",
        "ee.Authenticate()\r\n",
        "# Initialize the library.\r\n",
        "ee.Initialize()"
      ],
      "execution_count": null,
      "outputs": [
        {
          "output_type": "stream",
          "text": [
            "To authorize access needed by Earth Engine, open the following URL in a web browser and follow the instructions. If the web browser does not start automatically, please manually browse the URL below.\n",
            "\n",
            "    https://accounts.google.com/o/oauth2/auth?client_id=517222506229-vsmmajv00ul0bs7p89v5m89qs8eb9359.apps.googleusercontent.com&scope=https%3A%2F%2Fwww.googleapis.com%2Fauth%2Fearthengine+https%3A%2F%2Fwww.googleapis.com%2Fauth%2Fdevstorage.full_control&redirect_uri=urn%3Aietf%3Awg%3Aoauth%3A2.0%3Aoob&response_type=code&code_challenge=uYUzXtb6NOu5SzuZ_99bXb70tUW_J6u-TbzxRGDwpv8&code_challenge_method=S256\n",
            "\n",
            "The authorization workflow will generate a code, which you should paste in the box below. \n",
            "Enter verification code: 4/1AY0e-g5w1--rgvpdKm5zS9_WXLft_U6My9h1tE1pHNpShLxKNt76EAFMSA0\n",
            "\n",
            "Successfully saved authorization token.\n"
          ],
          "name": "stdout"
        }
      ]
    },
    {
      "cell_type": "code",
      "metadata": {
        "id": "ul0CTLBS5kcx"
      },
      "source": [
        "# Define a method for displaying Earth Engine image tiles on a folium map.\n",
        "# code adapted from here: https://colab.research.google.com/github/giswqs/qgis-earthengine-examples/blob/master/Folium/ee-api-folium-setup.ipynb#scrollTo=ul0CTLBS5kcx\n",
        "\n",
        "def add_ee_layer(self, dataset, opacity= 0.7):\n",
        "    ee_object = dataset.ee_object\n",
        "    vis_params = dataset.vis_params\n",
        "    name= dataset.name \n",
        "    try:    \n",
        "        # display ee.Image()\n",
        "        if isinstance(ee_object, ee.image.Image):    \n",
        "            map_id_dict = ee.Image(ee_object).getMapId(vis_params)\n",
        "#            print(map_id_dict['tile_fetcher'].url_format)\n",
        "            folium.raster_layers.TileLayer(\n",
        "            tiles = map_id_dict['tile_fetcher'].url_format,\n",
        "            attr = 'Google Earth Engine',\n",
        "            name = name,\n",
        "            overlay = True,\n",
        "            control = True,\n",
        "            opacity= opacity \n",
        "            ).add_to(self)\n",
        "        # display ee.ImageCollection()\n",
        "        elif isinstance(ee_object, ee.imagecollection.ImageCollection):    \n",
        "            ee_object_new = ee_object.mosaic()\n",
        "            map_id_dict = ee.Image(ee_object_new).getMapId(vis_params)\n",
        "            print(map_id_dict['tile_fetcher'].url_format)\n",
        "            folium.raster_layers.TileLayer(\n",
        "            tiles = map_id_dict['tile_fetcher'].url_format,\n",
        "            attr = 'Google Earth Engine',\n",
        "            name = name,\n",
        "            overlay = True,\n",
        "            control = True,\n",
        "            opacity= opacity\n",
        "            ).add_to(self)\n",
        "        # display ee.Geometry()\n",
        "        elif isinstance(ee_object, ee.geometry.Geometry):    \n",
        "            folium.GeoJson(\n",
        "            data = ee_object.getInfo(),\n",
        "            name = name,\n",
        "            overlay = True,\n",
        "            control = True\n",
        "       ).add_to(self)\n",
        "        # display ee.FeatureCollection()\n",
        "        elif isinstance(ee_object, ee.featurecollection.FeatureCollection):  \n",
        "            ee_object_new = ee.Image().paint(ee_object, 0, 2)\n",
        "            map_id_dict = ee.Image(ee_object_new).getMapId(vis_params)\n",
        "#            print(map_id_dict['tile_fetcher'])\n",
        "            folium.raster_layers.TileLayer(\n",
        "            tiles = map_id_dict['tile_fetcher'].url_format,\n",
        "            attr = 'Google Earth Engine',\n",
        "            name = name,\n",
        "            overlay = True,\n",
        "            control = True\n",
        "        ).add_to(self)\n",
        "    \n",
        "    except Exception as e:\n",
        "      print(e)\n",
        "\n",
        "    \n",
        "# Add EE drawing method to folium.\n",
        "folium.Map.add_ee_layer = add_ee_layer"
      ],
      "execution_count": null,
      "outputs": []
    },
    {
      "cell_type": "code",
      "metadata": {
        "id": "yFIh9GTebsya"
      },
      "source": [
        "\r\n",
        "# Possible basemaps\r\n",
        "basemaps = {\r\n",
        "    'Google Maps': folium.TileLayer(\r\n",
        "        tiles = 'https://mt1.google.com/vt/lyrs=m&x={x}&y={y}&z={z}',\r\n",
        "        attr = 'Google',\r\n",
        "        name = 'Google Maps',\r\n",
        "        overlay = True,\r\n",
        "        control = True\r\n",
        "    ),\r\n",
        "    'Google Satellite': folium.TileLayer(\r\n",
        "        tiles = 'https://mt1.google.com/vt/lyrs=s&x={x}&y={y}&z={z}',\r\n",
        "        attr = 'Google',\r\n",
        "        name = 'Google Satellite',\r\n",
        "        overlay = True,\r\n",
        "        control = True\r\n",
        "    ),\r\n",
        "    'Google Terrain': folium.TileLayer(\r\n",
        "        tiles = 'https://mt1.google.com/vt/lyrs=p&x={x}&y={y}&z={z}',\r\n",
        "        attr = 'Google',\r\n",
        "        name = 'Google Terrain',\r\n",
        "        overlay = True,\r\n",
        "        control = True\r\n",
        "    ),\r\n",
        "    'Google Satellite Hybrid': folium.TileLayer(\r\n",
        "        tiles = 'https://mt1.google.com/vt/lyrs=y&x={x}&y={y}&z={z}',\r\n",
        "        attr = 'Google',\r\n",
        "        name = 'Google Satellite',\r\n",
        "        overlay = True,\r\n",
        "        control = True\r\n",
        "    ),\r\n",
        "    'Esri Satellite': folium.TileLayer(\r\n",
        "        tiles = 'https://server.arcgisonline.com/ArcGIS/rest/services/World_Imagery/MapServer/tile/{z}/{y}/{x}',\r\n",
        "        attr = 'Esri',\r\n",
        "        name = 'Esri Satellite',\r\n",
        "        overlay = True,\r\n",
        "        control = True\r\n",
        "    )\r\n",
        "}\r\n",
        "\r\n",
        "# Define layers as you want from earth engine datasets here:  https://developers.google.com/earth-engine/datasets\r\n",
        "\r\n",
        "class NVDI:\r\n",
        "  #https://developers.google.com/earth-engine/datasets/catalog/MODIS_006_MYD13Q1\r\n",
        "  name = 'Aqua Vegetation Indices 16-Day Global 250m'\r\n",
        "  ee_object = ee.ImageCollection('MODIS/006/MYD13Q1').filter(ee.Filter.date('2016-01-01', '2017-05-01')).select('NDVI')\r\n",
        "  vis_params = {\r\n",
        "    'min': 0.0,\r\n",
        "    'max': 8000.0,\r\n",
        "    'palette': [\r\n",
        "      'FFFFFF', 'CE7E45', 'DF923D', 'F1B555', 'FCD163', '99B718', '74A901',\r\n",
        "      '66A000', '529400', '3E8601', '207401', '056201', '004C00', '023B01',\r\n",
        "      '012E01', '011D01', '011301'\r\n",
        "    ]\r\n",
        "  }\r\n",
        "\r\n",
        "#https://developers.google.com/earth-engine/datasets/catalog/JAXA_ALOS_PALSAR_YEARLY_FNF\r\n",
        "# data from 2007 to 2017:\r\n",
        "class fnf:\r\n",
        "  name = 'Global PALSAR-2/PALSAR Forest/Non-Forest Map -2017'\r\n",
        "  ee_object = ee.ImageCollection('JAXA/ALOS/PALSAR/YEARLY/FNF').filterDate('2007-01-01', '2007-12-31').select('fnf')\r\n",
        "  vis_params = {\r\n",
        "    'min': 1.0,\r\n",
        "    'max': 3.0,\r\n",
        "    'palette': ['006400', 'FEFF99', '0000FF'],\r\n",
        "  }\r\n",
        "\r\n",
        "class CGLC:\r\n",
        "  #https://developers.google.com/earth-engine/datasets/catalog/COPERNICUS_Landcover_100m_Proba-V-C3_Global#bands\r\n",
        "  # Any year from 2015-2019, looking in 'tree-coverfraction' band (many others)\r\n",
        "  name = 'Copernicus Global Land Cover Layers: CGLS-LC100 collection 3 - Discrete Classification - 2019'\r\n",
        "  ee_object = ee.Image(\"COPERNICUS/Landcover/100m/Proba-V-C3/Global/2019\").select('discrete_classification');\r\n",
        "  vis_params = {}\r\n",
        "\r\n",
        "class planet:\r\n",
        "  #https://developers.google.com/earth-engine/datasets/catalog/SKYSAT_GEN-A_PUBLIC_ORTHO_RGB#bands\r\n",
        "  name = \"Planet SkySat Public Ortho Imagery, RGB\"\r\n",
        "\r\n",
        "  ee_object = ee.ImageCollection('SKYSAT/GEN-A/PUBLIC/ORTHO/RGB').select(['R', 'G', 'B'])\r\n",
        "  vis_params = {\r\n",
        "    'bands': ['R', 'G', 'B'],\r\n",
        "    'min': 11.0,\r\n",
        "    'max': 190.0\r\n",
        "  }\r\n",
        "\r\n",
        "\r\n",
        "class landsat8:\r\n",
        "#https://developers.google.com/earth-engine/datasets/catalog/LANDSAT_LC08_C01_T1_SR#description\r\n",
        "  name = \"USGS Landsat 8 Surface Reflectance Tier 1\"\r\n",
        "\r\n",
        "  def maskL8sr(image):\r\n",
        "    # Bits 3 and 5 are cloud shadow and cloud, respectively.\r\n",
        "    cloudShadowBitMask = (1 << 3)\r\n",
        "    cloudsBitMask = (1 << 5)\r\n",
        "    # Get the pixel QA band.\r\n",
        "    qa = image.select('pixel_qa')\r\n",
        "    # Both flags should be set to zero, indicating clear conditions.\r\n",
        "    mask = qa.bitwiseAnd(cloudShadowBitMask).eq(0).And(qa.bitwiseAnd(cloudsBitMask).eq(0))\r\n",
        "    return image.updateMask(mask)\r\n",
        "\r\n",
        "  ee_object = ee.ImageCollection('LANDSAT/LC08/C01/T1_SR').filterDate('2019-01-01', '2019-12-31').filter(ee.Filter.lt('CLOUD_COVER',5)).map(maskL8sr)\r\n",
        "  vis_params = {\r\n",
        "    'bands': ['B4', 'B3', 'B2'],\r\n",
        "    'min': 0,\r\n",
        "    'max': 3000,\r\n",
        "    'gamma': 1.4,\r\n",
        "  }\r\n",
        "\r\n",
        "class sentinel2:\r\n",
        "  #https://developers.google.com/earth-engine/datasets/catalog/COPERNICUS_S2_SR?hl=en\r\n",
        "  name = 'Sentinel-2 MSI: MultiSpectral Instrument, Level-2A'\r\n",
        "\r\n",
        "  def maskS2clouds(image):\r\n",
        "    qa = image.select('QA60')\r\n",
        "    #Bits 10 and 11 are clouds and cirrus, respectively.\r\n",
        "    cloudBitMask = 1 << 10\r\n",
        "    cirrusBitMask = 1 << 11\r\n",
        "    # Both flags should be set to zero, indicating clear conditions.\r\n",
        "    mask = qa.bitwiseAnd(cloudBitMask).eq(0).And(qa.bitwiseAnd(cirrusBitMask).eq(0))\r\n",
        "    return image.updateMask(mask).divide(10000)\r\n",
        "\r\n",
        "  ee_object = ee.ImageCollection('COPERNICUS/S2_SR').filterDate('2019-01-01', '2019-12-31').filter(ee.Filter.lt('CLOUDY_PIXEL_PERCENTAGE',1)).map(maskS2clouds)\r\n",
        "  vis_params = {\r\n",
        "    'min': 0.0,\r\n",
        "    'max': 0.3,\r\n",
        "    'bands': ['B4', 'B3', 'B2'],\r\n",
        "  }\r\n",
        "\r\n"
      ],
      "execution_count": null,
      "outputs": []
    },
    {
      "cell_type": "code",
      "metadata": {
        "colab": {
          "base_uri": "https://localhost:8080/",
          "height": 784
        },
        "id": "dbQY1OScUuan",
        "outputId": "1e14a27e-c425-4b62-94d2-f87c60ff4456"
      },
      "source": [
        "# Base configuration of folium maps\r\n",
        "\r\n",
        "# Create a folium map object (centred on DSTI :)).\r\n",
        "my_map = folium.Map(location=[43.61529927557995, 7.075464799049402], zoom_start=12, height=500)\r\n",
        "\r\n",
        "# you can hide or unhide the layers in the left icon or by uncommenting bellow\r\n",
        "basemaps['Esri Satellite'].add_to(my_map)\r\n",
        "my_map.add_ee_layer(NVDI, opacity=0.8)\r\n",
        "my_map.add_ee_layer(fnf, opacity=0.7)\r\n",
        "#my_map.add_ee_layer(CGLC, opacity=0.7)\r\n",
        "#my_map.add_ee_layer(planet, opacity=0.7)\r\n",
        "#my_map.add_ee_layer(landsat8, opacity=0.9)\r\n",
        "my_map.add_ee_layer(sentinel2, opacity=0.9)\r\n",
        "\r\n",
        "# Add a layer control panel and fullscreen button to the map.\r\n",
        "my_map.add_child(folium.LayerControl())\r\n",
        "plugins.Fullscreen().add_to(my_map)\r\n",
        "\r\n",
        "# Display the map.\r\n",
        "display(my_map)"
      ],
      "execution_count": null,
      "outputs": [
        {
          "output_type": "stream",
          "text": [
            "https://earthengine.googleapis.com/v1alpha/projects/earthengine-legacy/maps/43455307d7afaf7275bce671ae070691-af9cc4c8ce32cc61df66c9f3697bb449/tiles/{z}/{x}/{y}\n",
            "https://earthengine.googleapis.com/v1alpha/projects/earthengine-legacy/maps/b1043a24477c7d956b5e9d64e5033e0f-ae3adcc22202fe2aa341bb7d764b3d32/tiles/{z}/{x}/{y}\n",
            "https://earthengine.googleapis.com/v1alpha/projects/earthengine-legacy/maps/eb489f4d0f32f131771a2e5fd9916493-4100337a974d10100ebb3f580ac6b5cd/tiles/{z}/{x}/{y}\n"
          ],
          "name": "stdout"
        },
        {
          "output_type": "display_data",
          "data": {
            "text/html": [
              "<div style=\"width:100%;\"><div style=\"position:relative;width:100%;height:0;padding-bottom:60%;\"><span style=\"color:#565656\">Make this Notebook Trusted to load map: File -> Trust Notebook</span><iframe src=\"about:blank\" style=\"position:absolute;width:100%;height:100%;left:0;top:0;border:none !important;\" data-html=%3C%21DOCTYPE%20html%3E%0A%3Chead%3E%20%20%20%20%0A%20%20%20%20%3Cmeta%20http-equiv%3D%22content-type%22%20content%3D%22text/html%3B%20charset%3DUTF-8%22%20/%3E%0A%20%20%20%20%3Cscript%3EL_PREFER_CANVAS%3Dfalse%3B%20L_NO_TOUCH%3Dfalse%3B%20L_DISABLE_3D%3Dfalse%3B%3C/script%3E%0A%20%20%20%20%3Cscript%20src%3D%22https%3A//cdn.jsdelivr.net/npm/leaflet%401.4.0/dist/leaflet.js%22%3E%3C/script%3E%0A%20%20%20%20%3Cscript%20src%3D%22https%3A//code.jquery.com/jquery-1.12.4.min.js%22%3E%3C/script%3E%0A%20%20%20%20%3Cscript%20src%3D%22https%3A//maxcdn.bootstrapcdn.com/bootstrap/3.2.0/js/bootstrap.min.js%22%3E%3C/script%3E%0A%20%20%20%20%3Cscript%20src%3D%22https%3A//cdnjs.cloudflare.com/ajax/libs/Leaflet.awesome-markers/2.0.2/leaflet.awesome-markers.js%22%3E%3C/script%3E%0A%20%20%20%20%3Clink%20rel%3D%22stylesheet%22%20href%3D%22https%3A//cdn.jsdelivr.net/npm/leaflet%401.4.0/dist/leaflet.css%22/%3E%0A%20%20%20%20%3Clink%20rel%3D%22stylesheet%22%20href%3D%22https%3A//maxcdn.bootstrapcdn.com/bootstrap/3.2.0/css/bootstrap.min.css%22/%3E%0A%20%20%20%20%3Clink%20rel%3D%22stylesheet%22%20href%3D%22https%3A//maxcdn.bootstrapcdn.com/bootstrap/3.2.0/css/bootstrap-theme.min.css%22/%3E%0A%20%20%20%20%3Clink%20rel%3D%22stylesheet%22%20href%3D%22https%3A//maxcdn.bootstrapcdn.com/font-awesome/4.6.3/css/font-awesome.min.css%22/%3E%0A%20%20%20%20%3Clink%20rel%3D%22stylesheet%22%20href%3D%22https%3A//cdnjs.cloudflare.com/ajax/libs/Leaflet.awesome-markers/2.0.2/leaflet.awesome-markers.css%22/%3E%0A%20%20%20%20%3Clink%20rel%3D%22stylesheet%22%20href%3D%22https%3A//rawcdn.githack.com/python-visualization/folium/master/folium/templates/leaflet.awesome.rotate.css%22/%3E%0A%20%20%20%20%3Cstyle%3Ehtml%2C%20body%20%7Bwidth%3A%20100%25%3Bheight%3A%20100%25%3Bmargin%3A%200%3Bpadding%3A%200%3B%7D%3C/style%3E%0A%20%20%20%20%3Cstyle%3E%23map%20%7Bposition%3Aabsolute%3Btop%3A0%3Bbottom%3A0%3Bright%3A0%3Bleft%3A0%3B%7D%3C/style%3E%0A%20%20%20%20%0A%20%20%20%20%3Cmeta%20name%3D%22viewport%22%20content%3D%22width%3Ddevice-width%2C%0A%20%20%20%20%20%20%20%20initial-scale%3D1.0%2C%20maximum-scale%3D1.0%2C%20user-scalable%3Dno%22%20/%3E%0A%20%20%20%20%3Cstyle%3E%23map_908d6847c37141a3882dc0b70709bd34%20%7B%0A%20%20%20%20%20%20%20%20position%3A%20relative%3B%0A%20%20%20%20%20%20%20%20width%3A%20100.0%25%3B%0A%20%20%20%20%20%20%20%20height%3A%20500.0px%3B%0A%20%20%20%20%20%20%20%20left%3A%200.0%25%3B%0A%20%20%20%20%20%20%20%20top%3A%200.0%25%3B%0A%20%20%20%20%20%20%20%20%7D%0A%20%20%20%20%3C/style%3E%0A%20%20%20%20%3Cscript%20src%3D%22https%3A//cdnjs.cloudflare.com/ajax/libs/leaflet.fullscreen/1.4.2/Control.FullScreen.min.js%22%3E%3C/script%3E%0A%20%20%20%20%3Clink%20rel%3D%22stylesheet%22%20href%3D%22https%3A//cdnjs.cloudflare.com/ajax/libs/leaflet.fullscreen/1.4.2/Control.FullScreen.min.css%22/%3E%0A%3C/head%3E%0A%3Cbody%3E%20%20%20%20%0A%20%20%20%20%0A%20%20%20%20%3Cdiv%20class%3D%22folium-map%22%20id%3D%22map_908d6847c37141a3882dc0b70709bd34%22%20%3E%3C/div%3E%0A%3C/body%3E%0A%3Cscript%3E%20%20%20%20%0A%20%20%20%20%0A%20%20%20%20%0A%20%20%20%20%20%20%20%20var%20bounds%20%3D%20null%3B%0A%20%20%20%20%0A%0A%20%20%20%20var%20map_908d6847c37141a3882dc0b70709bd34%20%3D%20L.map%28%0A%20%20%20%20%20%20%20%20%27map_908d6847c37141a3882dc0b70709bd34%27%2C%20%7B%0A%20%20%20%20%20%20%20%20center%3A%20%5B43.61529927557995%2C%207.075464799049402%5D%2C%0A%20%20%20%20%20%20%20%20zoom%3A%2012%2C%0A%20%20%20%20%20%20%20%20maxBounds%3A%20bounds%2C%0A%20%20%20%20%20%20%20%20layers%3A%20%5B%5D%2C%0A%20%20%20%20%20%20%20%20worldCopyJump%3A%20false%2C%0A%20%20%20%20%20%20%20%20crs%3A%20L.CRS.EPSG3857%2C%0A%20%20%20%20%20%20%20%20zoomControl%3A%20true%2C%0A%20%20%20%20%20%20%20%20%7D%29%3B%0A%0A%0A%20%20%20%20%0A%20%20%20%20var%20tile_layer_0249322b9f0a4f1bad3806cea0349d9c%20%3D%20L.tileLayer%28%0A%20%20%20%20%20%20%20%20%27https%3A//%7Bs%7D.tile.openstreetmap.org/%7Bz%7D/%7Bx%7D/%7By%7D.png%27%2C%0A%20%20%20%20%20%20%20%20%7B%0A%20%20%20%20%20%20%20%20%22attribution%22%3A%20null%2C%0A%20%20%20%20%20%20%20%20%22detectRetina%22%3A%20false%2C%0A%20%20%20%20%20%20%20%20%22maxNativeZoom%22%3A%2018%2C%0A%20%20%20%20%20%20%20%20%22maxZoom%22%3A%2018%2C%0A%20%20%20%20%20%20%20%20%22minZoom%22%3A%200%2C%0A%20%20%20%20%20%20%20%20%22noWrap%22%3A%20false%2C%0A%20%20%20%20%20%20%20%20%22opacity%22%3A%201%2C%0A%20%20%20%20%20%20%20%20%22subdomains%22%3A%20%22abc%22%2C%0A%20%20%20%20%20%20%20%20%22tms%22%3A%20false%0A%7D%29.addTo%28map_908d6847c37141a3882dc0b70709bd34%29%3B%0A%20%20%20%20var%20tile_layer_03a143e514c549d4983cff03dcc3b0c2%20%3D%20L.tileLayer%28%0A%20%20%20%20%20%20%20%20%27https%3A//server.arcgisonline.com/ArcGIS/rest/services/World_Imagery/MapServer/tile/%7Bz%7D/%7By%7D/%7Bx%7D%27%2C%0A%20%20%20%20%20%20%20%20%7B%0A%20%20%20%20%20%20%20%20%22attribution%22%3A%20%22Esri%22%2C%0A%20%20%20%20%20%20%20%20%22detectRetina%22%3A%20false%2C%0A%20%20%20%20%20%20%20%20%22maxNativeZoom%22%3A%2018%2C%0A%20%20%20%20%20%20%20%20%22maxZoom%22%3A%2018%2C%0A%20%20%20%20%20%20%20%20%22minZoom%22%3A%200%2C%0A%20%20%20%20%20%20%20%20%22noWrap%22%3A%20false%2C%0A%20%20%20%20%20%20%20%20%22opacity%22%3A%201%2C%0A%20%20%20%20%20%20%20%20%22subdomains%22%3A%20%22abc%22%2C%0A%20%20%20%20%20%20%20%20%22tms%22%3A%20false%0A%7D%29.addTo%28map_908d6847c37141a3882dc0b70709bd34%29%3B%0A%20%20%20%20var%20tile_layer_4ec57f8e765443068df7e4d9181de1d1%20%3D%20L.tileLayer%28%0A%20%20%20%20%20%20%20%20%27https%3A//earthengine.googleapis.com/v1alpha/projects/earthengine-legacy/maps/43455307d7afaf7275bce671ae070691-af9cc4c8ce32cc61df66c9f3697bb449/tiles/%7Bz%7D/%7Bx%7D/%7By%7D%27%2C%0A%20%20%20%20%20%20%20%20%7B%0A%20%20%20%20%20%20%20%20%22attribution%22%3A%20%22Google%20Earth%20Engine%22%2C%0A%20%20%20%20%20%20%20%20%22detectRetina%22%3A%20false%2C%0A%20%20%20%20%20%20%20%20%22maxNativeZoom%22%3A%2018%2C%0A%20%20%20%20%20%20%20%20%22maxZoom%22%3A%2018%2C%0A%20%20%20%20%20%20%20%20%22minZoom%22%3A%200%2C%0A%20%20%20%20%20%20%20%20%22noWrap%22%3A%20false%2C%0A%20%20%20%20%20%20%20%20%22opacity%22%3A%200.8%2C%0A%20%20%20%20%20%20%20%20%22subdomains%22%3A%20%22abc%22%2C%0A%20%20%20%20%20%20%20%20%22tms%22%3A%20false%0A%7D%29.addTo%28map_908d6847c37141a3882dc0b70709bd34%29%3B%0A%20%20%20%20var%20tile_layer_0d73cead0c2041929014de884f6a01c5%20%3D%20L.tileLayer%28%0A%20%20%20%20%20%20%20%20%27https%3A//earthengine.googleapis.com/v1alpha/projects/earthengine-legacy/maps/b1043a24477c7d956b5e9d64e5033e0f-ae3adcc22202fe2aa341bb7d764b3d32/tiles/%7Bz%7D/%7Bx%7D/%7By%7D%27%2C%0A%20%20%20%20%20%20%20%20%7B%0A%20%20%20%20%20%20%20%20%22attribution%22%3A%20%22Google%20Earth%20Engine%22%2C%0A%20%20%20%20%20%20%20%20%22detectRetina%22%3A%20false%2C%0A%20%20%20%20%20%20%20%20%22maxNativeZoom%22%3A%2018%2C%0A%20%20%20%20%20%20%20%20%22maxZoom%22%3A%2018%2C%0A%20%20%20%20%20%20%20%20%22minZoom%22%3A%200%2C%0A%20%20%20%20%20%20%20%20%22noWrap%22%3A%20false%2C%0A%20%20%20%20%20%20%20%20%22opacity%22%3A%200.7%2C%0A%20%20%20%20%20%20%20%20%22subdomains%22%3A%20%22abc%22%2C%0A%20%20%20%20%20%20%20%20%22tms%22%3A%20false%0A%7D%29.addTo%28map_908d6847c37141a3882dc0b70709bd34%29%3B%0A%20%20%20%20var%20tile_layer_04c139676e104e0098ff32ccd236d8c8%20%3D%20L.tileLayer%28%0A%20%20%20%20%20%20%20%20%27https%3A//earthengine.googleapis.com/v1alpha/projects/earthengine-legacy/maps/eb489f4d0f32f131771a2e5fd9916493-4100337a974d10100ebb3f580ac6b5cd/tiles/%7Bz%7D/%7Bx%7D/%7By%7D%27%2C%0A%20%20%20%20%20%20%20%20%7B%0A%20%20%20%20%20%20%20%20%22attribution%22%3A%20%22Google%20Earth%20Engine%22%2C%0A%20%20%20%20%20%20%20%20%22detectRetina%22%3A%20false%2C%0A%20%20%20%20%20%20%20%20%22maxNativeZoom%22%3A%2018%2C%0A%20%20%20%20%20%20%20%20%22maxZoom%22%3A%2018%2C%0A%20%20%20%20%20%20%20%20%22minZoom%22%3A%200%2C%0A%20%20%20%20%20%20%20%20%22noWrap%22%3A%20false%2C%0A%20%20%20%20%20%20%20%20%22opacity%22%3A%200.9%2C%0A%20%20%20%20%20%20%20%20%22subdomains%22%3A%20%22abc%22%2C%0A%20%20%20%20%20%20%20%20%22tms%22%3A%20false%0A%7D%29.addTo%28map_908d6847c37141a3882dc0b70709bd34%29%3B%0A%20%20%20%20%0A%20%20%20%20%20%20%20%20%20%20%20%20var%20layer_control_3b6904e53ac6435a9902d9ce796f8119%20%3D%20%7B%0A%20%20%20%20%20%20%20%20%20%20%20%20%20%20%20%20base_layers%20%3A%20%7B%20%22openstreetmap%22%20%3A%20tile_layer_0249322b9f0a4f1bad3806cea0349d9c%2C%20%7D%2C%0A%20%20%20%20%20%20%20%20%20%20%20%20%20%20%20%20overlays%20%3A%20%7B%20%22Esri%20Satellite%22%20%3A%20tile_layer_03a143e514c549d4983cff03dcc3b0c2%2C%22Aqua%20Vegetation%20Indices%2016-Day%20Global%20250m%22%20%3A%20tile_layer_4ec57f8e765443068df7e4d9181de1d1%2C%22Global%20PALSAR-2/PALSAR%20Forest/Non-Forest%20Map%20-2017%22%20%3A%20tile_layer_0d73cead0c2041929014de884f6a01c5%2C%22Sentinel-2%20MSI%3A%20MultiSpectral%20Instrument%2C%20Level-2A%22%20%3A%20tile_layer_04c139676e104e0098ff32ccd236d8c8%2C%20%7D%0A%20%20%20%20%20%20%20%20%20%20%20%20%20%20%20%20%7D%3B%0A%20%20%20%20%20%20%20%20%20%20%20%20L.control.layers%28%0A%20%20%20%20%20%20%20%20%20%20%20%20%20%20%20%20layer_control_3b6904e53ac6435a9902d9ce796f8119.base_layers%2C%0A%20%20%20%20%20%20%20%20%20%20%20%20%20%20%20%20layer_control_3b6904e53ac6435a9902d9ce796f8119.overlays%2C%0A%20%20%20%20%20%20%20%20%20%20%20%20%20%20%20%20%7Bposition%3A%20%27topright%27%2C%0A%20%20%20%20%20%20%20%20%20%20%20%20%20%20%20%20%20collapsed%3A%20true%2C%0A%20%20%20%20%20%20%20%20%20%20%20%20%20%20%20%20%20autoZIndex%3A%20true%0A%20%20%20%20%20%20%20%20%20%20%20%20%20%20%20%20%7D%29.addTo%28map_908d6847c37141a3882dc0b70709bd34%29%3B%0A%20%20%20%20%20%20%20%20%20%20%20%20%0A%20%20%20%20%20%20%20%20%0A%20%20%20%20%0A%20%20%20%20%20%20%20%20%20%20%20%20L.control.fullscreen%28%7B%0A%20%20%20%20%20%20%20%20%20%20%20%20%20%20%20%20position%3A%20%27topleft%27%2C%0A%20%20%20%20%20%20%20%20%20%20%20%20%20%20%20%20title%3A%20%27Full%20Screen%27%2C%0A%20%20%20%20%20%20%20%20%20%20%20%20%20%20%20%20titleCancel%3A%20%27Exit%20Full%20Screen%27%2C%0A%20%20%20%20%20%20%20%20%20%20%20%20%20%20%20%20forceSeparateButton%3A%20false%2C%0A%20%20%20%20%20%20%20%20%20%20%20%20%20%20%20%20%7D%29.addTo%28map_908d6847c37141a3882dc0b70709bd34%29%3B%0A%20%20%20%20%20%20%20%20%20%20%20%20map_908d6847c37141a3882dc0b70709bd34.on%28%27enterFullscreen%27%2C%20function%28%29%7B%0A%20%20%20%20%20%20%20%20%20%20%20%20%20%20%20%20console.log%28%27entered%20fullscreen%27%29%3B%0A%20%20%20%20%20%20%20%20%20%20%20%20%7D%29%3B%0A%0A%20%20%20%20%20%20%20%20%0A%3C/script%3E onload=\"this.contentDocument.open();this.contentDocument.write(    decodeURIComponent(this.getAttribute('data-html')));this.contentDocument.close();\" allowfullscreen webkitallowfullscreen mozallowfullscreen></iframe></div></div>"
            ],
            "text/plain": [
              "<folium.folium.Map at 0x7f740bbc0050>"
            ]
          },
          "metadata": {
            "tags": []
          }
        }
      ]
    },
    {
      "cell_type": "code",
      "metadata": {
        "id": "74rGb683ccef"
      },
      "source": [
        ""
      ],
      "execution_count": null,
      "outputs": []
    }
  ]
}