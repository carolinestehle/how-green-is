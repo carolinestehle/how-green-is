{
  "nbformat": 4,
  "nbformat_minor": 0,
  "metadata": {
    "colab": {
      "name": "Create_shapefile_and_tiff_from_geo_coord.ipynb",
      "provenance": [],
      "collapsed_sections": [],
      "toc_visible": true
    },
    "kernelspec": {
      "name": "python3",
      "display_name": "Python 3"
    }
  },
  "cells": [
    {
      "cell_type": "code",
      "metadata": {
        "id": "Th4BMrYBGH-E"
      },
      "source": [
        "%load_ext autoreload\n",
        "%autoreload 2"
      ],
      "execution_count": null,
      "outputs": []
    },
    {
      "cell_type": "code",
      "metadata": {
        "id": "xDxPQn-lBqR_",
        "colab": {
          "base_uri": "https://localhost:8080/"
        },
        "outputId": "8a0967cb-7b8b-43b3-c317-004f43598593"
      },
      "source": [
        "from google.colab import drive\n",
        "drive.mount(\"/content/drive\")"
      ],
      "execution_count": null,
      "outputs": [
        {
          "output_type": "stream",
          "text": [
            "Drive already mounted at /content/drive; to attempt to forcibly remount, call drive.mount(\"/content/drive\", force_remount=True).\n"
          ],
          "name": "stdout"
        }
      ]
    },
    {
      "cell_type": "code",
      "metadata": {
        "colab": {
          "base_uri": "https://localhost:8080/"
        },
        "id": "5dJBCxmbbwc3",
        "outputId": "83196e95-70d9-43a9-9afa-179383b01c07"
      },
      "source": [
        "cd '/content/drive/MyDrive/Colab Notebooks/'"
      ],
      "execution_count": null,
      "outputs": [
        {
          "output_type": "stream",
          "text": [
            "/content/drive/MyDrive/Colab Notebooks\n"
          ],
          "name": "stdout"
        }
      ]
    },
    {
      "cell_type": "code",
      "metadata": {
        "colab": {
          "base_uri": "https://localhost:8080/"
        },
        "id": "5a3rvVIRGC35",
        "outputId": "52f8d901-167f-4d8f-e808-0d7742e659fc"
      },
      "source": [
        "ls"
      ],
      "execution_count": null,
      "outputs": [
        {
          "output_type": "stream",
          "text": [
            " builtupNeuralNetwork.ipynb\n",
            "'Copy of Create_shapefile_and_tiff_from_geo_coord.ipynb'\n",
            " Create_shapefile_and_tiff_from_geo_coord.ipynb\n",
            " \u001b[0m\u001b[01;34mLandsat-Classification-Using-Neural-Network\u001b[0m/\n",
            " ModuleInstaller.py\n",
            " Plot_geotiff_RGB.ipynb\n",
            " Popocatepetl_shapefile.dbf\n",
            " Popocatepetl_shapefile.shp\n",
            " Popocatepetl_shapefile.shx\n",
            " Puebla_shapefile.dbf\n",
            " Puebla_shapefile.shp\n",
            " Puebla_shapefile.shx\n",
            " \u001b[01;34m__pycache__\u001b[0m/\n",
            " \u001b[01;34mPython_labs\u001b[0m/\n",
            " reading_and_visualizing_geotiff_images.ipynb\n",
            " S2A_MSIL2A_20210225T170251_N0214_R069_T14QNG_20210225T211901.zip\n",
            " sat_tools.py\n",
            " \u001b[01;34mSentinel2_images\u001b[0m/\n",
            " \u001b[01;34mtutorials\u001b[0m/\n"
          ],
          "name": "stdout"
        }
      ]
    },
    {
      "cell_type": "code",
      "metadata": {
        "id": "3SFOSWGBGCXH"
      },
      "source": [
        "from ModuleInstaller import installModule"
      ],
      "execution_count": null,
      "outputs": []
    },
    {
      "cell_type": "markdown",
      "metadata": {
        "id": "8DGtwdhneu8I"
      },
      "source": [
        ""
      ]
    },
    {
      "cell_type": "markdown",
      "metadata": {
        "id": "7s1qRKXxHn5X"
      },
      "source": [
        "# Introduction"
      ]
    },
    {
      "cell_type": "markdown",
      "metadata": {
        "id": "E3fOPofTFMuK"
      },
      "source": [
        "This Notebook was intended to get semi-automatically multi-spectral images of reduced size which could be used at entry of Neural network for green (vegetation) areas detection.\n",
        "\n",
        "We need as first step images with full urban areas or full vegetation areas. This is why we need to crop images to get only reduced images with the area of interest.\n",
        "\n",
        "Before running this Jupyter notebook, I searched the GPS coordinates of a dense urban area on OpenStreetMap -> Export\n",
        ". \n",
        "In the Notebook, we create a shapefile, make a query on Copernicus hub with Sentinel API to get a corresponding satellite file. \n",
        "We select the 10m and 20m resolution bands and we oversample 20m resolution bands. At the end we crop all bands of satellite image corresponding to the shapefile over the area of interest and we create a new tiff multispectral image with all the bands. This image still contains the metadata information to locate the image on a map (with folium for instance).\n",
        "\n",
        "The same procedure must be repeated for a dense green area, and for a mix area.\n",
        "\n",
        "The area of interest is a rectangle, but we could create more complex shapes with holes, etc."
      ]
    },
    {
      "cell_type": "markdown",
      "metadata": {
        "id": "YiWTxzbnMCQV"
      },
      "source": [
        "# Create shapefile over area of interest\n",
        "\n",
        "Reference tutorial: https://pypi.org/project/pyshp/#writing-shapefiles\n"
      ]
    },
    {
      "cell_type": "code",
      "metadata": {
        "id": "FQQ_CGv2U2qT",
        "colab": {
          "base_uri": "https://localhost:8080/"
        },
        "outputId": "e098cf39-6918-46ee-c57d-ab1e4485c6c5"
      },
      "source": [
        "from sat_tools import create_shapefile_from_geo_coordinates"
      ],
      "execution_count": null,
      "outputs": [
        {
          "output_type": "stream",
          "text": [
            "No conda\n"
          ],
          "name": "stdout"
        }
      ]
    },
    {
      "cell_type": "markdown",
      "metadata": {
        "id": "iukXLHHXKDoz"
      },
      "source": [
        "Here we create a simple polygon shapefile, which is a square composed of GPS coordinates (latitude, longitude) in clockwise order. Latitude and longitude of area of interest can be found with www.openstreetmap.org -> Export\n"
      ]
    },
    {
      "cell_type": "markdown",
      "metadata": {
        "id": "XIlA_1auxnzT"
      },
      "source": [
        "In the following, choose 1 cell to run, depending on which file you want to generate, and then go to next section (NB: I choose areas which correspond to the same satellite image, so that we don't need to download 3 times a new satellite image -> we reuse the same)"
      ]
    },
    {
      "cell_type": "code",
      "metadata": {
        "id": "anLJqiuMBdhY"
      },
      "source": [
        "area = 'Puebla'\n",
        "shapefilename = area + '_' + 'shapefile'\n",
        "fieldname = 'urban'\n",
        "N_lat = 19.1062\n",
        "S_lat = 18.9813\n",
        "W_long = -98.2894\n",
        "E_long = -98.1731\n",
        "create_shapefile_from_geo_coordinates(shapefilename, fieldname, N_lat, S_lat, W_long, E_long)\n"
      ],
      "execution_count": null,
      "outputs": []
    },
    {
      "cell_type": "markdown",
      "metadata": {
        "id": "jO9CEttt-AGh"
      },
      "source": [
        "We do the same for a green area:"
      ]
    },
    {
      "cell_type": "code",
      "metadata": {
        "id": "7JzlaTOU95yv"
      },
      "source": [
        "area = 'Popocatepetl'\n",
        "shapefilename = area + '_' + 'shapefile'\n",
        "fieldname = 'nature'\n",
        "N_lat = 19.3098\n",
        "S_lat = 19.0981\n",
        "W_long = -98.7381\n",
        "E_long = -98.5573\n",
        "create_shapefile_from_geo_coordinates(shapefilename, fieldname, N_lat, S_lat, W_long, E_long)\n"
      ],
      "execution_count": null,
      "outputs": []
    },
    {
      "cell_type": "markdown",
      "metadata": {
        "id": "bffbFTDvlsP4"
      },
      "source": [
        "And for a mixed urban/green area:"
      ]
    },
    {
      "cell_type": "code",
      "metadata": {
        "id": "-DchedhAlrSo"
      },
      "source": [
        "area = 'Tlaxcala'\n",
        "shapefilename = area + '_' + 'shapefile'\n",
        "fieldname = 'nature'\n",
        "N_lat = 19.3509\n",
        "S_lat = 19.3118\n",
        "W_long = -98.2599\n",
        "E_long = -98.2154\n",
        "create_shapefile_from_geo_coordinates(shapefilename, fieldname, N_lat, S_lat, W_long, E_long)\n"
      ],
      "execution_count": null,
      "outputs": []
    },
    {
      "cell_type": "markdown",
      "metadata": {
        "id": "eRgnGrY-NGrA"
      },
      "source": [
        "# Visualise area of interest with geopandas and folium"
      ]
    },
    {
      "cell_type": "markdown",
      "metadata": {
        "id": "gXJu6jIgNna4"
      },
      "source": [
        "Reference tutorial:\n",
        "https://towardsdatascience.com/satellite-imagery-access-and-analysis-in-python-jupyter-notebooks-387971ece84b"
      ]
    },
    {
      "cell_type": "code",
      "metadata": {
        "colab": {
          "base_uri": "https://localhost:8080/"
        },
        "id": "p3TOAeTzd-sB",
        "outputId": "6eb67f4e-f1b5-4beb-a3b3-0d10bba904e2"
      },
      "source": [
        "!pip install sentinelsat\n",
        "!pip install rasterio\n",
        "!pip install folium\n",
        "!apt install gdal-bin python-gdal python3-gdal \n",
        "!apt install python3-rtree \n",
        "!pip install git+git://github.com/geopandas/geopandas.git\n",
        "!pip install descartes \n"
      ],
      "execution_count": null,
      "outputs": [
        {
          "output_type": "stream",
          "text": [
            "Collecting sentinelsat\n",
            "  Downloading https://files.pythonhosted.org/packages/1c/b9/86fb44a61963895cd1ec644578f5d6e33b83dfa64b22a78d05a378c0eb90/sentinelsat-0.14-py2.py3-none-any.whl\n",
            "Collecting geomet\n",
            "  Downloading https://files.pythonhosted.org/packages/b8/2f/144060decf32ff7a4d6da5f9ce8a6b9c05e75a626fb6337b82898a052e37/geomet-0.3.0-py3-none-any.whl\n",
            "Requirement already satisfied: click in /usr/local/lib/python3.7/dist-packages (from sentinelsat) (7.1.2)\n",
            "Requirement already satisfied: six in /usr/local/lib/python3.7/dist-packages (from sentinelsat) (1.15.0)\n",
            "Collecting geojson>=2\n",
            "  Downloading https://files.pythonhosted.org/packages/e4/8d/9e28e9af95739e6d2d2f8d4bef0b3432da40b7c3588fbad4298c1be09e48/geojson-2.5.0-py2.py3-none-any.whl\n",
            "Collecting html2text\n",
            "  Downloading https://files.pythonhosted.org/packages/ae/88/14655f727f66b3e3199f4467bafcc88283e6c31b562686bf606264e09181/html2text-2020.1.16-py3-none-any.whl\n",
            "Requirement already satisfied: tqdm in /usr/local/lib/python3.7/dist-packages (from sentinelsat) (4.41.1)\n",
            "Requirement already satisfied: requests in /usr/local/lib/python3.7/dist-packages (from sentinelsat) (2.23.0)\n",
            "Requirement already satisfied: certifi>=2017.4.17 in /usr/local/lib/python3.7/dist-packages (from requests->sentinelsat) (2020.12.5)\n",
            "Requirement already satisfied: chardet<4,>=3.0.2 in /usr/local/lib/python3.7/dist-packages (from requests->sentinelsat) (3.0.4)\n",
            "Requirement already satisfied: urllib3!=1.25.0,!=1.25.1,<1.26,>=1.21.1 in /usr/local/lib/python3.7/dist-packages (from requests->sentinelsat) (1.24.3)\n",
            "Requirement already satisfied: idna<3,>=2.5 in /usr/local/lib/python3.7/dist-packages (from requests->sentinelsat) (2.10)\n",
            "Installing collected packages: geomet, geojson, html2text, sentinelsat\n",
            "Successfully installed geojson-2.5.0 geomet-0.3.0 html2text-2020.1.16 sentinelsat-0.14\n",
            "Collecting rasterio\n",
            "\u001b[?25l  Downloading https://files.pythonhosted.org/packages/04/37/40712857e6c82cac52051d9faee43bc468e5806640ddbf88e10d591dbdf1/rasterio-1.2.1-cp37-cp37m-manylinux1_x86_64.whl (19.1MB)\n",
            "\u001b[K     |████████████████████████████████| 19.1MB 63.0MB/s \n",
            "\u001b[?25hCollecting click-plugins\n",
            "  Downloading https://files.pythonhosted.org/packages/e9/da/824b92d9942f4e472702488857914bdd50f73021efea15b4cad9aca8ecef/click_plugins-1.1.1-py2.py3-none-any.whl\n",
            "Requirement already satisfied: numpy in /usr/local/lib/python3.7/dist-packages (from rasterio) (1.19.5)\n",
            "Collecting snuggs>=1.4.1\n",
            "  Downloading https://files.pythonhosted.org/packages/cc/0e/d27d6e806d6c0d1a2cfdc5d1f088e42339a0a54a09c3343f7f81ec8947ea/snuggs-1.4.7-py3-none-any.whl\n",
            "Requirement already satisfied: certifi in /usr/local/lib/python3.7/dist-packages (from rasterio) (2020.12.5)\n",
            "Collecting affine\n",
            "  Downloading https://files.pythonhosted.org/packages/ac/a6/1a39a1ede71210e3ddaf623982b06ecfc5c5c03741ae659073159184cd3e/affine-2.3.0-py2.py3-none-any.whl\n",
            "Collecting cligj>=0.5\n",
            "  Downloading https://files.pythonhosted.org/packages/42/1e/947eadf10d6804bf276eb8a038bd5307996dceaaa41cfd21b7a15ec62f5d/cligj-0.7.1-py3-none-any.whl\n",
            "Requirement already satisfied: click<8,>=4.0 in /usr/local/lib/python3.7/dist-packages (from rasterio) (7.1.2)\n",
            "Requirement already satisfied: attrs in /usr/local/lib/python3.7/dist-packages (from rasterio) (20.3.0)\n",
            "Requirement already satisfied: pyparsing>=2.1.6 in /usr/local/lib/python3.7/dist-packages (from snuggs>=1.4.1->rasterio) (2.4.7)\n",
            "Installing collected packages: click-plugins, snuggs, affine, cligj, rasterio\n",
            "Successfully installed affine-2.3.0 click-plugins-1.1.1 cligj-0.7.1 rasterio-1.2.1 snuggs-1.4.7\n",
            "Requirement already satisfied: folium in /usr/local/lib/python3.7/dist-packages (0.8.3)\n",
            "Requirement already satisfied: branca>=0.3.0 in /usr/local/lib/python3.7/dist-packages (from folium) (0.4.2)\n",
            "Requirement already satisfied: numpy in /usr/local/lib/python3.7/dist-packages (from folium) (1.19.5)\n",
            "Requirement already satisfied: six in /usr/local/lib/python3.7/dist-packages (from folium) (1.15.0)\n",
            "Requirement already satisfied: requests in /usr/local/lib/python3.7/dist-packages (from folium) (2.23.0)\n",
            "Requirement already satisfied: jinja2 in /usr/local/lib/python3.7/dist-packages (from folium) (2.11.3)\n",
            "Requirement already satisfied: certifi>=2017.4.17 in /usr/local/lib/python3.7/dist-packages (from requests->folium) (2020.12.5)\n",
            "Requirement already satisfied: urllib3!=1.25.0,!=1.25.1,<1.26,>=1.21.1 in /usr/local/lib/python3.7/dist-packages (from requests->folium) (1.24.3)\n",
            "Requirement already satisfied: chardet<4,>=3.0.2 in /usr/local/lib/python3.7/dist-packages (from requests->folium) (3.0.4)\n",
            "Requirement already satisfied: idna<3,>=2.5 in /usr/local/lib/python3.7/dist-packages (from requests->folium) (2.10)\n",
            "Requirement already satisfied: MarkupSafe>=0.23 in /usr/local/lib/python3.7/dist-packages (from jinja2->folium) (1.1.1)\n",
            "Reading package lists... Done\n",
            "Building dependency tree       \n",
            "Reading state information... Done\n",
            "gdal-bin is already the newest version (2.2.3+dfsg-2).\n",
            "python-gdal is already the newest version (2.2.3+dfsg-2).\n",
            "The following additional packages will be installed:\n",
            "  python3-numpy\n",
            "Suggested packages:\n",
            "  python-numpy-doc python3-nose python3-numpy-dbg\n",
            "The following NEW packages will be installed:\n",
            "  python3-gdal python3-numpy\n",
            "0 upgraded, 2 newly installed, 0 to remove and 30 not upgraded.\n",
            "Need to get 2,288 kB of archives.\n",
            "After this operation, 13.2 MB of additional disk space will be used.\n",
            "Get:1 http://archive.ubuntu.com/ubuntu bionic/main amd64 python3-numpy amd64 1:1.13.3-2ubuntu1 [1,943 kB]\n",
            "Get:2 http://archive.ubuntu.com/ubuntu bionic/universe amd64 python3-gdal amd64 2.2.3+dfsg-2 [346 kB]\n",
            "Fetched 2,288 kB in 1s (2,419 kB/s)\n",
            "Selecting previously unselected package python3-numpy.\n",
            "(Reading database ... 160980 files and directories currently installed.)\n",
            "Preparing to unpack .../python3-numpy_1%3a1.13.3-2ubuntu1_amd64.deb ...\n",
            "Unpacking python3-numpy (1:1.13.3-2ubuntu1) ...\n",
            "Selecting previously unselected package python3-gdal.\n",
            "Preparing to unpack .../python3-gdal_2.2.3+dfsg-2_amd64.deb ...\n",
            "Unpacking python3-gdal (2.2.3+dfsg-2) ...\n",
            "Setting up python3-numpy (1:1.13.3-2ubuntu1) ...\n",
            "Setting up python3-gdal (2.2.3+dfsg-2) ...\n",
            "Processing triggers for man-db (2.8.3-2ubuntu0.1) ...\n",
            "Reading package lists... Done\n",
            "Building dependency tree       \n",
            "Reading state information... Done\n",
            "The following additional packages will be installed:\n",
            "  libspatialindex-c4v5 libspatialindex-dev libspatialindex4v5\n",
            "  python3-pkg-resources\n",
            "Suggested packages:\n",
            "  python3-setuptools\n",
            "The following NEW packages will be installed:\n",
            "  libspatialindex-c4v5 libspatialindex-dev libspatialindex4v5\n",
            "  python3-pkg-resources python3-rtree\n",
            "0 upgraded, 5 newly installed, 0 to remove and 30 not upgraded.\n",
            "Need to get 671 kB of archives.\n",
            "After this operation, 3,948 kB of additional disk space will be used.\n",
            "Get:1 http://archive.ubuntu.com/ubuntu bionic/universe amd64 libspatialindex4v5 amd64 1.8.5-5 [219 kB]\n",
            "Get:2 http://archive.ubuntu.com/ubuntu bionic/universe amd64 libspatialindex-c4v5 amd64 1.8.5-5 [51.7 kB]\n",
            "Get:3 http://archive.ubuntu.com/ubuntu bionic/main amd64 python3-pkg-resources all 39.0.1-2 [98.8 kB]\n",
            "Get:4 http://archive.ubuntu.com/ubuntu bionic/universe amd64 libspatialindex-dev amd64 1.8.5-5 [285 kB]\n",
            "Get:5 http://archive.ubuntu.com/ubuntu bionic/universe amd64 python3-rtree all 0.8.3+ds-1 [16.9 kB]\n",
            "Fetched 671 kB in 1s (774 kB/s)\n",
            "Selecting previously unselected package libspatialindex4v5:amd64.\n",
            "(Reading database ... 161390 files and directories currently installed.)\n",
            "Preparing to unpack .../libspatialindex4v5_1.8.5-5_amd64.deb ...\n",
            "Unpacking libspatialindex4v5:amd64 (1.8.5-5) ...\n",
            "Selecting previously unselected package libspatialindex-c4v5:amd64.\n",
            "Preparing to unpack .../libspatialindex-c4v5_1.8.5-5_amd64.deb ...\n",
            "Unpacking libspatialindex-c4v5:amd64 (1.8.5-5) ...\n",
            "Selecting previously unselected package python3-pkg-resources.\n",
            "Preparing to unpack .../python3-pkg-resources_39.0.1-2_all.deb ...\n",
            "Unpacking python3-pkg-resources (39.0.1-2) ...\n",
            "Selecting previously unselected package libspatialindex-dev:amd64.\n",
            "Preparing to unpack .../libspatialindex-dev_1.8.5-5_amd64.deb ...\n",
            "Unpacking libspatialindex-dev:amd64 (1.8.5-5) ...\n",
            "Selecting previously unselected package python3-rtree.\n",
            "Preparing to unpack .../python3-rtree_0.8.3+ds-1_all.deb ...\n",
            "Unpacking python3-rtree (0.8.3+ds-1) ...\n",
            "Setting up libspatialindex4v5:amd64 (1.8.5-5) ...\n",
            "Setting up python3-pkg-resources (39.0.1-2) ...\n",
            "Setting up libspatialindex-c4v5:amd64 (1.8.5-5) ...\n",
            "Setting up libspatialindex-dev:amd64 (1.8.5-5) ...\n",
            "Setting up python3-rtree (0.8.3+ds-1) ...\n",
            "Processing triggers for libc-bin (2.27-3ubuntu1.2) ...\n",
            "/sbin/ldconfig.real: /usr/local/lib/python3.7/dist-packages/ideep4py/lib/libmkldnn.so.0 is not a symbolic link\n",
            "\n",
            "Collecting git+git://github.com/geopandas/geopandas.git\n",
            "  Cloning git://github.com/geopandas/geopandas.git to /tmp/pip-req-build-ngnq9ygy\n",
            "  Running command git clone -q git://github.com/geopandas/geopandas.git /tmp/pip-req-build-ngnq9ygy\n",
            "Requirement already satisfied: pandas>=0.24.0 in /usr/local/lib/python3.7/dist-packages (from geopandas==0.9.0+7.gf5c54ed) (1.1.5)\n",
            "Requirement already satisfied: shapely>=1.6 in /usr/local/lib/python3.7/dist-packages (from geopandas==0.9.0+7.gf5c54ed) (1.7.1)\n",
            "Collecting fiona>=1.8\n",
            "\u001b[?25l  Downloading https://files.pythonhosted.org/packages/47/c2/67d1d0acbaaee3b03e5e22e3b96c33219cb5dd392531c9ff9cee7c2eb3e4/Fiona-1.8.18-cp37-cp37m-manylinux1_x86_64.whl (14.8MB)\n",
            "\u001b[K     |████████████████████████████████| 14.8MB 327kB/s \n",
            "\u001b[?25hCollecting pyproj>=2.2.0\n",
            "\u001b[?25l  Downloading https://files.pythonhosted.org/packages/b1/72/d52e9ca81caef056062d71991b0e9b1d16af042245627c5d0e4916a36c4f/pyproj-3.0.1-cp37-cp37m-manylinux2010_x86_64.whl (6.5MB)\n",
            "\u001b[K     |████████████████████████████████| 6.5MB 53.7MB/s \n",
            "\u001b[?25hRequirement already satisfied: pytz>=2017.2 in /usr/local/lib/python3.7/dist-packages (from pandas>=0.24.0->geopandas==0.9.0+7.gf5c54ed) (2018.9)\n",
            "Requirement already satisfied: numpy>=1.15.4 in /usr/local/lib/python3.7/dist-packages (from pandas>=0.24.0->geopandas==0.9.0+7.gf5c54ed) (1.19.5)\n",
            "Requirement already satisfied: python-dateutil>=2.7.3 in /usr/local/lib/python3.7/dist-packages (from pandas>=0.24.0->geopandas==0.9.0+7.gf5c54ed) (2.8.1)\n",
            "Requirement already satisfied: cligj>=0.5 in /usr/local/lib/python3.7/dist-packages (from fiona>=1.8->geopandas==0.9.0+7.gf5c54ed) (0.7.1)\n",
            "Requirement already satisfied: six>=1.7 in /usr/local/lib/python3.7/dist-packages (from fiona>=1.8->geopandas==0.9.0+7.gf5c54ed) (1.15.0)\n",
            "Requirement already satisfied: certifi in /usr/local/lib/python3.7/dist-packages (from fiona>=1.8->geopandas==0.9.0+7.gf5c54ed) (2020.12.5)\n",
            "Requirement already satisfied: click-plugins>=1.0 in /usr/local/lib/python3.7/dist-packages (from fiona>=1.8->geopandas==0.9.0+7.gf5c54ed) (1.1.1)\n",
            "Requirement already satisfied: attrs>=17 in /usr/local/lib/python3.7/dist-packages (from fiona>=1.8->geopandas==0.9.0+7.gf5c54ed) (20.3.0)\n",
            "Collecting munch\n",
            "  Downloading https://files.pythonhosted.org/packages/cc/ab/85d8da5c9a45e072301beb37ad7f833cd344e04c817d97e0cc75681d248f/munch-2.5.0-py2.py3-none-any.whl\n",
            "Requirement already satisfied: click<8,>=4.0 in /usr/local/lib/python3.7/dist-packages (from fiona>=1.8->geopandas==0.9.0+7.gf5c54ed) (7.1.2)\n",
            "Building wheels for collected packages: geopandas\n",
            "  Building wheel for geopandas (setup.py) ... \u001b[?25l\u001b[?25hdone\n",
            "  Created wheel for geopandas: filename=geopandas-0.9.0+7.gf5c54ed-py2.py3-none-any.whl size=995043 sha256=67a4b7190257a0a8812620893461dd6cf402b70073e358ec1df23a420c0f49e0\n",
            "  Stored in directory: /tmp/pip-ephem-wheel-cache-7q0kdh7i/wheels/91/24/71/376c9c67192694168352afcccc2d264248f7e2cc6192997186\n",
            "Successfully built geopandas\n",
            "Installing collected packages: munch, fiona, pyproj, geopandas\n",
            "Successfully installed fiona-1.8.18 geopandas-0.9.0+7.gf5c54ed munch-2.5.0 pyproj-3.0.1\n",
            "Requirement already satisfied: descartes in /usr/local/lib/python3.7/dist-packages (1.1.0)\n",
            "Requirement already satisfied: matplotlib in /usr/local/lib/python3.7/dist-packages (from descartes) (3.2.2)\n",
            "Requirement already satisfied: kiwisolver>=1.0.1 in /usr/local/lib/python3.7/dist-packages (from matplotlib->descartes) (1.3.1)\n",
            "Requirement already satisfied: numpy>=1.11 in /usr/local/lib/python3.7/dist-packages (from matplotlib->descartes) (1.19.5)\n",
            "Requirement already satisfied: cycler>=0.10 in /usr/local/lib/python3.7/dist-packages (from matplotlib->descartes) (0.10.0)\n",
            "Requirement already satisfied: python-dateutil>=2.1 in /usr/local/lib/python3.7/dist-packages (from matplotlib->descartes) (2.8.1)\n",
            "Requirement already satisfied: pyparsing!=2.0.4,!=2.1.2,!=2.1.6,>=2.0.1 in /usr/local/lib/python3.7/dist-packages (from matplotlib->descartes) (2.4.7)\n",
            "Requirement already satisfied: six in /usr/local/lib/python3.7/dist-packages (from cycler>=0.10->matplotlib->descartes) (1.15.0)\n"
          ],
          "name": "stdout"
        }
      ]
    },
    {
      "cell_type": "code",
      "metadata": {
        "id": "w-XSiH9Feu8B"
      },
      "source": [
        "import folium\n",
        "import os\n",
        "import numpy as np\n",
        "\n",
        "from sentinelsat import SentinelAPI, read_geojson, geojson_to_wkt \n",
        "import geopandas as gpd\n",
        "import pandas as pd\n",
        "import numpy as np\n",
        "import matplotlib.pyplot as plt\n",
        "\n",
        "from shapely.geometry import MultiPolygon, Polygon\n",
        "import rasterio as rio\n",
        "from rasterio.plot import show\n",
        "import rasterio.mask\n",
        "import fiona"
      ],
      "execution_count": null,
      "outputs": []
    },
    {
      "cell_type": "markdown",
      "metadata": {
        "id": "3vC429vNFSqv"
      },
      "source": [
        "Read shapefile with Geopandas and visualize it with Folium python library."
      ]
    },
    {
      "cell_type": "code",
      "metadata": {
        "colab": {
          "base_uri": "https://localhost:8080/",
          "height": 80
        },
        "id": "IQmeINyZfATS",
        "outputId": "008e9807-49f6-4a31-8fc7-989cdab65534"
      },
      "source": [
        "area_shape = gpd.read_file(shapefilename + '.shp')\n",
        "area_shape"
      ],
      "execution_count": null,
      "outputs": [
        {
          "output_type": "execute_result",
          "data": {
            "text/html": [
              "<div>\n",
              "<style scoped>\n",
              "    .dataframe tbody tr th:only-of-type {\n",
              "        vertical-align: middle;\n",
              "    }\n",
              "\n",
              "    .dataframe tbody tr th {\n",
              "        vertical-align: top;\n",
              "    }\n",
              "\n",
              "    .dataframe thead th {\n",
              "        text-align: right;\n",
              "    }\n",
              "</style>\n",
              "<table border=\"1\" class=\"dataframe\">\n",
              "  <thead>\n",
              "    <tr style=\"text-align: right;\">\n",
              "      <th></th>\n",
              "      <th>nature</th>\n",
              "      <th>geometry</th>\n",
              "    </tr>\n",
              "  </thead>\n",
              "  <tbody>\n",
              "    <tr>\n",
              "      <th>0</th>\n",
              "      <td>polygon1</td>\n",
              "      <td>POLYGON ((-98.25990 19.35090, -98.21540 19.350...</td>\n",
              "    </tr>\n",
              "  </tbody>\n",
              "</table>\n",
              "</div>"
            ],
            "text/plain": [
              "     nature                                           geometry\n",
              "0  polygon1  POLYGON ((-98.25990 19.35090, -98.21540 19.350..."
            ]
          },
          "metadata": {
            "tags": []
          },
          "execution_count": 10
        }
      ]
    },
    {
      "cell_type": "markdown",
      "metadata": {
        "id": "eYchUW4kFizG"
      },
      "source": [
        "We need to specify the CRS: Coordinate Reference System with an EPSG code, otherwise the shapefile is unusable."
      ]
    },
    {
      "cell_type": "markdown",
      "metadata": {
        "id": "IwWUEnlpGGDG"
      },
      "source": [
        "**EPSG** stands for European Petroleum Survey Group and is an organization that maintains a geodetic parameter database with standard codes, the EPSG codes, for coordinate systems, datums, spheroids, units... "
      ]
    },
    {
      "cell_type": "markdown",
      "metadata": {
        "id": "7o755qOymIz5"
      },
      "source": [
        "Common EPSG codes (Source: Wikipedia)\n",
        "\n",
        "**EPSG:4326** - WGS 84, latitude/longitude coordinate system based on the Earth's center of mass, used by the Global Positioning System among others.\n",
        "\n",
        "**EPSG:3857** - Web Mercator projection used for display by many web-based mapping tools, including Google Maps and OpenStreetMap.\n",
        "\n",
        "**EPSG:7789** - International Terrestrial Reference Frame 2014 (ITRF2014), an Earth-fixed system that is independent of continental drift."
      ]
    },
    {
      "cell_type": "code",
      "metadata": {
        "colab": {
          "base_uri": "https://localhost:8080/"
        },
        "id": "SsgeSkSNlVnO",
        "outputId": "570ea359-b03c-4f2e-ba86-efc48e96b5d9"
      },
      "source": [
        "area_shape.crs = {'init':\"epsg:4326\"}\n"
      ],
      "execution_count": null,
      "outputs": [
        {
          "output_type": "stream",
          "text": [
            "/usr/local/lib/python3.7/dist-packages/pyproj/crs/crs.py:53: FutureWarning: '+init=<authority>:<code>' syntax is deprecated. '<authority>:<code>' is the preferred initialization method. When making the change, be mindful of axis order changes: https://pyproj4.github.io/pyproj/stable/gotchas.html#axis-order-changes-in-proj-6\n",
            "  return _prepare_from_string(\" \".join(pjargs))\n"
          ],
          "name": "stderr"
        }
      ]
    },
    {
      "cell_type": "code",
      "metadata": {
        "colab": {
          "base_uri": "https://localhost:8080/",
          "height": 507
        },
        "id": "kcE4wwvRf92O",
        "outputId": "416e11ce-bf8d-4e5a-85b7-00c508431807"
      },
      "source": [
        "# Center the map at the center of the area of interest, thanks to latitude and longitude coordinates:\n",
        "m = folium.Map([(N_lat+S_lat)/2,(W_long+E_long)/2], zoom_start=11)\n",
        "\n",
        "# Visualise the map and the shape of the area\n",
        "folium.GeoJson(area_shape).add_to(m)\n",
        "m"
      ],
      "execution_count": null,
      "outputs": [
        {
          "output_type": "execute_result",
          "data": {
            "text/html": [
              "<div style=\"width:100%;\"><div style=\"position:relative;width:100%;height:0;padding-bottom:60%;\"><span style=\"color:#565656\">Make this Notebook Trusted to load map: File -> Trust Notebook</span><iframe src=\"about:blank\" style=\"position:absolute;width:100%;height:100%;left:0;top:0;border:none !important;\" data-html=%3C%21DOCTYPE%20html%3E%0A%3Chead%3E%20%20%20%20%0A%20%20%20%20%3Cmeta%20http-equiv%3D%22content-type%22%20content%3D%22text/html%3B%20charset%3DUTF-8%22%20/%3E%0A%20%20%20%20%3Cscript%3EL_PREFER_CANVAS%3Dfalse%3B%20L_NO_TOUCH%3Dfalse%3B%20L_DISABLE_3D%3Dfalse%3B%3C/script%3E%0A%20%20%20%20%3Cscript%20src%3D%22https%3A//cdn.jsdelivr.net/npm/leaflet%401.4.0/dist/leaflet.js%22%3E%3C/script%3E%0A%20%20%20%20%3Cscript%20src%3D%22https%3A//code.jquery.com/jquery-1.12.4.min.js%22%3E%3C/script%3E%0A%20%20%20%20%3Cscript%20src%3D%22https%3A//maxcdn.bootstrapcdn.com/bootstrap/3.2.0/js/bootstrap.min.js%22%3E%3C/script%3E%0A%20%20%20%20%3Cscript%20src%3D%22https%3A//cdnjs.cloudflare.com/ajax/libs/Leaflet.awesome-markers/2.0.2/leaflet.awesome-markers.js%22%3E%3C/script%3E%0A%20%20%20%20%3Clink%20rel%3D%22stylesheet%22%20href%3D%22https%3A//cdn.jsdelivr.net/npm/leaflet%401.4.0/dist/leaflet.css%22/%3E%0A%20%20%20%20%3Clink%20rel%3D%22stylesheet%22%20href%3D%22https%3A//maxcdn.bootstrapcdn.com/bootstrap/3.2.0/css/bootstrap.min.css%22/%3E%0A%20%20%20%20%3Clink%20rel%3D%22stylesheet%22%20href%3D%22https%3A//maxcdn.bootstrapcdn.com/bootstrap/3.2.0/css/bootstrap-theme.min.css%22/%3E%0A%20%20%20%20%3Clink%20rel%3D%22stylesheet%22%20href%3D%22https%3A//maxcdn.bootstrapcdn.com/font-awesome/4.6.3/css/font-awesome.min.css%22/%3E%0A%20%20%20%20%3Clink%20rel%3D%22stylesheet%22%20href%3D%22https%3A//cdnjs.cloudflare.com/ajax/libs/Leaflet.awesome-markers/2.0.2/leaflet.awesome-markers.css%22/%3E%0A%20%20%20%20%3Clink%20rel%3D%22stylesheet%22%20href%3D%22https%3A//rawcdn.githack.com/python-visualization/folium/master/folium/templates/leaflet.awesome.rotate.css%22/%3E%0A%20%20%20%20%3Cstyle%3Ehtml%2C%20body%20%7Bwidth%3A%20100%25%3Bheight%3A%20100%25%3Bmargin%3A%200%3Bpadding%3A%200%3B%7D%3C/style%3E%0A%20%20%20%20%3Cstyle%3E%23map%20%7Bposition%3Aabsolute%3Btop%3A0%3Bbottom%3A0%3Bright%3A0%3Bleft%3A0%3B%7D%3C/style%3E%0A%20%20%20%20%0A%20%20%20%20%3Cmeta%20name%3D%22viewport%22%20content%3D%22width%3Ddevice-width%2C%0A%20%20%20%20%20%20%20%20initial-scale%3D1.0%2C%20maximum-scale%3D1.0%2C%20user-scalable%3Dno%22%20/%3E%0A%20%20%20%20%3Cstyle%3E%23map_3ac2a4d737184934abda3a2c7f1df5a1%20%7B%0A%20%20%20%20%20%20%20%20position%3A%20relative%3B%0A%20%20%20%20%20%20%20%20width%3A%20100.0%25%3B%0A%20%20%20%20%20%20%20%20height%3A%20100.0%25%3B%0A%20%20%20%20%20%20%20%20left%3A%200.0%25%3B%0A%20%20%20%20%20%20%20%20top%3A%200.0%25%3B%0A%20%20%20%20%20%20%20%20%7D%0A%20%20%20%20%3C/style%3E%0A%3C/head%3E%0A%3Cbody%3E%20%20%20%20%0A%20%20%20%20%0A%20%20%20%20%3Cdiv%20class%3D%22folium-map%22%20id%3D%22map_3ac2a4d737184934abda3a2c7f1df5a1%22%20%3E%3C/div%3E%0A%3C/body%3E%0A%3Cscript%3E%20%20%20%20%0A%20%20%20%20%0A%20%20%20%20%0A%20%20%20%20%20%20%20%20var%20bounds%20%3D%20null%3B%0A%20%20%20%20%0A%0A%20%20%20%20var%20map_3ac2a4d737184934abda3a2c7f1df5a1%20%3D%20L.map%28%0A%20%20%20%20%20%20%20%20%27map_3ac2a4d737184934abda3a2c7f1df5a1%27%2C%20%7B%0A%20%20%20%20%20%20%20%20center%3A%20%5B19.33135%2C%20-98.23765%5D%2C%0A%20%20%20%20%20%20%20%20zoom%3A%2011%2C%0A%20%20%20%20%20%20%20%20maxBounds%3A%20bounds%2C%0A%20%20%20%20%20%20%20%20layers%3A%20%5B%5D%2C%0A%20%20%20%20%20%20%20%20worldCopyJump%3A%20false%2C%0A%20%20%20%20%20%20%20%20crs%3A%20L.CRS.EPSG3857%2C%0A%20%20%20%20%20%20%20%20zoomControl%3A%20true%2C%0A%20%20%20%20%20%20%20%20%7D%29%3B%0A%0A%0A%20%20%20%20%0A%20%20%20%20var%20tile_layer_9c04b1836dd14f558e83e63f88973f75%20%3D%20L.tileLayer%28%0A%20%20%20%20%20%20%20%20%27https%3A//%7Bs%7D.tile.openstreetmap.org/%7Bz%7D/%7Bx%7D/%7By%7D.png%27%2C%0A%20%20%20%20%20%20%20%20%7B%0A%20%20%20%20%20%20%20%20%22attribution%22%3A%20null%2C%0A%20%20%20%20%20%20%20%20%22detectRetina%22%3A%20false%2C%0A%20%20%20%20%20%20%20%20%22maxNativeZoom%22%3A%2018%2C%0A%20%20%20%20%20%20%20%20%22maxZoom%22%3A%2018%2C%0A%20%20%20%20%20%20%20%20%22minZoom%22%3A%200%2C%0A%20%20%20%20%20%20%20%20%22noWrap%22%3A%20false%2C%0A%20%20%20%20%20%20%20%20%22opacity%22%3A%201%2C%0A%20%20%20%20%20%20%20%20%22subdomains%22%3A%20%22abc%22%2C%0A%20%20%20%20%20%20%20%20%22tms%22%3A%20false%0A%7D%29.addTo%28map_3ac2a4d737184934abda3a2c7f1df5a1%29%3B%0A%20%20%20%20%0A%20%20%20%20%20%20%20%20var%20geo_json_8baadfa2db1d4158a1e36e9111d00e9e%20%3D%20L.geoJson%28%0A%20%20%20%20%20%20%20%20%20%20%20%20%7B%22bbox%22%3A%20%5B-98.2599%2C%2019.3118%2C%20-98.2154%2C%2019.3509%5D%2C%20%22features%22%3A%20%5B%7B%22bbox%22%3A%20%5B-98.2599%2C%2019.3118%2C%20-98.2154%2C%2019.3509%5D%2C%20%22geometry%22%3A%20%7B%22coordinates%22%3A%20%5B%5B%5B-98.2599%2C%2019.3509%5D%2C%20%5B-98.2154%2C%2019.3509%5D%2C%20%5B-98.2154%2C%2019.3118%5D%2C%20%5B-98.2599%2C%2019.3118%5D%2C%20%5B-98.2599%2C%2019.3509%5D%5D%5D%2C%20%22type%22%3A%20%22Polygon%22%7D%2C%20%22id%22%3A%20%220%22%2C%20%22properties%22%3A%20%7B%22highlight%22%3A%20%7B%7D%2C%20%22nature%22%3A%20%22polygon1%22%2C%20%22style%22%3A%20%7B%7D%7D%2C%20%22type%22%3A%20%22Feature%22%7D%5D%2C%20%22type%22%3A%20%22FeatureCollection%22%7D%2C%0A%20%20%20%20%20%20%20%20%20%20%20%20%7B%0A%20%20%20%20%20%20%20%20%20%20%20%20%7D%0A%20%20%20%20%20%20%20%20%29.addTo%28map_3ac2a4d737184934abda3a2c7f1df5a1%20%29%3B%0A%20%20%20%20%20%20%20%20geo_json_8baadfa2db1d4158a1e36e9111d00e9e.setStyle%28function%28feature%29%20%7Breturn%20feature.properties.style%3B%7D%29%3B%0A%20%20%20%20%20%20%20%20%0A%3C/script%3E onload=\"this.contentDocument.open();this.contentDocument.write(    decodeURIComponent(this.getAttribute('data-html')));this.contentDocument.close();\" allowfullscreen webkitallowfullscreen mozallowfullscreen></iframe></div></div>"
            ],
            "text/plain": [
              "<folium.folium.Map at 0x7f6eca403850>"
            ]
          },
          "metadata": {
            "tags": []
          },
          "execution_count": 12
        }
      ]
    },
    {
      "cell_type": "markdown",
      "metadata": {
        "id": "0SLrInBC-dnV"
      },
      "source": [
        "Create a footprint from the shapefile geometry. Here we will use Shapely Python library since our data is in Shapefiles and read it already as Geopandas GeodataFrame. (Note that if you have Geojson data, Sentinelsat provides a handy way to convert your data into a proper format in the query)."
      ]
    },
    {
      "cell_type": "code",
      "metadata": {
        "colab": {
          "base_uri": "https://localhost:8080/",
          "height": 121
        },
        "id": "4O68RGlR-j2o",
        "outputId": "38273a28-e214-4de8-84ae-0d7df1373ed0"
      },
      "source": [
        "footprint = None\n",
        "for i in area_shape['geometry']:\n",
        "    footprint = i\n",
        "    \n",
        "footprint"
      ],
      "execution_count": null,
      "outputs": [
        {
          "output_type": "execute_result",
          "data": {
            "text/plain": [
              "<shapely.geometry.polygon.Polygon at 0x7f6ed6388790>"
            ],
            "image/svg+xml": "<svg xmlns=\"http://www.w3.org/2000/svg\" xmlns:xlink=\"http://www.w3.org/1999/xlink\" width=\"100.0\" height=\"100.0\" viewBox=\"-98.26168 19.31002 0.04805999999999244 0.04265999999999792\" preserveAspectRatio=\"xMinYMin meet\"><g transform=\"matrix(1,0,0,-1,0,38.6627)\"><path fill-rule=\"evenodd\" fill=\"#66cc99\" stroke=\"#555555\" stroke-width=\"0.0009611999999998488\" opacity=\"0.6\" d=\"M -98.2599,19.3509 L -98.2154,19.3509 L -98.2154,19.3118 L -98.2599,19.3118 L -98.2599,19.3509 z\" /></g></svg>"
          },
          "metadata": {
            "tags": []
          },
          "execution_count": 13
        }
      ]
    },
    {
      "cell_type": "markdown",
      "metadata": {
        "id": "EhDmCRx2ELRq"
      },
      "source": [
        "# Download satellite file corresponding to footprint with Sentinel API"
      ]
    },
    {
      "cell_type": "markdown",
      "metadata": {
        "id": "aawIkoQlBRVn"
      },
      "source": [
        "Before we are able to use sentinelsat, we need to register a username in [Copernicus Open Access Hub](https://scihub.copernicus.eu/dhus/#/home) and note down your username and password and paste them here inside the code."
      ]
    },
    {
      "cell_type": "code",
      "metadata": {
        "id": "Gr9Box3j9bj7"
      },
      "source": [
        "user = 'yourusername' \n",
        "password = 'yourpassword' \n",
        "\n",
        "api = SentinelAPI(user, password, 'https://scihub.copernicus.eu/dhus')"
      ],
      "execution_count": null,
      "outputs": []
    },
    {
      "cell_type": "markdown",
      "metadata": {
        "id": "HgyAux3496D5"
      },
      "source": [
        "Run a query for Sentinel-2 images with Level 2A with cloud coverage between 0 and 2 % that fall or intersect with the footprint (Area of study). For the time period, we are interested in Sentinel Level 2A satellite images taken between '20210201' and '20210228' (For reference on valid search queries please refer to [scihub](https://scihub.copernicus.eu/twiki/do/view/SciHubUserGuide/FullTextSearch?redirectedfrom=SciHubUserGuide.3FullTextSearch))."
      ]
    },
    {
      "cell_type": "code",
      "metadata": {
        "id": "HPLTiFST92RW"
      },
      "source": [
        "products = api.query(footprint,\n",
        "                     date = ('20210201', '20210228'),\n",
        "                     platformname = 'Sentinel-2',\n",
        "                     processinglevel = 'Level-2A',\n",
        "                     cloudcoverpercentage = (0,2))"
      ],
      "execution_count": null,
      "outputs": []
    },
    {
      "cell_type": "markdown",
      "metadata": {
        "id": "mqevEhTWAuGM"
      },
      "source": [
        "We get a dictionary of all products available in this period with the query specification."
      ]
    },
    {
      "cell_type": "code",
      "metadata": {
        "id": "O1WjcSK6mjRq",
        "colab": {
          "base_uri": "https://localhost:8080/"
        },
        "outputId": "a904d7a9-c367-4cd8-e645-02bd436b3fa8"
      },
      "source": [
        "# Check number of products from the query\n",
        "if len(products) > 0:\n",
        "   print(\"Number of products found: \",len(products))\n",
        "else:\n",
        "   print(\"No products found. Try to rerun the query by changing the parameters (ex: increase cloudcoverpercentage or date window) \")   "
      ],
      "execution_count": null,
      "outputs": [
        {
          "output_type": "stream",
          "text": [
            "Number of products found:  3\n"
          ],
          "name": "stdout"
        }
      ]
    },
    {
      "cell_type": "markdown",
      "metadata": {
        "id": "jsytqOCYA-tG"
      },
      "source": [
        "From here we can create a GeodataFrame or Dataframe from the product dictionary and sort them according to cloud coverage percentage."
      ]
    },
    {
      "cell_type": "code",
      "metadata": {
        "colab": {
          "base_uri": "https://localhost:8080/",
          "height": 349
        },
        "id": "atHf5SsIBB_4",
        "outputId": "63d69ea2-a53f-4458-fc72-5981969496d6"
      },
      "source": [
        "products_gdf = api.to_geodataframe(products)\n",
        "products_gdf_sorted = products_gdf.sort_values(['cloudcoverpercentage'], ascending=[True])\n",
        "products_gdf_sorted"
      ],
      "execution_count": null,
      "outputs": [
        {
          "output_type": "stream",
          "text": [
            "/usr/local/lib/python3.7/dist-packages/pyproj/crs/crs.py:53: FutureWarning: '+init=<authority>:<code>' syntax is deprecated. '<authority>:<code>' is the preferred initialization method. When making the change, be mindful of axis order changes: https://pyproj4.github.io/pyproj/stable/gotchas.html#axis-order-changes-in-proj-6\n",
            "  return _prepare_from_string(\" \".join(pjargs))\n"
          ],
          "name": "stderr"
        },
        {
          "output_type": "execute_result",
          "data": {
            "text/html": [
              "<div>\n",
              "<style scoped>\n",
              "    .dataframe tbody tr th:only-of-type {\n",
              "        vertical-align: middle;\n",
              "    }\n",
              "\n",
              "    .dataframe tbody tr th {\n",
              "        vertical-align: top;\n",
              "    }\n",
              "\n",
              "    .dataframe thead th {\n",
              "        text-align: right;\n",
              "    }\n",
              "</style>\n",
              "<table border=\"1\" class=\"dataframe\">\n",
              "  <thead>\n",
              "    <tr style=\"text-align: right;\">\n",
              "      <th></th>\n",
              "      <th>title</th>\n",
              "      <th>link</th>\n",
              "      <th>link_alternative</th>\n",
              "      <th>link_icon</th>\n",
              "      <th>summary</th>\n",
              "      <th>ondemand</th>\n",
              "      <th>beginposition</th>\n",
              "      <th>endposition</th>\n",
              "      <th>ingestiondate</th>\n",
              "      <th>generationdate</th>\n",
              "      <th>orbitnumber</th>\n",
              "      <th>relativeorbitnumber</th>\n",
              "      <th>vegetationpercentage</th>\n",
              "      <th>notvegetatedpercentage</th>\n",
              "      <th>waterpercentage</th>\n",
              "      <th>unclassifiedpercentage</th>\n",
              "      <th>mediumprobacloudspercentage</th>\n",
              "      <th>highprobacloudspercentage</th>\n",
              "      <th>snowicepercentage</th>\n",
              "      <th>cloudcoverpercentage</th>\n",
              "      <th>illuminationazimuthangle</th>\n",
              "      <th>illuminationzenithangle</th>\n",
              "      <th>level1cpdiidentifier</th>\n",
              "      <th>format</th>\n",
              "      <th>processingbaseline</th>\n",
              "      <th>platformname</th>\n",
              "      <th>filename</th>\n",
              "      <th>instrumentname</th>\n",
              "      <th>instrumentshortname</th>\n",
              "      <th>size</th>\n",
              "      <th>s2datatakeid</th>\n",
              "      <th>producttype</th>\n",
              "      <th>platformidentifier</th>\n",
              "      <th>orbitdirection</th>\n",
              "      <th>platformserialidentifier</th>\n",
              "      <th>processinglevel</th>\n",
              "      <th>identifier</th>\n",
              "      <th>datastripidentifier</th>\n",
              "      <th>granuleidentifier</th>\n",
              "      <th>uuid</th>\n",
              "      <th>geometry</th>\n",
              "    </tr>\n",
              "  </thead>\n",
              "  <tbody>\n",
              "    <tr>\n",
              "      <th>08f14c49-1dc0-436e-aeb2-049c0e00d1bd</th>\n",
              "      <td>S2A_MSIL2A_20210225T170251_N0214_R069_T14QNG_2...</td>\n",
              "      <td>https://scihub.copernicus.eu/dhus/odata/v1/Pro...</td>\n",
              "      <td>https://scihub.copernicus.eu/dhus/odata/v1/Pro...</td>\n",
              "      <td>https://scihub.copernicus.eu/dhus/odata/v1/Pro...</td>\n",
              "      <td>Date: 2021-02-25T17:02:51.024Z, Instrument: MS...</td>\n",
              "      <td>false</td>\n",
              "      <td>2021-02-25 17:02:51.024</td>\n",
              "      <td>2021-02-25 17:02:51.024</td>\n",
              "      <td>2021-02-26 10:55:03.248</td>\n",
              "      <td>2021-02-25 21:19:01</td>\n",
              "      <td>29667</td>\n",
              "      <td>69</td>\n",
              "      <td>19.473588</td>\n",
              "      <td>79.018289</td>\n",
              "      <td>0.196018</td>\n",
              "      <td>0.434262</td>\n",
              "      <td>0.030630</td>\n",
              "      <td>0.053381</td>\n",
              "      <td>0.0</td>\n",
              "      <td>0.084011</td>\n",
              "      <td>140.346878</td>\n",
              "      <td>35.646974</td>\n",
              "      <td>S2A_OPER_MSI_L1C_TL_VGS2_20210225T204727_A0296...</td>\n",
              "      <td>SAFE</td>\n",
              "      <td>02.14</td>\n",
              "      <td>Sentinel-2</td>\n",
              "      <td>S2A_MSIL2A_20210225T170251_N0214_R069_T14QNG_2...</td>\n",
              "      <td>Multi-Spectral Instrument</td>\n",
              "      <td>MSI</td>\n",
              "      <td>1.12 GB</td>\n",
              "      <td>GS2A_20210225T170251_029667_N02.14</td>\n",
              "      <td>S2MSI2A</td>\n",
              "      <td>2015-028A</td>\n",
              "      <td>DESCENDING</td>\n",
              "      <td>Sentinel-2A</td>\n",
              "      <td>Level-2A</td>\n",
              "      <td>S2A_MSIL2A_20210225T170251_N0214_R069_T14QNG_2...</td>\n",
              "      <td>S2A_OPER_MSI_L2A_DS_VGS2_20210225T211901_S2021...</td>\n",
              "      <td>S2A_OPER_MSI_L2A_TL_VGS2_20210225T211901_A0296...</td>\n",
              "      <td>08f14c49-1dc0-436e-aeb2-049c0e00d1bd</td>\n",
              "      <td>MULTIPOLYGON (((-97.95761 18.90121, -97.95129 ...</td>\n",
              "    </tr>\n",
              "    <tr>\n",
              "      <th>55b4635e-6b82-4f9c-8151-1fcc118ba51e</th>\n",
              "      <td>S2A_MSIL2A_20210205T170501_N0214_R069_T14QNG_2...</td>\n",
              "      <td>https://scihub.copernicus.eu/dhus/odata/v1/Pro...</td>\n",
              "      <td>https://scihub.copernicus.eu/dhus/odata/v1/Pro...</td>\n",
              "      <td>https://scihub.copernicus.eu/dhus/odata/v1/Pro...</td>\n",
              "      <td>Date: 2021-02-05T17:05:01.024Z, Instrument: MS...</td>\n",
              "      <td>false</td>\n",
              "      <td>2021-02-05 17:05:01.024</td>\n",
              "      <td>2021-02-05 17:05:01.024</td>\n",
              "      <td>2021-02-05 21:52:12.282</td>\n",
              "      <td>NaT</td>\n",
              "      <td>29381</td>\n",
              "      <td>69</td>\n",
              "      <td>21.988162</td>\n",
              "      <td>76.164275</td>\n",
              "      <td>0.195799</td>\n",
              "      <td>0.608568</td>\n",
              "      <td>0.037498</td>\n",
              "      <td>0.064894</td>\n",
              "      <td>0.0</td>\n",
              "      <td>0.102392</td>\n",
              "      <td>NaN</td>\n",
              "      <td>NaN</td>\n",
              "      <td>S2A_OPER_MSI_L1C_TL_VGS1_20210205T191317_A0293...</td>\n",
              "      <td>SAFE</td>\n",
              "      <td>02.14</td>\n",
              "      <td>Sentinel-2</td>\n",
              "      <td>S2A_MSIL2A_20210205T170501_N0214_R069_T14QNG_2...</td>\n",
              "      <td>Multi-Spectral Instrument</td>\n",
              "      <td>MSI</td>\n",
              "      <td>1.12 GB</td>\n",
              "      <td>GS2A_20210205T170501_029381_N02.14</td>\n",
              "      <td>S2MSI2A</td>\n",
              "      <td>2015-028A</td>\n",
              "      <td>DESCENDING</td>\n",
              "      <td>Sentinel-2A</td>\n",
              "      <td>Level-2A</td>\n",
              "      <td>S2A_MSIL2A_20210205T170501_N0214_R069_T14QNG_2...</td>\n",
              "      <td>NaN</td>\n",
              "      <td>NaN</td>\n",
              "      <td>55b4635e-6b82-4f9c-8151-1fcc118ba51e</td>\n",
              "      <td>MULTIPOLYGON (((-97.95761 18.90121, -97.95129 ...</td>\n",
              "    </tr>\n",
              "    <tr>\n",
              "      <th>a17d992e-3cf7-47e1-ae31-506a0eda3d9c</th>\n",
              "      <td>S2B_MSIL2A_20210220T170329_N0214_R069_T14QNG_2...</td>\n",
              "      <td>https://scihub.copernicus.eu/dhus/odata/v1/Pro...</td>\n",
              "      <td>https://scihub.copernicus.eu/dhus/odata/v1/Pro...</td>\n",
              "      <td>https://scihub.copernicus.eu/dhus/odata/v1/Pro...</td>\n",
              "      <td>Date: 2021-02-20T17:03:29.024Z, Instrument: MS...</td>\n",
              "      <td>false</td>\n",
              "      <td>2021-02-20 17:03:29.024</td>\n",
              "      <td>2021-02-20 17:03:29.024</td>\n",
              "      <td>2021-02-21 02:35:26.929</td>\n",
              "      <td>2021-02-20 21:01:47</td>\n",
              "      <td>20687</td>\n",
              "      <td>69</td>\n",
              "      <td>19.487342</td>\n",
              "      <td>78.700250</td>\n",
              "      <td>0.210208</td>\n",
              "      <td>0.517679</td>\n",
              "      <td>0.059940</td>\n",
              "      <td>0.084339</td>\n",
              "      <td>0.0</td>\n",
              "      <td>0.144280</td>\n",
              "      <td>141.961388</td>\n",
              "      <td>37.224762</td>\n",
              "      <td>S2B_OPER_MSI_L1C_TL_EPAE_20210220T202703_A0206...</td>\n",
              "      <td>SAFE</td>\n",
              "      <td>02.14</td>\n",
              "      <td>Sentinel-2</td>\n",
              "      <td>S2B_MSIL2A_20210220T170329_N0214_R069_T14QNG_2...</td>\n",
              "      <td>Multi-Spectral Instrument</td>\n",
              "      <td>MSI</td>\n",
              "      <td>1.12 GB</td>\n",
              "      <td>GS2B_20210220T170329_020687_N02.14</td>\n",
              "      <td>S2MSI2A</td>\n",
              "      <td>2017-013A</td>\n",
              "      <td>DESCENDING</td>\n",
              "      <td>Sentinel-2B</td>\n",
              "      <td>Level-2A</td>\n",
              "      <td>S2B_MSIL2A_20210220T170329_N0214_R069_T14QNG_2...</td>\n",
              "      <td>S2B_OPER_MSI_L2A_DS_EPAE_20210220T210147_S2021...</td>\n",
              "      <td>S2B_OPER_MSI_L2A_TL_EPAE_20210220T210147_A0206...</td>\n",
              "      <td>a17d992e-3cf7-47e1-ae31-506a0eda3d9c</td>\n",
              "      <td>MULTIPOLYGON (((-97.95761 18.90121, -97.95129 ...</td>\n",
              "    </tr>\n",
              "  </tbody>\n",
              "</table>\n",
              "</div>"
            ],
            "text/plain": [
              "                                                                                  title  ...                                           geometry\n",
              "08f14c49-1dc0-436e-aeb2-049c0e00d1bd  S2A_MSIL2A_20210225T170251_N0214_R069_T14QNG_2...  ...  MULTIPOLYGON (((-97.95761 18.90121, -97.95129 ...\n",
              "55b4635e-6b82-4f9c-8151-1fcc118ba51e  S2A_MSIL2A_20210205T170501_N0214_R069_T14QNG_2...  ...  MULTIPOLYGON (((-97.95761 18.90121, -97.95129 ...\n",
              "a17d992e-3cf7-47e1-ae31-506a0eda3d9c  S2B_MSIL2A_20210220T170329_N0214_R069_T14QNG_2...  ...  MULTIPOLYGON (((-97.95761 18.90121, -97.95129 ...\n",
              "\n",
              "[3 rows x 41 columns]"
            ]
          },
          "metadata": {
            "tags": []
          },
          "execution_count": 17
        }
      ]
    },
    {
      "cell_type": "code",
      "metadata": {
        "colab": {
          "base_uri": "https://localhost:8080/"
        },
        "id": "ZYH5d9fjsUjW",
        "outputId": "459401fc-560f-4efe-c6ab-d64d8910eb6b"
      },
      "source": [
        "# A geopandas dataframe it a pandas dataframe with a geometry column\n",
        "type(products_gdf_sorted)"
      ],
      "execution_count": null,
      "outputs": [
        {
          "output_type": "execute_result",
          "data": {
            "text/plain": [
              "geopandas.geodataframe.GeoDataFrame"
            ]
          },
          "metadata": {
            "tags": []
          },
          "execution_count": 18
        }
      ]
    },
    {
      "cell_type": "markdown",
      "metadata": {
        "id": "7AdbiW0PBf0Y"
      },
      "source": [
        "Download image of interest: first image in the list that has less could percentage"
      ]
    },
    {
      "cell_type": "code",
      "metadata": {
        "id": "IwPuI6p0BaNO",
        "colab": {
          "base_uri": "https://localhost:8080/"
        },
        "outputId": "85973abd-0cbe-4899-b44f-e991add7a399"
      },
      "source": [
        "sat_image_uuid = products_gdf_sorted['uuid'][0]\n",
        "api.download(sat_image_uuid)"
      ],
      "execution_count": null,
      "outputs": [
        {
          "output_type": "stream",
          "text": [
            "Downloading: 100%|██████████| 1.20G/1.20G [05:58<00:00, 3.36MB/s]\n",
            "MD5 checksumming: 100%|██████████| 1.20G/1.20G [00:04<00:00, 291MB/s]\n"
          ],
          "name": "stderr"
        },
        {
          "output_type": "execute_result",
          "data": {
            "text/plain": [
              "{'Creation Date': datetime.datetime(2021, 2, 26, 10, 56, 0, 438000),\n",
              " 'Ingestion Date': datetime.datetime(2021, 2, 26, 10, 55, 3, 248000),\n",
              " 'Online': True,\n",
              " 'date': datetime.datetime(2021, 2, 25, 17, 2, 51, 24000),\n",
              " 'downloaded_bytes': 1203127049,\n",
              " 'footprint': 'POLYGON((-99.00018 19.896427129850146,-97.951294 19.893337529015856,-97.95761 18.90120884301479,-99.00018 18.904132687386056,-99.00018 19.896427129850146))',\n",
              " 'id': '08f14c49-1dc0-436e-aeb2-049c0e00d1bd',\n",
              " 'md5': 'bfc02a91e6825e44ddb48dfabb0a0b69',\n",
              " 'path': './S2A_MSIL2A_20210225T170251_N0214_R069_T14QNG_20210225T211901.zip',\n",
              " 'size': 1203127049,\n",
              " 'title': 'S2A_MSIL2A_20210225T170251_N0214_R069_T14QNG_20210225T211901',\n",
              " 'url': \"https://scihub.copernicus.eu/dhus/odata/v1/Products('08f14c49-1dc0-436e-aeb2-049c0e00d1bd')/$value\"}"
            ]
          },
          "metadata": {
            "tags": []
          },
          "execution_count": 23
        }
      ]
    },
    {
      "cell_type": "code",
      "metadata": {
        "colab": {
          "base_uri": "https://localhost:8080/",
          "height": 35
        },
        "id": "J7lsSEuKagA7",
        "outputId": "addb08e3-05bc-4105-ed3a-29ed3966d615"
      },
      "source": [
        " sat_image_id = products_gdf_sorted['identifier'][0]\n",
        " sat_image_id"
      ],
      "execution_count": null,
      "outputs": [
        {
          "output_type": "execute_result",
          "data": {
            "application/vnd.google.colaboratory.intrinsic+json": {
              "type": "string"
            },
            "text/plain": [
              "'S2A_MSIL2A_20210225T170251_N0214_R069_T14QNG_20210225T211901'"
            ]
          },
          "metadata": {
            "tags": []
          },
          "execution_count": 19
        }
      ]
    },
    {
      "cell_type": "code",
      "metadata": {
        "colab": {
          "base_uri": "https://localhost:8080/",
          "height": 35
        },
        "id": "hY5uKl-LcHYx",
        "outputId": "2b7d219c-493e-453d-f616-4322ab853684"
      },
      "source": [
        " zipfilename = products_gdf_sorted['identifier'][0] + \".zip\"\n",
        " zipfilename"
      ],
      "execution_count": null,
      "outputs": [
        {
          "output_type": "execute_result",
          "data": {
            "application/vnd.google.colaboratory.intrinsic+json": {
              "type": "string"
            },
            "text/plain": [
              "'S2A_MSIL2A_20210225T170251_N0214_R069_T14QNG_20210225T211901.zip'"
            ]
          },
          "metadata": {
            "tags": []
          },
          "execution_count": 50
        }
      ]
    },
    {
      "cell_type": "code",
      "metadata": {
        "id": "0FAP8VEzf860"
      },
      "source": [
        "from sat_tools import extractFile"
      ],
      "execution_count": null,
      "outputs": []
    },
    {
      "cell_type": "code",
      "metadata": {
        "id": "fEuCOELvgUNQ"
      },
      "source": [
        "extractFile(zipfilename, 'Sentinel2_images/') "
      ],
      "execution_count": null,
      "outputs": []
    },
    {
      "cell_type": "markdown",
      "metadata": {
        "id": "ggC7lUMMJaiO"
      },
      "source": [
        "# Select 10m bands and create RGB image (RGB.tiff)"
      ]
    },
    {
      "cell_type": "code",
      "metadata": {
        "id": "2KU0ImOOnofb"
      },
      "source": [
        "import glob2"
      ],
      "execution_count": null,
      "outputs": []
    },
    {
      "cell_type": "code",
      "metadata": {
        "id": "YE_e-U05mgKj"
      },
      "source": [
        "common_path = 'Sentinel2_images/' + sat_image_id + '.SAFE/GRANULE/*/IMG_DATA/'"
      ],
      "execution_count": null,
      "outputs": []
    },
    {
      "cell_type": "code",
      "metadata": {
        "id": "_6zTHbCHf5vJ"
      },
      "source": [
        "#check if the contents of the zip file have been actually extracted\n",
        "#glob2.glob returns a list of files in a directory\n",
        "assert len(glob2.glob(common_path + '*')) > 0"
      ],
      "execution_count": null,
      "outputs": []
    },
    {
      "cell_type": "markdown",
      "metadata": {
        "id": "HXmp3z1HOtYg"
      },
      "source": [
        "Let's work only on 10 bands resolution to start.\n",
        "We'll deal with different resolution bands later..."
      ]
    },
    {
      "cell_type": "code",
      "metadata": {
        "id": "gfx9I9JrqT8J"
      },
      "source": [
        "# Open Bands 8, 4, 3 and 2 with Rasterio\n",
        "R10 = common_path + 'R10m'\n",
        "\n",
        "b8 = rio.open(glob2.glob(R10+'/*_B08_10m.jp2')[0])\n",
        "b4 = rio.open(glob2.glob(R10+'/*_B04_10m.jp2')[0])\n",
        "b3 = rio.open(glob2.glob(R10+'/*_B03_10m.jp2')[0])\n",
        "b2 = rio.open(glob2.glob(R10+'/*_B02_10m.jp2')[0])"
      ],
      "execution_count": null,
      "outputs": []
    },
    {
      "cell_type": "code",
      "metadata": {
        "colab": {
          "base_uri": "https://localhost:8080/"
        },
        "id": "IH8GWOIpPCyn",
        "outputId": "6a62251d-2096-43aa-edb0-4ddfea645532"
      },
      "source": [
        "b4.count, b4.width, b4.height"
      ],
      "execution_count": null,
      "outputs": [
        {
          "output_type": "execute_result",
          "data": {
            "text/plain": [
              "(1, 10980, 10980)"
            ]
          },
          "metadata": {
            "tags": []
          },
          "execution_count": 24
        }
      ]
    },
    {
      "cell_type": "code",
      "metadata": {
        "id": "9_cgawf_D3al"
      },
      "source": [
        "# Optional : Create RGB image\n",
        "with rio.open('RGB_' + area + '.tiff','w',driver='Gtiff', width=b4.width, height=b4.height, \n",
        "              count=3,crs=b4.crs,transform=b4.transform, dtype=b4.dtypes[0]) as dst:\n",
        "    dst.write(b2.read(1),1) \n",
        "    dst.write(b3.read(1),2) \n",
        "    dst.write(b4.read(1),3) \n",
        "    dst.close()"
      ],
      "execution_count": null,
      "outputs": []
    },
    {
      "cell_type": "code",
      "metadata": {
        "colab": {
          "base_uri": "https://localhost:8080/",
          "height": 269
        },
        "id": "X54gYMEobL3s",
        "outputId": "9874f433-9f91-4950-a5f6-d3c87918c15a"
      },
      "source": [
        "# Plot first band of RGB image\n",
        "src = rasterio.open(\"RGB_\" + area + \".tiff\")\n",
        "plt.imshow(src.read(1), cmap='pink')\n",
        "plt.show()"
      ],
      "execution_count": null,
      "outputs": [
        {
          "output_type": "display_data",
          "data": {
            "image/png": "[encoded data removed]",
            "text/plain": [
              "<Figure size 432x288 with 1 Axes>"
            ]
          },
          "metadata": {
            "tags": [],
            "needs_background": "light"
          }
        }
      ]
    },
    {
      "cell_type": "markdown",
      "metadata": {
        "id": "2pNgRR2Fgsei"
      },
      "source": [
        "# Select and upsample 20m bands"
      ]
    },
    {
      "cell_type": "code",
      "metadata": {
        "id": "q2C92m99QO7l"
      },
      "source": [
        "# Open Bands 5, 6 and 7, 8A, 11, 12 with Rasterio\n",
        "R20 = common_path + 'R20m'\n",
        "\n",
        "b5 = rio.open(glob2.glob(R20+'/*_B05_20m.jp2')[0])\n",
        "b6 = rio.open(glob2.glob(R20+'/*_B06_20m.jp2')[0])\n",
        "b7 = rio.open(glob2.glob(R20+'/*_B07_20m.jp2')[0])\n",
        "b8A = rio.open(glob2.glob(R20+'/*_B8A_20m.jp2')[0])\n",
        "b11 = rio.open(glob2.glob(R20+'/*_B11_20m.jp2')[0])\n",
        "b12 = rio.open(glob2.glob(R20+'/*_B12_20m.jp2')[0])"
      ],
      "execution_count": null,
      "outputs": []
    },
    {
      "cell_type": "code",
      "metadata": {
        "colab": {
          "base_uri": "https://localhost:8080/"
        },
        "id": "uREXGfGjS6T_",
        "outputId": "504d8984-1770-4597-9b0a-b860b9ebd8a0"
      },
      "source": [
        "b5.count, b5.width, b5.height"
      ],
      "execution_count": null,
      "outputs": [
        {
          "output_type": "execute_result",
          "data": {
            "text/plain": [
              "(1, 5490, 5490)"
            ]
          },
          "metadata": {
            "tags": []
          },
          "execution_count": 28
        }
      ]
    },
    {
      "cell_type": "markdown",
      "metadata": {
        "id": "sKny_5r63e98"
      },
      "source": [
        "20m resolution images are smaller than the 10m resolution images. To run our NN we need images of same size and therefore we need to upsample the 20m resolution images. To be sure to obtain images of same size after croping, we need to resample first, and then apply the mask corresponding to the area of interest (otherwise there can be a difference of 2 pixels)"
      ]
    },
    {
      "cell_type": "code",
      "metadata": {
        "id": "-oFtpRn4ZhJM"
      },
      "source": [
        "from rasterio.enums import Resampling\n",
        "\n",
        "def resample_image(src, upscale_factor=2):\n",
        "\n",
        "    # resample data to target shape\n",
        "    data = src.read(\n",
        "        out_shape=(\n",
        "            src.count,\n",
        "            int(src.height * upscale_factor),\n",
        "            int(src.width * upscale_factor)\n",
        "        ),\n",
        "        resampling=Resampling.bilinear\n",
        "    )\n",
        "\n",
        "    # scale image transform\n",
        "    transform = src.transform * src.transform.scale(\n",
        "        (src.width / data.shape[-1]),\n",
        "        (src.height / data.shape[-2])\n",
        "    )\n",
        "    return [data, transform]\n"
      ],
      "execution_count": null,
      "outputs": []
    },
    {
      "cell_type": "code",
      "metadata": {
        "id": "Fc2E0VNQMfNJ"
      },
      "source": [
        "# Loop to resample 20m bands images\n",
        "for (band, bandchar) in zip((b5, b6, b7, b8A, b11, b12), (\"b5\", \"b6\", \"b7\", \"b8A\", \"b11\", \"b12\")):\n",
        "  out_image, out_transform = resample_image(band, upscale_factor=2)\n",
        "  out_meta = band.meta.copy()\n",
        "  out_meta.update({\"driver\": \"GTiff\",\n",
        "                 \"height\": out_image.shape[1],\n",
        "                 \"width\": out_image.shape[2],\n",
        "                 \"transform\": out_transform})\n",
        "    \n",
        "  with rasterio.open(bandchar+\"_r.tif\", \"w\", **out_meta) as dest:\n",
        "    dest.write(out_image)\n",
        "\n"
      ],
      "execution_count": null,
      "outputs": []
    },
    {
      "cell_type": "markdown",
      "metadata": {
        "id": "stzCelh6XupF"
      },
      "source": [
        "# Mask Satellite images"
      ]
    },
    {
      "cell_type": "code",
      "metadata": {
        "colab": {
          "base_uri": "https://localhost:8080/"
        },
        "id": "lP4r9Eb6i5DC",
        "outputId": "44dee4a7-c432-456f-9a66-194f9ed0cb6d"
      },
      "source": [
        "# Check what is the crs of the file to mask\n",
        "src = rasterio.open(\"RGB_\" + area + \".tiff\") \n",
        "src.crs"
      ],
      "execution_count": null,
      "outputs": [
        {
          "output_type": "execute_result",
          "data": {
            "text/plain": [
              "CRS.from_epsg(32614)"
            ]
          },
          "metadata": {
            "tags": []
          },
          "execution_count": 31
        }
      ]
    },
    {
      "cell_type": "code",
      "metadata": {
        "colab": {
          "base_uri": "https://localhost:8080/",
          "height": 134
        },
        "id": "iresw5X3YKHM",
        "outputId": "900001b2-4dac-4b97-ae84-16923bd44e3c"
      },
      "source": [
        "# Change the projection \n",
        "area_shape_proj = area_shape.to_crs({'init': 'epsg:32614'})\n",
        "area_shape_proj"
      ],
      "execution_count": null,
      "outputs": [
        {
          "output_type": "stream",
          "text": [
            "/usr/local/lib/python3.7/dist-packages/pyproj/crs/crs.py:53: FutureWarning: '+init=<authority>:<code>' syntax is deprecated. '<authority>:<code>' is the preferred initialization method. When making the change, be mindful of axis order changes: https://pyproj4.github.io/pyproj/stable/gotchas.html#axis-order-changes-in-proj-6\n",
            "  return _prepare_from_string(\" \".join(pjargs))\n"
          ],
          "name": "stderr"
        },
        {
          "output_type": "execute_result",
          "data": {
            "text/html": [
              "<div>\n",
              "<style scoped>\n",
              "    .dataframe tbody tr th:only-of-type {\n",
              "        vertical-align: middle;\n",
              "    }\n",
              "\n",
              "    .dataframe tbody tr th {\n",
              "        vertical-align: top;\n",
              "    }\n",
              "\n",
              "    .dataframe thead th {\n",
              "        text-align: right;\n",
              "    }\n",
              "</style>\n",
              "<table border=\"1\" class=\"dataframe\">\n",
              "  <thead>\n",
              "    <tr style=\"text-align: right;\">\n",
              "      <th></th>\n",
              "      <th>nature</th>\n",
              "      <th>geometry</th>\n",
              "    </tr>\n",
              "  </thead>\n",
              "  <tbody>\n",
              "    <tr>\n",
              "      <th>0</th>\n",
              "      <td>polygon1</td>\n",
              "      <td>POLYGON ((577732.408 2139820.861, 582406.449 2...</td>\n",
              "    </tr>\n",
              "  </tbody>\n",
              "</table>\n",
              "</div>"
            ],
            "text/plain": [
              "     nature                                           geometry\n",
              "0  polygon1  POLYGON ((577732.408 2139820.861, 582406.449 2..."
            ]
          },
          "metadata": {
            "tags": []
          },
          "execution_count": 32
        }
      ]
    },
    {
      "cell_type": "code",
      "metadata": {
        "id": "1PaCnttGD-yS"
      },
      "source": [
        "# Optional: crop RGB image\n",
        "with rio.open(\"RGB_\" + area + \".tiff\") as src:\n",
        "    out_image, out_transform = rio.mask.mask(src, area_shape_proj.geometry,crop=True)\n",
        "    out_meta = src.meta.copy()\n",
        "    out_meta.update({\"driver\": \"GTiff\",\n",
        "                 \"height\": out_image.shape[1],\n",
        "                 \"width\": out_image.shape[2],\n",
        "                 \"transform\": out_transform})\n",
        "    \n",
        "with rasterio.open(\"RGB_\" + area + \"_masked.tiff\", \"w\", **out_meta) as dest:\n",
        "    dest.write(out_image)"
      ],
      "execution_count": null,
      "outputs": []
    },
    {
      "cell_type": "code",
      "metadata": {
        "id": "ngKpPXMfTi-L",
        "colab": {
          "base_uri": "https://localhost:8080/",
          "height": 269
        },
        "outputId": "83bfab2e-da45-46e5-bd35-a8542ebf8287"
      },
      "source": [
        "# Plot first band of RGB image\n",
        "src = rasterio.open(\"RGB_\" + area + \"_masked.tiff\")\n",
        "plt.imshow(src.read(1), cmap='pink')\n",
        "plt.show()"
      ],
      "execution_count": null,
      "outputs": [
        {
          "output_type": "display_data",
          "data": {
            "image/png": "[encoded data removed]",
            "text/plain": [
              "<Figure size 432x288 with 1 Axes>"
            ]
          },
          "metadata": {
            "tags": [],
            "needs_background": "light"
          }
        }
      ]
    },
    {
      "cell_type": "code",
      "metadata": {
        "id": "sWNjUXCmz4Zs"
      },
      "source": [
        "# Loop to crop all single bands images for the area\n",
        "for (band, bandchar) in zip((b2, b3, b4, b8), (\"b2\", \"b3\", \"b4\", \"b8\")):\n",
        "  out_image, out_transform = rio.mask.mask(band, area_shape_proj.geometry,crop=True)\n",
        "  out_meta = band.meta.copy()\n",
        "  out_meta.update({\"driver\": \"GTiff\",\n",
        "                 \"height\": out_image.shape[1],\n",
        "                 \"width\": out_image.shape[2],\n",
        "                 \"transform\": out_transform})\n",
        "    \n",
        "  with rasterio.open(area + \"_\" + bandchar + \"_masked.tif\", \"w\", **out_meta) as dest:\n",
        "    dest.write(out_image)"
      ],
      "execution_count": null,
      "outputs": []
    },
    {
      "cell_type": "code",
      "metadata": {
        "id": "nEA9wqjSkVYN"
      },
      "source": [
        "# Loop to crop resampled bands images for the area\n",
        "for bandchar in (\"b5_r\", \"b6_r\", \"b7_r\", \"b8A_r\", \"b11_r\", \"b12_r\"):\n",
        "  band = rasterio.open(bandchar+\".tif\")\n",
        "  out_image, out_transform = rio.mask.mask(band, area_shape_proj.geometry,crop=True)\n",
        "  out_meta = band.meta.copy()\n",
        "  out_meta.update({\"driver\": \"GTiff\",\n",
        "                 \"height\": out_image.shape[1],\n",
        "                 \"width\": out_image.shape[2],\n",
        "                 \"transform\": out_transform})\n",
        "    \n",
        "  with rasterio.open(area + \"_\" + bandchar + \"_masked.tif\", \"w\", **out_meta) as dest:\n",
        "    dest.write(out_image)"
      ],
      "execution_count": null,
      "outputs": []
    },
    {
      "cell_type": "markdown",
      "metadata": {
        "id": "BQM97oVi3215"
      },
      "source": [
        "Comparison of images sizes obtained with 10m resolution (without resampling) and 20 m resolution after resampling : they should be equal"
      ]
    },
    {
      "cell_type": "code",
      "metadata": {
        "colab": {
          "base_uri": "https://localhost:8080/"
        },
        "id": "UBTtBGXiYEnB",
        "outputId": "bb57f81f-5bac-4041-c778-bde9702694cc"
      },
      "source": [
        "# 10m band after croping only :\n",
        "with rio.open(area + '_' + 'b4_masked.tif', 'r') as ds:\n",
        "    tmp = ds.read()  \n",
        "print(tmp.shape)"
      ],
      "execution_count": null,
      "outputs": [
        {
          "output_type": "stream",
          "text": [
            "(1, 436, 470)\n"
          ],
          "name": "stdout"
        }
      ]
    },
    {
      "cell_type": "code",
      "metadata": {
        "colab": {
          "base_uri": "https://localhost:8080/"
        },
        "id": "OPZjDjzulLD1",
        "outputId": "2b60a1af-20b1-43b3-801b-d782469148a1"
      },
      "source": [
        "# After resampling then croping:\n",
        "with rio.open(area + '_' + 'b5_r_masked.tif', 'r') as ds:\n",
        "    area_b5_r_raster = ds.read()  \n",
        "print(area_b5_r_raster.shape)"
      ],
      "execution_count": null,
      "outputs": [
        {
          "output_type": "stream",
          "text": [
            "(1, 436, 470)\n"
          ],
          "name": "stdout"
        }
      ]
    },
    {
      "cell_type": "markdown",
      "metadata": {
        "id": "RcIokKV_Jxwx"
      },
      "source": [
        "# Create multiband image (allbands.tiff) for croped area"
      ]
    },
    {
      "cell_type": "code",
      "metadata": {
        "id": "PdGjhlhVIzep"
      },
      "source": [
        "# Create 1 single tiff file with all bands\n",
        "b2 = rio.open(area + '_' + 'b2_masked.tif')\n",
        "b3 = rio.open(area + '_' + 'b3_masked.tif')\n",
        "b4 = rio.open(area + '_' + 'b4_masked.tif')\n",
        "b5_r = rio.open(area + '_' + 'b5_r_masked.tif')\n",
        "b6_r = rio.open(area + '_' + 'b6_r_masked.tif')\n",
        "b7_r = rio.open(area + '_' + 'b7_r_masked.tif')\n",
        "b8 = rio.open(area + '_' + 'b8_masked.tif')\n",
        "b8A_r = rio.open(area + '_' + 'b8A_r_masked.tif')\n",
        "b11_r = rio.open(area + '_' + 'b11_r_masked.tif')\n",
        "b12_r = rio.open(area + '_' + 'b12_r_masked.tif')\n",
        "\n",
        "with rio.open(area + '_' + 'allbands.tiff','w',driver='Gtiff', width=b2.width, height=b2.height, \n",
        "              count=10,crs=b2.crs,transform=b2.transform, dtype=b2.dtypes[0]) as dst:\n",
        "    dst.write(b2.read(1),1) \n",
        "    dst.write(b3.read(1),2) \n",
        "    dst.write(b4.read(1),3) \n",
        "    dst.write(b5_r.read(1),4) \n",
        "    dst.write(b6_r.read(1),5) \n",
        "    dst.write(b7_r.read(1),6) \n",
        "    dst.write(b8.read(1),7) \n",
        "    dst.write(b8A_r.read(1),8) \n",
        "    dst.write(b11_r.read(1),9) \n",
        "    dst.write(b12_r.read(1),10) \n",
        "    dst.close()\n"
      ],
      "execution_count": null,
      "outputs": []
    },
    {
      "cell_type": "code",
      "metadata": {
        "colab": {
          "base_uri": "https://localhost:8080/"
        },
        "id": "xT8ETe9b654p",
        "outputId": "cc99082e-f842-4ff6-ae8d-e73973e3a9e1"
      },
      "source": [
        "with rio.open(area + '_' + 'allbands.tiff', 'r') as ds:\n",
        "    featuresArea = ds.read()  # read all raster values\n",
        "\n",
        "print(featuresArea.shape)  # this is a 3D numpy array, with dimensions [band, row, col]\n"
      ],
      "execution_count": null,
      "outputs": [
        {
          "output_type": "stream",
          "text": [
            "(10, 436, 470)\n"
          ],
          "name": "stdout"
        }
      ]
    },
    {
      "cell_type": "code",
      "metadata": {
        "id": "71tB0OzFuDcj"
      },
      "source": [
        "# do some cleaning of intermediate tif files \n",
        "# and move final tiff files (multiband) in folder Sentinel2_images "
      ],
      "execution_count": null,
      "outputs": []
    },
    {
      "cell_type": "code",
      "metadata": {
        "id": "RnFCyw-huKTp"
      },
      "source": [
        "rm *.tif"
      ],
      "execution_count": null,
      "outputs": []
    },
    {
      "cell_type": "code",
      "metadata": {
        "id": "n2V27xk-zKdV"
      },
      "source": [
        "mv *.tiff ./Sentinel2_images/"
      ],
      "execution_count": null,
      "outputs": []
    }
  ]
}