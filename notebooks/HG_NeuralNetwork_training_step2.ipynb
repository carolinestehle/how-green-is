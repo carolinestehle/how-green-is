{
  "nbformat": 4,
  "nbformat_minor": 0,
  "metadata": {
    "accelerator": "GPU",
    "colab": {
      "name": "HG_NeuralNetwork_training_step2.ipynb",
      "provenance": [],
      "collapsed_sections": [],
      "toc_visible": true
    },
    "kernelspec": {
      "display_name": "Python 3",
      "name": "python3"
    }
  },
  "cells": [
    {
      "cell_type": "code",
      "metadata": {
        "colab": {
          "base_uri": "https://localhost:8080/"
        },
        "id": "gWncjnt_YiSL",
        "outputId": "4f092d06-ac46-48a8-8902-d31cccb474e6"
      },
      "source": [
        "from google.colab import drive\n",
        "drive.mount('/content/drive')"
      ],
      "execution_count": 1,
      "outputs": [
        {
          "output_type": "stream",
          "text": [
            "Drive already mounted at /content/drive; to attempt to forcibly remount, call drive.mount(\"/content/drive\", force_remount=True).\n"
          ],
          "name": "stdout"
        }
      ]
    },
    {
      "cell_type": "code",
      "metadata": {
        "colab": {
          "base_uri": "https://localhost:8080/"
        },
        "id": "YffI8GdCBQNs",
        "outputId": "28b244b9-455e-4bca-dcc0-6a8fcf382820"
      },
      "source": [
        "cd '/content/drive/MyDrive/Colab Notebooks'"
      ],
      "execution_count": 2,
      "outputs": [
        {
          "output_type": "stream",
          "text": [
            "/content/drive/MyDrive/Colab Notebooks\n"
          ],
          "name": "stdout"
        }
      ]
    },
    {
      "cell_type": "markdown",
      "metadata": {
        "id": "5YNa7ggKOov3"
      },
      "source": [
        "In this notebook, we follow the method given in a tutorial to perform data classification with neural network, in order to achieve the step 2 of our project.\n",
        "We use our own dataset, composed of 3 multispectral images from Sentinel2 with 10 bands, and with labels that we create.\n",
        "These images were downloaded with Google Earth Engine by running the notebook \"Create sat images and OSD shapes V3.ipynb\". "
      ]
    },
    {
      "cell_type": "markdown",
      "metadata": {
        "id": "-GCij_dlFNm1"
      },
      "source": [
        "# Packages installation"
      ]
    },
    {
      "cell_type": "code",
      "metadata": {
        "colab": {
          "base_uri": "https://localhost:8080/"
        },
        "id": "S-cUl8D16okW",
        "outputId": "36aebf25-3b78-4874-f48a-af8ecce45eae"
      },
      "source": [
        "!pip install rasterio"
      ],
      "execution_count": 3,
      "outputs": [
        {
          "output_type": "stream",
          "text": [
            "Requirement already satisfied: rasterio in /usr/local/lib/python3.7/dist-packages (1.2.6)\n",
            "Requirement already satisfied: numpy in /usr/local/lib/python3.7/dist-packages (from rasterio) (1.19.5)\n",
            "Requirement already satisfied: click-plugins in /usr/local/lib/python3.7/dist-packages (from rasterio) (1.1.1)\n",
            "Requirement already satisfied: certifi in /usr/local/lib/python3.7/dist-packages (from rasterio) (2021.5.30)\n",
            "Requirement already satisfied: click>=4.0 in /usr/local/lib/python3.7/dist-packages (from rasterio) (7.1.2)\n",
            "Requirement already satisfied: setuptools in /usr/local/lib/python3.7/dist-packages (from rasterio) (57.0.0)\n",
            "Requirement already satisfied: snuggs>=1.4.1 in /usr/local/lib/python3.7/dist-packages (from rasterio) (1.4.7)\n",
            "Requirement already satisfied: affine in /usr/local/lib/python3.7/dist-packages (from rasterio) (2.3.0)\n",
            "Requirement already satisfied: attrs in /usr/local/lib/python3.7/dist-packages (from rasterio) (21.2.0)\n",
            "Requirement already satisfied: cligj>=0.5 in /usr/local/lib/python3.7/dist-packages (from rasterio) (0.7.2)\n",
            "Requirement already satisfied: pyparsing>=2.1.6 in /usr/local/lib/python3.7/dist-packages (from snuggs>=1.4.1->rasterio) (2.4.7)\n"
          ],
          "name": "stdout"
        }
      ]
    },
    {
      "cell_type": "code",
      "metadata": {
        "colab": {
          "base_uri": "https://localhost:8080/"
        },
        "id": "_QZgN88af-DE",
        "outputId": "b4902c1e-68f6-4c12-975c-e7bb545ace53"
      },
      "source": [
        "!pip install pyrsgis"
      ],
      "execution_count": 4,
      "outputs": [
        {
          "output_type": "stream",
          "text": [
            "Requirement already satisfied: pyrsgis in /usr/local/lib/python3.7/dist-packages (0.3.9)\n"
          ],
          "name": "stdout"
        }
      ]
    },
    {
      "cell_type": "markdown",
      "metadata": {
        "id": "i3wvcj6p6xE-"
      },
      "source": [
        "# Neural network for satellite data classification\n",
        "Reference tutorial: https://towardsdatascience.com/neural-network-for-satellite-data-classification-using-tensorflow-in-python-a13bcf38f3e1"
      ]
    },
    {
      "cell_type": "code",
      "metadata": {
        "id": "KGFgfaK_eynI"
      },
      "source": [
        "import os\n",
        "import numpy as np\n",
        "from tensorflow import keras"
      ],
      "execution_count": 5,
      "outputs": []
    },
    {
      "cell_type": "code",
      "metadata": {
        "colab": {
          "base_uri": "https://localhost:8080/"
        },
        "id": "bGr6n6_seybI",
        "outputId": "f39ecf42-89fa-47de-e9b0-6c2af7178e9e"
      },
      "source": [
        "from pyrsgis import raster\n",
        "from pyrsgis.convert import changeDimension"
      ],
      "execution_count": 6,
      "outputs": [
        {
          "output_type": "stream",
          "text": [
            "Warning! matplotlib_scalebar library not found. You may not be able to export map directly.\n"
          ],
          "name": "stdout"
        }
      ]
    },
    {
      "cell_type": "code",
      "metadata": {
        "id": "ACBskkOIexQL"
      },
      "source": [
        "from sklearn.model_selection import train_test_split\n",
        "from sklearn.metrics import confusion_matrix, precision_score, recall_score\n",
        "from sklearn.utils import shuffle"
      ],
      "execution_count": 7,
      "outputs": []
    },
    {
      "cell_type": "markdown",
      "metadata": {
        "id": "CHmwmhrNB9OL"
      },
      "source": [
        "For pixel-wise detection, we don't need a big dataset, as each pixel of one image represents one sample. Here we take two multispectral images for training: one from a dense urban areas, and the other from a dense nature area. "
      ]
    },
    {
      "cell_type": "code",
      "metadata": {
        "id": "AY_CQKrsRRTm"
      },
      "source": [
        "# Assign file names\n",
        "images_dir = \"/content/drive/MyDrive/how-green-is/sat_images/places\"\n",
        "featuresFile_urban = images_dir + '/sentinel2_Puebla_Mexico-98.281803__18-98.281803__18.979351_-98.140182__19.099431/sentinel2_image_cropped.tif'\n",
        "featuresFile_nature = images_dir + '/sentinel2_Popocatepetl_7_Camino_Rojo_-98.731384__19.110136_-98.55835___19.312439/sentinel2_image_cropped.tif' \n",
        "featuresFile_mx = images_dir + '/sentinel2_Tlaxcala_Mexico-98.292789__19.282628_-98.188248__19.374312/sentinel2_image_cropped.tif'"
      ],
      "execution_count": 8,
      "outputs": []
    },
    {
      "cell_type": "code",
      "metadata": {
        "id": "ZKA-On-XmLxI"
      },
      "source": [
        "labelsFile_urban = images_dir + '/sentinel2_Puebla_Mexico-98.281803__18-98.281803__18.979351_-98.140182__19.099431/labels.tif'\n",
        "labelsFile_nature = images_dir + '/sentinel2_Popocatepetl_7_Camino_Rojo_-98.731384__19.110136_-98.55835___19.312439/labels.tif' \n",
        "labelsFile_mx = images_dir + '/sentinel2_Tlaxcala_Mexico-98.292789__19.282628_-98.188248__19.374312/labels.tif'"
      ],
      "execution_count": 9,
      "outputs": []
    },
    {
      "cell_type": "markdown",
      "metadata": {
        "id": "BzWMVFsISlek"
      },
      "source": [
        "To get numpy arrays from the multibands images, we can either use raster or rasterio"
      ]
    },
    {
      "cell_type": "code",
      "metadata": {
        "id": "pq865M_GJ069"
      },
      "source": [
        "import rasterio as rio"
      ],
      "execution_count": 10,
      "outputs": []
    },
    {
      "cell_type": "code",
      "metadata": {
        "colab": {
          "base_uri": "https://localhost:8080/"
        },
        "id": "Sau8fGC7mmFm",
        "outputId": "5cbbe96d-e11a-4f67-f26c-070074247745"
      },
      "source": [
        "# Read the rasters as array\n",
        "ds1, featuresUrbanArea = raster.read(featuresFile_urban, bands='all')\n",
        "ds2, featuresNatureArea = raster.read(featuresFile_nature, bands='all')\n",
        "\n",
        "# We get 3D numpy arrays, with dimensions [band, row, col]\n",
        "print(featuresUrbanArea.shape)  \n",
        "print(featuresNatureArea.shape)  "
      ],
      "execution_count": 11,
      "outputs": [
        {
          "output_type": "stream",
          "text": [
            "(10, 1337, 1578)\n",
            "(10, 2253, 1927)\n"
          ],
          "name": "stdout"
        }
      ]
    },
    {
      "cell_type": "code",
      "metadata": {
        "colab": {
          "base_uri": "https://localhost:8080/"
        },
        "id": "cPPjFnBcnM_D",
        "outputId": "d851eb0b-b8f0-41eb-9c92-06822c4f4ecf"
      },
      "source": [
        "# We use rasterio to open the label files:\n",
        "with rio.open(labelsFile_urban, 'r') as img:\n",
        "  labelsUrbanArea = img.read(1)   \n",
        "with rio.open(labelsFile_nature, 'r') as img:\n",
        "  labelsNatureArea = img.read(1)  \n",
        "\n",
        "print(labelsUrbanArea.shape)  \n",
        "print(labelsNatureArea.shape)"
      ],
      "execution_count": 12,
      "outputs": [
        {
          "output_type": "stream",
          "text": [
            "(1337, 1578)\n",
            "(2253, 1927)\n"
          ],
          "name": "stdout"
        }
      ]
    },
    {
      "cell_type": "markdown",
      "metadata": {
        "id": "TssWNtCOCshx"
      },
      "source": [
        "Check the metadata to see what is the Coordinate Reference System (CRS) and the value of the nodata pixels"
      ]
    },
    {
      "cell_type": "code",
      "metadata": {
        "colab": {
          "base_uri": "https://localhost:8080/"
        },
        "id": "M1CH8-4Zi1Bs",
        "outputId": "fd774c75-7817-4325-f75b-695f00ebad3b"
      },
      "source": [
        "with rio.open(featuresFile_urban, 'r') as img:\n",
        "  print(img.meta)"
      ],
      "execution_count": 13,
      "outputs": [
        {
          "output_type": "stream",
          "text": [
            "{'driver': 'GTiff', 'dtype': 'float64', 'nodata': None, 'width': 1578, 'height': 1337, 'count': 10, 'crs': CRS.from_epsg(4326), 'transform': Affine(8.983152841195215e-05, 0.0, -98.28189045813608,\n",
            "       0.0, -8.983152841195215e-05, 19.099440581778794)}\n"
          ],
          "name": "stdout"
        }
      ]
    },
    {
      "cell_type": "code",
      "metadata": {
        "id": "OwrJhfLIdCZr"
      },
      "source": [
        "nBands = featuresUrbanArea.shape[0]"
      ],
      "execution_count": 14,
      "outputs": []
    },
    {
      "cell_type": "code",
      "metadata": {
        "colab": {
          "base_uri": "https://localhost:8080/"
        },
        "id": "FMnHCo30uaRY",
        "outputId": "23fe89e5-7b12-4f28-b176-0ace91c5cfee"
      },
      "source": [
        "# Reshape the arrays to single dimensional arrays\n",
        "featuresUrbanArea = changeDimension(featuresUrbanArea)\n",
        "labelsUrbanArea = changeDimension (labelsUrbanArea)\n",
        "\n",
        "print(\"Area Multispectral Urban image shape: \", featuresUrbanArea.shape)\n",
        "print(\"Area Binary Urban image shape: \", labelsUrbanArea.shape)"
      ],
      "execution_count": 15,
      "outputs": [
        {
          "output_type": "stream",
          "text": [
            "Area Multispectral Urban image shape:  (2109786, 10)\n",
            "Area Binary Urban image shape:  (2109786,)\n"
          ],
          "name": "stdout"
        }
      ]
    },
    {
      "cell_type": "code",
      "metadata": {
        "colab": {
          "base_uri": "https://localhost:8080/"
        },
        "id": "qGsWTUv7cMdE",
        "outputId": "139adc38-4898-4755-baf0-b973cf5a4082"
      },
      "source": [
        "featuresNatureArea = changeDimension(featuresNatureArea)\n",
        "labelsNatureArea = changeDimension (labelsNatureArea)\n",
        "\n",
        "print(\"Area Multispectral Nature image shape: \", featuresNatureArea.shape)\n",
        "print(\"Area Binary Nature image shape: \", labelsNatureArea.shape)"
      ],
      "execution_count": 16,
      "outputs": [
        {
          "output_type": "stream",
          "text": [
            "Area Multispectral Nature image shape:  (4341531, 10)\n",
            "Area Binary Nature image shape:  (4341531,)\n"
          ],
          "name": "stdout"
        }
      ]
    },
    {
      "cell_type": "markdown",
      "metadata": {
        "id": "qwK-DT2gAgyy"
      },
      "source": [
        "As the geotiff images are rectangle images, but the area of interest has been croped, the numpy arrays contain nodata pixels (in our case they have value 0). We need to remove them for training."
      ]
    },
    {
      "cell_type": "code",
      "metadata": {
        "id": "_tnV8UZSZxS9"
      },
      "source": [
        "def suppress_nodata_pixels(features, labels):\n",
        "  # Suppress the nodata pixels (none = 0)\n",
        "  total_nodata = 0\n",
        "  feat = np.zeros((features.shape[0],features.shape[1]),dtype=np.int64)\n",
        "  lab = np.zeros(labels.shape[0],dtype=np.int64)\n",
        "  all_zeros = np.zeros(features.shape[1],dtype=np.int64)\n",
        "  k = 0\n",
        "  for i in range(features.shape[0]):\n",
        "    # if there is at least one non zero value, pixel contains data\n",
        "    if features[i,:].any() != 0: \n",
        "      # we copy the pixel in the new array\n",
        "      feat[k,:] = features[i,:]\n",
        "      lab[k] = labels[i,]\n",
        "      k = k + 1\n",
        "    # Otherwise pixel contains no data, we don't keep it for training\n",
        "    else :\n",
        "      total_nodata = total_nodata + 1\n",
        "  \n",
        "  new_features = feat[0:k,:]\n",
        "  new_labels = lab[0:k]\n",
        "  print(\"total pixels suppressed:\",total_nodata)\n",
        "  return (new_features, new_labels)"
      ],
      "execution_count": 17,
      "outputs": []
    },
    {
      "cell_type": "code",
      "metadata": {
        "colab": {
          "base_uri": "https://localhost:8080/"
        },
        "id": "R7bBYJc5Z4mY",
        "outputId": "b81fc1a7-a496-4731-e8bf-2af369c76abd"
      },
      "source": [
        "featuresNatureArea, labelsNatureArea = suppress_nodata_pixels(featuresNatureArea, labelsNatureArea)"
      ],
      "execution_count": 19,
      "outputs": [
        {
          "output_type": "stream",
          "text": [
            "total pixels suppressed: 1053080\n"
          ],
          "name": "stdout"
        }
      ]
    },
    {
      "cell_type": "code",
      "metadata": {
        "colab": {
          "base_uri": "https://localhost:8080/"
        },
        "id": "031kQHpwrnch",
        "outputId": "b3675b1e-345d-4d2a-9b37-33c9674a9eee"
      },
      "source": [
        "featuresUrbanArea, labelsUrbanArea = suppress_nodata_pixels(featuresUrbanArea, labelsUrbanArea)"
      ],
      "execution_count": 20,
      "outputs": [
        {
          "output_type": "stream",
          "text": [
            "total pixels suppressed: 597732\n"
          ],
          "name": "stdout"
        }
      ]
    },
    {
      "cell_type": "markdown",
      "metadata": {
        "id": "tvf7P_BMi2ab"
      },
      "source": [
        "Then we concatenate the 2 urban and nature feature arrays (respectively 2 labels arrays) and shuffle them before entry of NN."
      ]
    },
    {
      "cell_type": "code",
      "metadata": {
        "id": "NUCrwl0jbGON"
      },
      "source": [
        "# Concatenate arrays\n",
        "featuresArea = np.concatenate((featuresUrbanArea, featuresNatureArea))\n",
        "labelsArea = np.concatenate((labelsUrbanArea, labelsNatureArea))  "
      ],
      "execution_count": 23,
      "outputs": []
    },
    {
      "cell_type": "code",
      "metadata": {
        "colab": {
          "base_uri": "https://localhost:8080/"
        },
        "id": "YIv-FG3bv6g3",
        "outputId": "438e36fe-50e8-4571-ad02-12985925ac43"
      },
      "source": [
        "# Print the size of the arrays\n",
        "print(\"Train/test area Multispectral image shape: \", featuresArea.shape)\n",
        "print(\"Area Binary built-up image shape: \", labelsArea.shape)"
      ],
      "execution_count": 25,
      "outputs": [
        {
          "output_type": "stream",
          "text": [
            "Train/test area Multispectral image shape:  (4800505, 10)\n",
            "Area Binary built-up image shape:  (4800505,)\n"
          ],
          "name": "stdout"
        }
      ]
    },
    {
      "cell_type": "code",
      "metadata": {
        "id": "zmgCEQQPa-pN"
      },
      "source": [
        "# Shuffle the arrays\n",
        "featuresArea, labelsArea = shuffle(featuresArea, labelsArea, random_state=0)"
      ],
      "execution_count": 26,
      "outputs": []
    },
    {
      "cell_type": "code",
      "metadata": {
        "colab": {
          "base_uri": "https://localhost:8080/"
        },
        "id": "3vLVJgCR4Tpt",
        "outputId": "36a81d30-b18d-4d4a-cd5d-cacbd8272650"
      },
      "source": [
        "# Split testing and training datasets\n",
        "xTrain, xTest, yTrain, yTest = train_test_split(featuresArea, labelsArea, test_size=0.4, random_state=42)\n",
        "\n",
        "print(xTrain.shape)\n",
        "print(yTrain.shape)\n",
        "\n",
        "print(xTest.shape)\n",
        "print(yTest.shape)"
      ],
      "execution_count": 27,
      "outputs": [
        {
          "output_type": "stream",
          "text": [
            "(2880303, 10)\n",
            "(2880303,)\n",
            "(1920202, 10)\n",
            "(1920202,)\n"
          ],
          "name": "stdout"
        }
      ]
    },
    {
      "cell_type": "code",
      "metadata": {
        "colab": {
          "base_uri": "https://localhost:8080/"
        },
        "id": "Lh3TIaZWWUea",
        "outputId": "6979b7e7-8ef8-4e3e-a9eb-b3b96839ada2"
      },
      "source": [
        "# Check whether data is on 8 bits or 16 bits:\n",
        "# 8 bits -> normalise by 255.0\n",
        "# 16 bits -> normalise by 65535.0\n",
        "featuresArea.max()"
      ],
      "execution_count": 28,
      "outputs": [
        {
          "output_type": "execute_result",
          "data": {
            "text/plain": [
              "12041"
            ]
          },
          "metadata": {
            "tags": []
          },
          "execution_count": 28
        }
      ]
    },
    {
      "cell_type": "code",
      "metadata": {
        "colab": {
          "base_uri": "https://localhost:8080/"
        },
        "id": "5vk5MMybznJr",
        "outputId": "5ab9c8e3-6176-4a7c-91f9-a3579230a89c"
      },
      "source": [
        "# Normalise the data\n",
        "xTrain = xTrain / 65535.0\n",
        "xTest = xTest / 65535.0\n",
        "\n",
        "# Reshape the data\n",
        "xTrain = xTrain.reshape((xTrain.shape[0], 1, xTrain.shape[1]))\n",
        "xTest = xTest.reshape((xTest.shape[0], 1, xTest.shape[1]))\n",
        "\n",
        "# Print the shape of reshaped data\n",
        "print(xTrain.shape, xTest.shape)"
      ],
      "execution_count": 29,
      "outputs": [
        {
          "output_type": "stream",
          "text": [
            "(2880303, 1, 10) (1920202, 1, 10)\n"
          ],
          "name": "stdout"
        }
      ]
    },
    {
      "cell_type": "code",
      "metadata": {
        "id": "zWfO5tUP4cH3"
      },
      "source": [
        "# Define the parameters of the model\n",
        "model = keras.Sequential([\n",
        "    keras.layers.Flatten(input_shape=(1, nBands)),\n",
        "    keras.layers.Dense(14, activation='relu'),\n",
        "    keras.layers.Dense(2, activation='softmax')])\n",
        "\n",
        "# Define the accuracy metrics and parameters\n",
        "model.compile(optimizer=\"adam\", loss=\"sparse_categorical_crossentropy\", metrics=[\"accuracy\"])\n"
      ],
      "execution_count": 30,
      "outputs": []
    },
    {
      "cell_type": "code",
      "metadata": {
        "colab": {
          "base_uri": "https://localhost:8080/"
        },
        "id": "gBDunW0g4icM",
        "outputId": "5f255137-7545-4649-cb2f-f980bd1487b7"
      },
      "source": [
        "# Run the model\n",
        "model.fit(xTrain, yTrain, epochs=5)"
      ],
      "execution_count": 31,
      "outputs": [
        {
          "output_type": "stream",
          "text": [
            "Epoch 1/5\n",
            "90010/90010 [==============================] - 162s 2ms/step - loss: 0.2100 - accuracy: 0.9230\n",
            "Epoch 2/5\n",
            "90010/90010 [==============================] - 158s 2ms/step - loss: 0.1683 - accuracy: 0.9387\n",
            "Epoch 3/5\n",
            "90010/90010 [==============================] - 157s 2ms/step - loss: 0.1542 - accuracy: 0.9416\n",
            "Epoch 4/5\n",
            "90010/90010 [==============================] - 157s 2ms/step - loss: 0.1460 - accuracy: 0.9435\n",
            "Epoch 5/5\n",
            "90010/90010 [==============================] - 156s 2ms/step - loss: 0.1377 - accuracy: 0.9460\n"
          ],
          "name": "stdout"
        },
        {
          "output_type": "execute_result",
          "data": {
            "text/plain": [
              "<tensorflow.python.keras.callbacks.History at 0x7fb7402a79d0>"
            ]
          },
          "metadata": {
            "tags": []
          },
          "execution_count": 31
        }
      ]
    },
    {
      "cell_type": "code",
      "metadata": {
        "colab": {
          "base_uri": "https://localhost:8080/"
        },
        "id": "_oOUvINY4uX8",
        "outputId": "6360f926-8d63-468d-8015-d2ad6da41ded"
      },
      "source": [
        "# Predict for test data \n",
        "yTestPredicted = model.predict(xTest)\n",
        "yTestPredicted = yTestPredicted[:,1]\n",
        "\n",
        "# Calculate and display the error metrics\n",
        "yTestPredicted = (yTestPredicted>0.5).astype(int)\n",
        "cMatrix = confusion_matrix(yTest, yTestPredicted)\n",
        "pScore = precision_score(yTest, yTestPredicted)\n",
        "rScore = recall_score(yTest, yTestPredicted)\n",
        "\n",
        "print(\"Confusion matrix: for 14 nodes\\n\", cMatrix)\n",
        "print(\"\\nP-Score: %.3f, R-Score: %.3f\" % (pScore, rScore))"
      ],
      "execution_count": 32,
      "outputs": [
        {
          "output_type": "stream",
          "text": [
            "Confusion matrix: for 14 nodes\n",
            " [[ 580868   31802]\n",
            " [  69224 1238308]]\n",
            "\n",
            "P-Score: 0.975, R-Score: 0.947\n"
          ],
          "name": "stdout"
        }
      ]
    },
    {
      "cell_type": "markdown",
      "metadata": {
        "id": "He_SoAbqq32f"
      },
      "source": [
        "# Save model and test it with new data"
      ]
    },
    {
      "cell_type": "code",
      "metadata": {
        "id": "DY2_ksWyqsTP"
      },
      "source": [
        "from keras.models import load_model\n",
        "\n",
        "model.save('model_step2.h5')  # creates a HDF5 file\n",
        "del model  # deletes the existing model\n",
        "\n",
        "# returns a compiled model\n",
        "# identical to the previous one\n",
        "model = load_model('model_step2.h5')"
      ],
      "execution_count": 33,
      "outputs": []
    },
    {
      "cell_type": "code",
      "metadata": {
        "colab": {
          "base_uri": "https://localhost:8080/"
        },
        "id": "jkB1pZLPcW4C",
        "outputId": "b75e56b1-1e34-4d2f-b8c6-b990d4955ce4"
      },
      "source": [
        "# Read the raster as array\n",
        "ds3, featuresMxArea = raster.read(featuresFile_mx, bands='all')\n",
        "\n",
        "# We get 3D numpy array, with dimensions [band, row, col]\n",
        "print(featuresMxArea.shape)  "
      ],
      "execution_count": 34,
      "outputs": [
        {
          "output_type": "stream",
          "text": [
            "(10, 1021, 1165)\n"
          ],
          "name": "stdout"
        }
      ]
    },
    {
      "cell_type": "code",
      "metadata": {
        "id": "e8an5KCiqxqa"
      },
      "source": [
        "# Reshape the array to single dimensional array\n",
        "featuresMxArea = changeDimension(featuresMxArea)"
      ],
      "execution_count": 35,
      "outputs": []
    },
    {
      "cell_type": "code",
      "metadata": {
        "colab": {
          "base_uri": "https://localhost:8080/"
        },
        "id": "sq5M2K_PsUxM",
        "outputId": "443bbacb-97c9-42fc-8f64-687bd00a8736"
      },
      "source": [
        "# Final image should be normalised as well\n",
        "featuresMxArea = featuresMxArea / 65535.0\n",
        "\n",
        "# Reshape the data\n",
        "featuresMxArea = featuresMxArea.reshape((featuresMxArea.shape[0], 1, featuresMxArea.shape[1]))\n",
        "\n",
        "# Print the shape of reshaped data\n",
        "print(\"Final Area Multispectral image shape: \", featuresMxArea.shape)"
      ],
      "execution_count": 36,
      "outputs": [
        {
          "output_type": "stream",
          "text": [
            "Final Area Multispectral image shape:  (1189465, 1, 10)\n"
          ],
          "name": "stdout"
        }
      ]
    },
    {
      "cell_type": "code",
      "metadata": {
        "id": "uCamVHBsvx6R"
      },
      "source": [
        "# Predict new data \n",
        "predicted = model.predict(featuresMxArea)\n",
        "predicted = predicted[:,1]\n",
        "\n",
        "# Export the probability raster\n",
        "prediction = np.reshape(predicted, (ds3.RasterYSize, ds3.RasterXSize))\n",
        "outFile = 'BuiltupNN_predicted.tif'\n",
        "raster.export(prediction, ds3, filename=outFile, dtype='float')\n"
      ],
      "execution_count": 37,
      "outputs": []
    },
    {
      "cell_type": "markdown",
      "metadata": {
        "id": "f2Jxge4nyneq"
      },
      "source": [
        "# Visualisation of predicted images\n",
        "Additional link to vizualise resulting .tif image\n",
        "\n",
        "https://towardsdatascience.com/reading-and-visualizing-geotiff-images-with-python-8dcca7a74510\n",
        "\n",
        "A GeoTIFF is a standard .tif or image file format that includes additional spatial (georeferencing) information embedded in the .tif file as tags"
      ]
    },
    {
      "cell_type": "code",
      "metadata": {
        "id": "-4ma0GcLx1M2",
        "colab": {
          "base_uri": "https://localhost:8080/",
          "height": 282
        },
        "outputId": "9e87c729-a8c9-493a-f8b5-5c627a5872b2"
      },
      "source": [
        "import rasterio\n",
        "from rasterio.plot import show\n",
        "fp = r'BuiltupNN_predicted.tif'\n",
        "img = rasterio.open(fp)\n",
        "show(img)"
      ],
      "execution_count": 38,
      "outputs": [
        {
          "output_type": "display_data",
          "data": {
            "image/png": "[encoded data removed]",
            "text/plain": [
              "<Figure size 432x288 with 1 Axes>"
            ]
          },
          "metadata": {
            "tags": [],
            "needs_background": "light"
          }
        },
        {
          "output_type": "execute_result",
          "data": {
            "text/plain": [
              "<matplotlib.axes._subplots.AxesSubplot at 0x7fb6f0316e90>"
            ]
          },
          "metadata": {
            "tags": []
          },
          "execution_count": 38
        }
      ]
    }
  ]
}