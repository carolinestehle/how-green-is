{
  "nbformat": 4,
  "nbformat_minor": 0,
  "metadata": {
    "colab": {
      "name": "Create sat images and OSD shapes",
      "provenance": [],
      "collapsed_sections": []
    },
    "kernelspec": {
      "display_name": "Python 3",
      "name": "python3"
    },
    "language_info": {
      "name": "python"
    }
  },
  "cells": [
    {
      "cell_type": "code",
      "metadata": {
        "colab": {
          "base_uri": "https://localhost:8080/",
          "height": 1000
        },
        "id": "8uRTagDoelN1",
        "outputId": "7b59d657-3fde-415e-ca1b-917910eeac6a"
      },
      "source": [
        "#install python packages to run this notebook \n",
        "!pip install rasterio geopandas  osmnx unidecode"
      ],
      "execution_count": null,
      "outputs": [
        {
          "output_type": "stream",
          "text": [
            "Collecting rasterio\n",
            "\u001b[?25l  Downloading https://files.pythonhosted.org/packages/e1/bf/d3c5e7df3828db144a6797269bf3aec31db96c20f13e75b93179eb059955/rasterio-1.2.3-cp37-cp37m-manylinux1_x86_64.whl (19.1MB)\n",
            "\u001b[K     |████████████████████████████████| 19.1MB 1.4MB/s \n",
            "\u001b[?25hCollecting geopandas\n",
            "\u001b[?25l  Downloading https://files.pythonhosted.org/packages/d7/bf/e9cefb69d39155d122b6ddca53893b61535fa6ffdad70bf5ef708977f53f/geopandas-0.9.0-py2.py3-none-any.whl (994kB)\n",
            "\u001b[K     |████████████████████████████████| 1.0MB 29.4MB/s \n",
            "\u001b[?25hCollecting osmnx\n",
            "\u001b[?25l  Downloading https://files.pythonhosted.org/packages/2a/49/401f47ea2daa7b00eac844f5324d9db67a2b2b6f24bc1ae7c56c6f2f0a9b/osmnx-1.1.1-py2.py3-none-any.whl (93kB)\n",
            "\u001b[K     |████████████████████████████████| 102kB 9.1MB/s \n",
            "\u001b[?25hCollecting unidecode\n",
            "\u001b[?25l  Downloading https://files.pythonhosted.org/packages/9e/25/723487ca2a52ebcee88a34d7d1f5a4b80b793f179ee0f62d5371938dfa01/Unidecode-1.2.0-py2.py3-none-any.whl (241kB)\n",
            "\u001b[K     |████████████████████████████████| 245kB 42.5MB/s \n",
            "\u001b[?25hCollecting snuggs>=1.4.1\n",
            "  Downloading https://files.pythonhosted.org/packages/cc/0e/d27d6e806d6c0d1a2cfdc5d1f088e42339a0a54a09c3343f7f81ec8947ea/snuggs-1.4.7-py3-none-any.whl\n",
            "Collecting cligj>=0.5\n",
            "  Downloading https://files.pythonhosted.org/packages/42/1e/947eadf10d6804bf276eb8a038bd5307996dceaaa41cfd21b7a15ec62f5d/cligj-0.7.1-py3-none-any.whl\n",
            "Collecting affine\n",
            "  Downloading https://files.pythonhosted.org/packages/ac/a6/1a39a1ede71210e3ddaf623982b06ecfc5c5c03741ae659073159184cd3e/affine-2.3.0-py2.py3-none-any.whl\n",
            "Collecting click-plugins\n",
            "  Downloading https://files.pythonhosted.org/packages/e9/da/824b92d9942f4e472702488857914bdd50f73021efea15b4cad9aca8ecef/click_plugins-1.1.1-py2.py3-none-any.whl\n",
            "Requirement already satisfied: certifi in /usr/local/lib/python3.7/dist-packages (from rasterio) (2020.12.5)\n",
            "Requirement already satisfied: attrs in /usr/local/lib/python3.7/dist-packages (from rasterio) (21.2.0)\n",
            "Requirement already satisfied: click<8,>=4.0 in /usr/local/lib/python3.7/dist-packages (from rasterio) (7.1.2)\n",
            "Requirement already satisfied: numpy in /usr/local/lib/python3.7/dist-packages (from rasterio) (1.19.5)\n",
            "Collecting fiona>=1.8\n",
            "\u001b[?25l  Downloading https://files.pythonhosted.org/packages/ea/2a/404b22883298a3efe9c6ef8d67acbf2c38443fa366ee9cd4cd34e17626ea/Fiona-1.8.19-cp37-cp37m-manylinux1_x86_64.whl (15.3MB)\n",
            "\u001b[K     |████████████████████████████████| 15.3MB 281kB/s \n",
            "\u001b[?25hCollecting pyproj>=2.2.0\n",
            "\u001b[?25l  Downloading https://files.pythonhosted.org/packages/11/1d/1c54c672c2faf08d28fe78e15d664c048f786225bef95ad87b6c435cf69e/pyproj-3.1.0-cp37-cp37m-manylinux2010_x86_64.whl (6.6MB)\n",
            "\u001b[K     |████████████████████████████████| 6.6MB 31.4MB/s \n",
            "\u001b[?25hRequirement already satisfied: pandas>=0.24.0 in /usr/local/lib/python3.7/dist-packages (from geopandas) (1.1.5)\n",
            "Requirement already satisfied: shapely>=1.6 in /usr/local/lib/python3.7/dist-packages (from geopandas) (1.7.1)\n",
            "Collecting requests>=2.25\n",
            "\u001b[?25l  Downloading https://files.pythonhosted.org/packages/29/c1/24814557f1d22c56d50280771a17307e6bf87b70727d975fd6b2ce6b014a/requests-2.25.1-py2.py3-none-any.whl (61kB)\n",
            "\u001b[K     |████████████████████████████████| 61kB 7.2MB/s \n",
            "\u001b[?25hRequirement already satisfied: networkx>=2.5 in /usr/local/lib/python3.7/dist-packages (from osmnx) (2.5.1)\n",
            "Collecting Rtree>=0.9\n",
            "\u001b[?25l  Downloading https://files.pythonhosted.org/packages/51/05/5a67111cee91d2165a2bcb855f442186e3d76ddef834596cc84d4875c401/Rtree-0.9.7-cp37-cp37m-manylinux2010_x86_64.whl (994kB)\n",
            "\u001b[K     |████████████████████████████████| 1.0MB 29.1MB/s \n",
            "\u001b[?25hCollecting matplotlib>=3.3\n",
            "\u001b[?25l  Downloading https://files.pythonhosted.org/packages/24/33/5568d443ba438d95d4db635dd69958056f087e57e1026bee56f959d53f9d/matplotlib-3.4.2-cp37-cp37m-manylinux1_x86_64.whl (10.3MB)\n",
            "\u001b[K     |████████████████████████████████| 10.3MB 28.3MB/s \n",
            "\u001b[?25hRequirement already satisfied: pyparsing>=2.1.6 in /usr/local/lib/python3.7/dist-packages (from snuggs>=1.4.1->rasterio) (2.4.7)\n",
            "Requirement already satisfied: six>=1.7 in /usr/local/lib/python3.7/dist-packages (from fiona>=1.8->geopandas) (1.15.0)\n",
            "Collecting munch\n",
            "  Downloading https://files.pythonhosted.org/packages/cc/ab/85d8da5c9a45e072301beb37ad7f833cd344e04c817d97e0cc75681d248f/munch-2.5.0-py2.py3-none-any.whl\n",
            "Requirement already satisfied: pytz>=2017.2 in /usr/local/lib/python3.7/dist-packages (from pandas>=0.24.0->geopandas) (2018.9)\n",
            "Requirement already satisfied: python-dateutil>=2.7.3 in /usr/local/lib/python3.7/dist-packages (from pandas>=0.24.0->geopandas) (2.8.1)\n",
            "Requirement already satisfied: urllib3<1.27,>=1.21.1 in /usr/local/lib/python3.7/dist-packages (from requests>=2.25->osmnx) (1.24.3)\n",
            "Requirement already satisfied: idna<3,>=2.5 in /usr/local/lib/python3.7/dist-packages (from requests>=2.25->osmnx) (2.10)\n",
            "Requirement already satisfied: chardet<5,>=3.0.2 in /usr/local/lib/python3.7/dist-packages (from requests>=2.25->osmnx) (3.0.4)\n",
            "Requirement already satisfied: decorator<5,>=4.3 in /usr/local/lib/python3.7/dist-packages (from networkx>=2.5->osmnx) (4.4.2)\n",
            "Requirement already satisfied: kiwisolver>=1.0.1 in /usr/local/lib/python3.7/dist-packages (from matplotlib>=3.3->osmnx) (1.3.1)\n",
            "Requirement already satisfied: cycler>=0.10 in /usr/local/lib/python3.7/dist-packages (from matplotlib>=3.3->osmnx) (0.10.0)\n",
            "Requirement already satisfied: pillow>=6.2.0 in /usr/local/lib/python3.7/dist-packages (from matplotlib>=3.3->osmnx) (7.1.2)\n",
            "\u001b[31mERROR: google-colab 1.0.0 has requirement requests~=2.23.0, but you'll have requests 2.25.1 which is incompatible.\u001b[0m\n",
            "\u001b[31mERROR: datascience 0.10.6 has requirement folium==0.2.1, but you'll have folium 0.8.3 which is incompatible.\u001b[0m\n",
            "\u001b[31mERROR: albumentations 0.1.12 has requirement imgaug<0.2.7,>=0.2.5, but you'll have imgaug 0.2.9 which is incompatible.\u001b[0m\n",
            "Installing collected packages: snuggs, cligj, affine, click-plugins, rasterio, munch, fiona, pyproj, geopandas, requests, Rtree, matplotlib, osmnx, unidecode\n",
            "  Found existing installation: requests 2.23.0\n",
            "    Uninstalling requests-2.23.0:\n",
            "      Successfully uninstalled requests-2.23.0\n",
            "  Found existing installation: matplotlib 3.2.2\n",
            "    Uninstalling matplotlib-3.2.2:\n",
            "      Successfully uninstalled matplotlib-3.2.2\n",
            "Successfully installed Rtree-0.9.7 affine-2.3.0 click-plugins-1.1.1 cligj-0.7.1 fiona-1.8.19 geopandas-0.9.0 matplotlib-3.4.2 munch-2.5.0 osmnx-1.1.1 pyproj-3.1.0 rasterio-1.2.3 requests-2.25.1 snuggs-1.4.7 unidecode-1.2.0\n"
          ],
          "name": "stdout"
        },
        {
          "output_type": "display_data",
          "data": {
            "application/vnd.colab-display-data+json": {
              "pip_warning": {
                "packages": [
                  "matplotlib",
                  "mpl_toolkits"
                ]
              }
            }
          },
          "metadata": {
            "tags": []
          }
        }
      ]
    },
    {
      "cell_type": "code",
      "metadata": {
        "id": "p2Qow_mieoZG"
      },
      "source": [
        "import geopandas as gpd\n",
        "import matplotlib.pyplot as plt\n",
        "import matplotlib.image as mpimg\n",
        "import numpy as np\n",
        "import osmnx as ox\n",
        "import pandas as pd\n",
        "\n",
        "import rasterio\n",
        "from rasterio import features\n",
        "from rasterio.plot import show\n",
        "\n",
        "import os\n",
        "from os import path as op\n",
        "from shapely.wkt import loads\n",
        "\n",
        "import unidecode\n",
        "\n",
        "%matplotlib inline"
      ],
      "execution_count": null,
      "outputs": []
    },
    {
      "cell_type": "code",
      "metadata": {
        "colab": {
          "base_uri": "https://localhost:8080/"
        },
        "id": "Qy-bD1Ore8lD",
        "outputId": "ec9af5e7-e981-4461-9473-ef769d2a4e8c"
      },
      "source": [
        "# Mount drive to google colab\n",
        "from google.colab import drive\n",
        "drive.mount('/content/drive', force_remount=True)\n",
        "\n",
        "# Set a Google Drive directory as the default working directory\n",
        "root_dir = \"/content/drive/MyDrive/sat_images/places/\"\n",
        "\n",
        "# Make sure that folder exists\n",
        "if (not op.isdir(root_dir)):\n",
        "  os.mkdir(root_dir)"
      ],
      "execution_count": null,
      "outputs": [
        {
          "output_type": "stream",
          "text": [
            "Mounted at /content/drive\n"
          ],
          "name": "stdout"
        }
      ]
    },
    {
      "cell_type": "code",
      "metadata": {
        "colab": {
          "base_uri": "https://localhost:8080/"
        },
        "id": "mZWcJ_kvgWIW",
        "outputId": "09da36a1-4d2d-44e6-b288-28ea05f84c23"
      },
      "source": [
        "# If not on Colab you'll need install the earth-engine Python API\n",
        "#!pip install earthengine-api #earth-engine Python API\n",
        "\n",
        "# Earth Engine Python API\n",
        "import ee \n",
        "# Athenticate to your GEE account. \n",
        "ee.Authenticate()\n",
        "ee.Initialize()"
      ],
      "execution_count": null,
      "outputs": [
        {
          "output_type": "stream",
          "text": [
            "To authorize access needed by Earth Engine, open the following URL in a web browser and follow the instructions. If the web browser does not start automatically, please manually browse the URL below.\n",
            "\n",
            "    https://accounts.google.com/o/oauth2/auth?client_id=517222506229-vsmmajv00ul0bs7p89v5m89qs8eb9359.apps.googleusercontent.com&scope=https%3A%2F%2Fwww.googleapis.com%2Fauth%2Fearthengine+https%3A%2F%2Fwww.googleapis.com%2Fauth%2Fdevstorage.full_control&redirect_uri=urn%3Aietf%3Awg%3Aoauth%3A2.0%3Aoob&response_type=code&code_challenge=xubkdvH3Clap5Hf-XYUa5wl70YBsPqmR6z-MabpRlo8&code_challenge_method=S256\n",
            "\n",
            "The authorization workflow will generate a code, which you should paste in the box below. \n",
            "Enter verification code: 4/1AY0e-g7OSBJ-YWvOM94ZU5ZqSanaR6coj2ex4hjeUEfp0Vr4PTGjCgrA0u8\n",
            "\n",
            "Successfully saved authorization token.\n"
          ],
          "name": "stdout"
        },
        {
          "output_type": "stream",
          "text": [
            "/usr/local/lib/python3.7/dist-packages/ee/data.py:219: ResourceWarning: unclosed file <_io.TextIOWrapper name='/root/.config/earthengine/credentials' mode='r' encoding='UTF-8'>\n",
            "  tokens = json.load(open(oauth.get_credentials_path()))\n",
            "ResourceWarning: Enable tracemalloc to get the object allocation traceback\n",
            "/usr/local/lib/python3.7/dist-packages/httplib2shim/__init__.py:45: DeprecationWarning: Using or importing the ABCs from 'collections' instead of from 'collections.abc' is deprecated since Python 3.3,and in 3.9 it will stop working\n",
            "  if isinstance(proxy_info, collections.Callable):\n"
          ],
          "name": "stderr"
        }
      ]
    },
    {
      "cell_type": "code",
      "metadata": {
        "colab": {
          "background_save": true,
          "base_uri": "https://localhost:8080/"
        },
        "id": "7BnyeRQUfXi6",
        "outputId": "10042273-ad34-4aaa-fd79-f7223b844e91"
      },
      "source": [
        "# Any place worlwide you want (city/place name, country)\n",
        "place_name = input('Any worlwide place to search (as \"Paris, France\"): ')\n",
        "\n",
        "# search the place area, based on the given name  \n",
        "place_area = ox.geocoder.geocode_to_gdf(place_name)\n",
        "print('Got the following place: ' + place_area.display_name[0])\n",
        "area_name = place_area.display_name[0].replace(' ','_').replace(',','').replace(\"'\",\"\")\n",
        "area_name = unidecode.unidecode(area_name)[:80]\n",
        "print(area_name)\n",
        "\n",
        "# To measure an area of the map, we need to ensure we are using an equal area projection. \n",
        "# For now using one of the recommended on this post: Mollweide Projection (EPSG:54009), but needs further investigation\n",
        "# https://gis-ops.com/measuring-distances-and-why-projections-matter-practical-examples/  \n",
        "crs_type = 'EPSG:4326'\n",
        "\n",
        "#set minimum number of class samples in order be considerer for classification \n",
        "min_count_learning = 50\n",
        "\n",
        "place_area.to_crs(crs=crs_type, inplace=True)\n",
        "\n",
        "# selected the OSM tags that I consider as green, but can be reviewed)\n",
        "tags_green_natural =  {'natural': ['tree', 'wood', 'scrub', 'wetland', 'grassland', 'tree_row', 'heath', 'fell', 'shrub', 'grass', 'forest', 'bush']}\n",
        "    #see:  https://wiki.openstreetmap.org/wiki/Key:natural\n",
        "tags_green_landuse =  {'landuse': ['farmland', 'forest', 'grass', 'meadow', 'orchard', 'farmyard', 'vineyard', 'allotments', 'recreation_ground', 'village_green', 'plant_nursery', 'farm', 'flowerbed', 'plantation', 'agriculture', 'garden']}\n",
        "    #see:  https://wiki.openstreetmap.org/wiki/Key:landuse\n",
        "tags_green_leisure = {'leisure': ['garden', 'golf_course', 'nature_reserve', 'park']}\n",
        "    #see:  https://wiki.openstreetmap.org/wiki/Key:leisure\n",
        "\n",
        "green_tags = {**tags_green_natural, **tags_green_landuse, **tags_green_leisure}\n",
        "\n",
        "print('please wait while I get the green areas tagged in ' + place_area.display_name[0])\n",
        "print('It can take some time... ')\n",
        "# get dataframe of green areas from the defined place \n",
        "green_areas = ox.geometries_from_place(place_name, green_tags).to_crs(crs=crs_type)\n",
        "\n",
        "# Plot the green areas (needs improvement, i don't know why we get blue areas) \n",
        "fig, ax = plt.subplots()\n",
        "print(place_area.place_id)\n",
        "place_area.plot(ax=ax, facecolor='gray')\n",
        "green_areas.plot(ax=ax, facecolor='green', alpha=0.7)\n",
        "\n",
        "\n",
        "# greens_df will colect all the green areas/points of the place \n",
        "greens_df = gpd.GeoDataFrame(columns=['name','geometry'])\n",
        "for area_type  in green_tags:\n",
        "  for area in green_tags[area_type]:\n",
        "    if area_type in green_areas.columns:\n",
        "      sub_df = green_areas[green_areas[area_type]==area][['geometry']]\n",
        "      sub_df['name'] = green_areas[green_areas[area_type]==area][area_type]\n",
        "      greens_df = greens_df.append(sub_df)\n",
        "\n",
        "greens_df = greens_df.loc[greens_df.geometry.geom_type.isin(['Polygon','MultiPolygon'])]\n",
        "\n",
        "#new_df = greens_df.groupby(['name']).count()\n",
        "#new_index = new_df[new_df.geometry.gt(min_count_learning)].index.values\n",
        "#greens_df = greens_df.loc[greens_df['name'].isin(new_index)]\n",
        "# Set a Google Drive directory as the default working directory\n",
        "root_dir = \"/content/drive/MyDrive/sat_images/places/\" + area_name +\"/\"\n",
        "\n",
        "# Make sure that folder exists\n",
        "if (not op.isdir(root_dir)):\n",
        "  os.mkdir(root_dir)\n",
        "\n",
        "greens_df.to_csv(root_dir + 'green_areas.csv')\n",
        "print(greens_df)"
      ],
      "execution_count": null,
      "outputs": [
        {
          "output_type": "stream",
          "text": [
            "Got the following place: Brisbane City, Queensland, Australia\n",
            "Brisbane_City_Queensland_Australia\n",
            "please wait while I get the green areas tagged in Brisbane City, Queensland, Australia\n",
            "It can take some time... \n",
            "0    259479244\n",
            "Name: place_id, dtype: int64\n",
            "                      name                                           geometry\n",
            "(way, 9906157)        wood  POLYGON ((153.02133 -27.38832, 153.02057 -27.3...\n",
            "(way, 10591962)       wood  POLYGON ((153.00718 -27.44395, 153.00684 -27.4...\n",
            "(way, 17993140)       wood  POLYGON ((153.02277 -27.43032, 153.02323 -27.4...\n",
            "(way, 18009785)       wood  POLYGON ((153.05300 -27.52505, 153.05262 -27.5...\n",
            "(way, 18562493)       wood  POLYGON ((152.99834 -27.40757, 152.99969 -27.4...\n",
            "...                    ...                                                ...\n",
            "(relation, 6376009)   park  POLYGON ((153.11015 -27.46426, 153.11015 -27.4...\n",
            "(relation, 11140701)  park  POLYGON ((153.17831 -27.45905, 153.17855 -27.4...\n",
            "(relation, 11201842)  park  POLYGON ((153.14555 -27.47785, 153.14462 -27.4...\n",
            "(relation, 11201843)  park  POLYGON ((153.14591 -27.47502, 153.14612 -27.4...\n",
            "(relation, 11835055)  park  POLYGON ((153.10731 -27.54855, 153.10736 -27.5...\n",
            "\n",
            "[5054 rows x 2 columns]\n"
          ],
          "name": "stdout"
        },
        {
          "output_type": "display_data",
          "data": {
            "image/png": "[encoded data removed]",
            "text/plain": [
              "<Figure size 432x288 with 1 Axes>"
            ]
          },
          "metadata": {
            "tags": []
          }
        }
      ]
    },
    {
      "cell_type": "code",
      "metadata": {
        "colab": {
          "background_save": true
        },
        "id": "kMWNQf9igsYt",
        "outputId": "c55b8a26-4ab5-4aea-fd73-d63faa06f443"
      },
      "source": [
        "start_date ='2020-01-01'\n",
        "end_date = '2020-12-31'\n",
        "cloud_pct = 2\n",
        "band_sel = ('B2', 'B3', 'B4', 'B8')\n",
        "ee.Projection.crs('EPSG:4326')\n",
        "\n",
        "bounds = greens_df.total_bounds.tolist()\n",
        "print(bounds)\n",
        "\n",
        "aoi = ee.Geometry.Rectangle(bounds)\n",
        "\n",
        "sentinel_scenes = ee.ImageCollection(\"COPERNICUS/S2\")\\\n",
        "    .filterBounds(aoi)\\\n",
        "    .filterDate(start_date, end_date)\\\n",
        "    .filter(ee.Filter.lt('CLOUDY_PIXEL_PERCENTAGE',cloud_pct))\\\n",
        "    .select(band_sel)\n",
        "\n",
        "scenes = sentinel_scenes.getInfo()\n",
        "[print(scene['id']) for scene in scenes[\"features\"]]\n",
        "\n",
        "sentinel_mosaic = sentinel_scenes.mean().rename(band_sel)"
      ],
      "execution_count": null,
      "outputs": [
        {
          "output_type": "stream",
          "text": [
            "[152.5912782, -27.9332613, 153.6116035, -26.8022363]\n",
            "COPERNICUS/S2/20200105T000239_20200105T000235_T56JMQ\n",
            "COPERNICUS/S2/20200105T000239_20200105T000235_T56JMR\n",
            "COPERNICUS/S2/20200105T000239_20200105T000235_T56JNQ\n",
            "COPERNICUS/S2/20200105T000239_20200105T000235_T56JNR\n",
            "COPERNICUS/S2/20200110T000231_20200110T000234_T56JNR\n",
            "COPERNICUS/S2/20200214T000239_20200214T000235_T56JNQ\n",
            "COPERNICUS/S2/20200301T235239_20200301T235242_T56JMQ\n",
            "COPERNICUS/S2/20200301T235239_20200301T235242_T56JNQ\n",
            "COPERNICUS/S2/20200301T235239_20200301T235242_T56JNR\n",
            "COPERNICUS/S2/20200321T235239_20200321T235242_T56JNR\n",
            "COPERNICUS/S2/20200405T235241_20200405T235242_T56JMQ\n",
            "COPERNICUS/S2/20200414T000239_20200414T000236_T56JMQ\n",
            "COPERNICUS/S2/20200414T000239_20200414T000236_T56JNQ\n",
            "COPERNICUS/S2/20200415T235241_20200415T235244_T56JMQ\n",
            "COPERNICUS/S2/20200415T235241_20200415T235244_T56JNQ\n",
            "COPERNICUS/S2/20200420T235239_20200420T235239_T56JMQ\n",
            "COPERNICUS/S2/20200420T235239_20200420T235239_T56JNQ\n",
            "COPERNICUS/S2/20200420T235239_20200420T235239_T56JNR\n",
            "COPERNICUS/S2/20200425T235251_20200425T235247_T56JMQ\n",
            "COPERNICUS/S2/20200430T235239_20200430T235241_T56JMQ\n",
            "COPERNICUS/S2/20200504T000239_20200504T000237_T56JMQ\n",
            "COPERNICUS/S2/20200510T235249_20200510T235243_T56JMQ\n",
            "COPERNICUS/S2/20200510T235249_20200510T235243_T56JNQ\n",
            "COPERNICUS/S2/20200514T000239_20200514T000239_T56JMR\n",
            "COPERNICUS/S2/20200514T000239_20200514T000239_T56JNQ\n",
            "COPERNICUS/S2/20200515T235251_20200515T235250_T56JMQ\n",
            "COPERNICUS/S2/20200524T000239_20200524T000241_T56JMR\n",
            "COPERNICUS/S2/20200524T000239_20200524T000241_T56JNQ\n",
            "COPERNICUS/S2/20200524T000239_20200524T000241_T56JNR\n",
            "COPERNICUS/S2/20200525T235251_20200525T235251_T56JMQ\n",
            "COPERNICUS/S2/20200525T235251_20200525T235251_T56JNQ\n",
            "COPERNICUS/S2/20200525T235251_20200525T235251_T56JNR\n",
            "COPERNICUS/S2/20200603T000239_20200603T000242_T56JMQ\n",
            "COPERNICUS/S2/20200603T000239_20200603T000242_T56JMR\n",
            "COPERNICUS/S2/20200603T000239_20200603T000242_T56JNQ\n",
            "COPERNICUS/S2/20200603T000239_20200603T000242_T56JNR\n",
            "COPERNICUS/S2/20200604T235251_20200604T235251_T56JMQ\n",
            "COPERNICUS/S2/20200608T000251_20200608T000246_T56JMR\n",
            "COPERNICUS/S2/20200608T000251_20200608T000246_T56JNQ\n",
            "COPERNICUS/S2/20200608T000251_20200608T000246_T56JNR\n",
            "COPERNICUS/S2/20200623T000239_20200623T000242_T56JMQ\n",
            "COPERNICUS/S2/20200623T000239_20200623T000242_T56JMR\n",
            "COPERNICUS/S2/20200623T000239_20200623T000242_T56JNQ\n",
            "COPERNICUS/S2/20200623T000239_20200623T000242_T56JNR\n",
            "COPERNICUS/S2/20200624T235251_20200624T235250_T56JMQ\n",
            "COPERNICUS/S2/20200624T235251_20200624T235250_T56JNQ\n",
            "COPERNICUS/S2/20200624T235251_20200624T235250_T56JNR\n",
            "COPERNICUS/S2/20200629T235249_20200629T235247_T56JMQ\n",
            "COPERNICUS/S2/20200703T000239_20200703T000242_T56JMQ\n",
            "COPERNICUS/S2/20200703T000239_20200703T000242_T56JMR\n",
            "COPERNICUS/S2/20200703T000239_20200703T000242_T56JNQ\n",
            "COPERNICUS/S2/20200703T000239_20200703T000242_T56JNR\n",
            "COPERNICUS/S2/20200704T235251_20200704T235249_T56JMQ\n",
            "COPERNICUS/S2/20200704T235251_20200704T235249_T56JNQ\n",
            "COPERNICUS/S2/20200704T235251_20200704T235249_T56JNR\n",
            "COPERNICUS/S2/20200708T000241_20200708T000244_T56JMQ\n",
            "COPERNICUS/S2/20200708T000241_20200708T000244_T56JMR\n",
            "COPERNICUS/S2/20200708T000241_20200708T000244_T56JNQ\n",
            "COPERNICUS/S2/20200714T235251_20200714T235249_T56JMQ\n",
            "COPERNICUS/S2/20200714T235251_20200714T235249_T56JNQ\n",
            "COPERNICUS/S2/20200714T235251_20200714T235249_T56JNR\n",
            "COPERNICUS/S2/20200718T000251_20200718T000245_T56JMQ\n",
            "COPERNICUS/S2/20200718T000251_20200718T000245_T56JMR\n",
            "COPERNICUS/S2/20200718T000251_20200718T000245_T56JNQ\n",
            "COPERNICUS/S2/20200718T000251_20200718T000245_T56JNR\n",
            "COPERNICUS/S2/20200719T235249_20200719T235246_T56JMQ\n",
            "COPERNICUS/S2/20200719T235249_20200719T235246_T56JNQ\n",
            "COPERNICUS/S2/20200719T235249_20200719T235246_T56JNR\n",
            "COPERNICUS/S2/20200728T000251_20200728T000246_T56JMR\n",
            "COPERNICUS/S2/20200728T000251_20200728T000246_T56JNQ\n",
            "COPERNICUS/S2/20200728T000251_20200728T000246_T56JNR\n",
            "COPERNICUS/S2/20200729T235249_20200729T235247_T56JMQ\n",
            "COPERNICUS/S2/20200729T235249_20200729T235247_T56JNQ\n",
            "COPERNICUS/S2/20200802T000249_20200802T000243_T56JMQ\n",
            "COPERNICUS/S2/20200802T000249_20200802T000243_T56JMR\n",
            "COPERNICUS/S2/20200808T235249_20200808T235248_T56JNR\n",
            "COPERNICUS/S2/20200817T000251_20200817T000246_T56JMQ\n",
            "COPERNICUS/S2/20200817T000251_20200817T000246_T56JMR\n",
            "COPERNICUS/S2/20200817T000251_20200817T000246_T56JNQ\n",
            "COPERNICUS/S2/20200817T000251_20200817T000246_T56JNR\n",
            "COPERNICUS/S2/20200818T235249_20200818T235248_T56JMQ\n",
            "COPERNICUS/S2/20200818T235249_20200818T235248_T56JNR\n",
            "COPERNICUS/S2/20200822T000249_20200822T000243_T56JMR\n",
            "COPERNICUS/S2/20200822T000249_20200822T000243_T56JNR\n",
            "COPERNICUS/S2/20200823T235251_20200823T235402_T56JMQ\n",
            "COPERNICUS/S2/20200823T235251_20200823T235402_T56JNQ\n",
            "COPERNICUS/S2/20200823T235251_20200823T235402_T56JNR\n",
            "COPERNICUS/S2/20200827T000251_20200827T000245_T56JNQ\n",
            "COPERNICUS/S2/20200828T235249_20200828T235248_T56JMQ\n",
            "COPERNICUS/S2/20200901T000249_20200901T000243_T56JMQ\n",
            "COPERNICUS/S2/20200901T000249_20200901T000243_T56JMR\n",
            "COPERNICUS/S2/20200901T000249_20200901T000243_T56JNQ\n",
            "COPERNICUS/S2/20200901T000249_20200901T000243_T56JNR\n",
            "COPERNICUS/S2/20200921T000239_20200921T000242_T56JMQ\n",
            "COPERNICUS/S2/20200926T000251_20200926T000245_T56JMQ\n",
            "COPERNICUS/S2/20200926T000251_20200926T000245_T56JMR\n",
            "COPERNICUS/S2/20200926T000251_20200926T000245_T56JNQ\n",
            "COPERNICUS/S2/20200926T000251_20200926T000245_T56JNR\n",
            "COPERNICUS/S2/20201016T000251_20201016T000246_T56JMQ\n",
            "COPERNICUS/S2/20201016T000251_20201016T000246_T56JMR\n",
            "COPERNICUS/S2/20201016T000251_20201016T000246_T56JNQ\n",
            "COPERNICUS/S2/20201021T000249_20201021T000243_T56JNQ\n",
            "COPERNICUS/S2/20201105T000251_20201105T000245_T56JMQ\n",
            "COPERNICUS/S2/20201105T000251_20201105T000245_T56JMR\n",
            "COPERNICUS/S2/20201105T000251_20201105T000245_T56JNQ\n",
            "COPERNICUS/S2/20201105T000251_20201105T000245_T56JNR\n",
            "COPERNICUS/S2/20201115T000241_20201115T000244_T56JMQ\n",
            "COPERNICUS/S2/20201115T000241_20201115T000244_T56JNQ\n",
            "COPERNICUS/S2/20201120T000239_20201120T000240_T56JMQ\n",
            "COPERNICUS/S2/20201121T235251_20201121T235247_T56JMQ\n",
            "COPERNICUS/S2/20201201T235241_20201201T235244_T56JMQ\n",
            "COPERNICUS/S2/20201205T000241_20201205T000238_T56JMQ\n",
            "COPERNICUS/S2/20201205T000241_20201205T000238_T56JMR\n",
            "COPERNICUS/S2/20201205T000241_20201205T000238_T56JNQ\n",
            "COPERNICUS/S2/20201205T000241_20201205T000238_T56JNR\n"
          ],
          "name": "stdout"
        }
      ]
    },
    {
      "cell_type": "code",
      "metadata": {
        "colab": {
          "background_save": true,
          "base_uri": "https://localhost:8080/"
        },
        "id": "Tbm17s85hgvW",
        "outputId": "2de82992-cfd3-48bc-e1b5-87d226fab37a"
      },
      "source": [
        "# Export the image, specifying scale and region.\n",
        "# Warning, This specific export  may take some time\n",
        "# GEE folder does not use a path, it uses a unique name to find the export location\n",
        "print(area_name)\n",
        "task = ee.batch.Export.image.toDrive(**{\n",
        "    'image': sentinel_mosaic,\n",
        "    'description': area_name,\n",
        "    'folder': area_name,\n",
        "    'fileNamePrefix': 'sentinel2_image',\n",
        "    'scale': 12,\n",
        "    'region': aoi,\n",
        "    'fileFormat': 'GeoTIFF',\n",
        "    'formatOptions': {\n",
        "      'cloudOptimized': 'true'\n",
        "    },\n",
        "})\n",
        "\n",
        "# This task will run in the background even if you close this notebook.\n",
        "# You can also check on the status of the task through the Javascript GEE interface\n",
        "# https://code.earthengine.google.com\n",
        "task.start()\n",
        "print('Earth Engine Task started: whait until the sentinel2_image.tif file is created by earthengine on google drive')\n",
        "import time \n",
        "while task.active():\n",
        "  print('Polling for task (id: {}).'.format(task.id))\n",
        "  time.sleep(15)"
      ],
      "execution_count": null,
      "outputs": [
        {
          "output_type": "stream",
          "text": [
            "Brisbane_City_Queensland_Australia\n",
            "Earth Engine Task started: whait until the sentinel2_image.tif file is created by earthengine on google drive\n",
            "Polling for task (id: K7LKU3AQE2G4QOQEIULETLAV).\n"
          ],
          "name": "stdout"
        },
        {
          "output_type": "stream",
          "text": [
            "/usr/local/lib/python3.7/dist-packages/ee/data.py:1132: DeprecationWarning: getTaskStatus() is deprecated: Use getOperation\n",
            "  def getTaskStatus(taskId):\n",
            "/usr/local/lib/python3.7/dist-packages/ee/data.py:1132: DeprecationWarning: getTaskStatus() is deprecated: Use getOperation\n",
            "  def getTaskStatus(taskId):\n"
          ],
          "name": "stderr"
        },
        {
          "output_type": "stream",
          "text": [
            "Polling for task (id: K7LKU3AQE2G4QOQEIULETLAV).\n"
          ],
          "name": "stdout"
        },
        {
          "output_type": "stream",
          "text": [
            "/usr/local/lib/python3.7/dist-packages/ee/data.py:1132: DeprecationWarning: getTaskStatus() is deprecated: Use getOperation\n",
            "  def getTaskStatus(taskId):\n"
          ],
          "name": "stderr"
        },
        {
          "output_type": "stream",
          "text": [
            "Polling for task (id: K7LKU3AQE2G4QOQEIULETLAV).\n"
          ],
          "name": "stdout"
        },
        {
          "output_type": "stream",
          "text": [
            "/usr/local/lib/python3.7/dist-packages/ee/data.py:1132: DeprecationWarning: getTaskStatus() is deprecated: Use getOperation\n",
            "  def getTaskStatus(taskId):\n"
          ],
          "name": "stderr"
        },
        {
          "output_type": "stream",
          "text": [
            "Polling for task (id: K7LKU3AQE2G4QOQEIULETLAV).\n"
          ],
          "name": "stdout"
        },
        {
          "output_type": "stream",
          "text": [
            "/usr/local/lib/python3.7/dist-packages/ee/data.py:1132: DeprecationWarning: getTaskStatus() is deprecated: Use getOperation\n",
            "  def getTaskStatus(taskId):\n"
          ],
          "name": "stderr"
        },
        {
          "output_type": "stream",
          "text": [
            "Polling for task (id: K7LKU3AQE2G4QOQEIULETLAV).\n"
          ],
          "name": "stdout"
        },
        {
          "output_type": "stream",
          "text": [
            "/usr/local/lib/python3.7/dist-packages/ee/data.py:1132: DeprecationWarning: getTaskStatus() is deprecated: Use getOperation\n",
            "  def getTaskStatus(taskId):\n"
          ],
          "name": "stderr"
        },
        {
          "output_type": "stream",
          "text": [
            "Polling for task (id: K7LKU3AQE2G4QOQEIULETLAV).\n"
          ],
          "name": "stdout"
        },
        {
          "output_type": "stream",
          "text": [
            "/usr/local/lib/python3.7/dist-packages/ee/data.py:1132: DeprecationWarning: getTaskStatus() is deprecated: Use getOperation\n",
            "  def getTaskStatus(taskId):\n"
          ],
          "name": "stderr"
        },
        {
          "output_type": "stream",
          "text": [
            "Polling for task (id: K7LKU3AQE2G4QOQEIULETLAV).\n"
          ],
          "name": "stdout"
        },
        {
          "output_type": "stream",
          "text": [
            "/usr/local/lib/python3.7/dist-packages/ee/data.py:1132: DeprecationWarning: getTaskStatus() is deprecated: Use getOperation\n",
            "  def getTaskStatus(taskId):\n"
          ],
          "name": "stderr"
        },
        {
          "output_type": "stream",
          "text": [
            "Polling for task (id: K7LKU3AQE2G4QOQEIULETLAV).\n"
          ],
          "name": "stdout"
        },
        {
          "output_type": "stream",
          "text": [
            "/usr/local/lib/python3.7/dist-packages/ee/data.py:1132: DeprecationWarning: getTaskStatus() is deprecated: Use getOperation\n",
            "  def getTaskStatus(taskId):\n"
          ],
          "name": "stderr"
        },
        {
          "output_type": "stream",
          "text": [
            "Polling for task (id: K7LKU3AQE2G4QOQEIULETLAV).\n"
          ],
          "name": "stdout"
        },
        {
          "output_type": "stream",
          "text": [
            "/usr/local/lib/python3.7/dist-packages/ee/data.py:1132: DeprecationWarning: getTaskStatus() is deprecated: Use getOperation\n",
            "  def getTaskStatus(taskId):\n"
          ],
          "name": "stderr"
        },
        {
          "output_type": "stream",
          "text": [
            "Polling for task (id: K7LKU3AQE2G4QOQEIULETLAV).\n"
          ],
          "name": "stdout"
        },
        {
          "output_type": "stream",
          "text": [
            "/usr/local/lib/python3.7/dist-packages/ee/data.py:1132: DeprecationWarning: getTaskStatus() is deprecated: Use getOperation\n",
            "  def getTaskStatus(taskId):\n"
          ],
          "name": "stderr"
        },
        {
          "output_type": "stream",
          "text": [
            "Polling for task (id: K7LKU3AQE2G4QOQEIULETLAV).\n"
          ],
          "name": "stdout"
        },
        {
          "output_type": "stream",
          "text": [
            "/usr/local/lib/python3.7/dist-packages/ee/data.py:1132: DeprecationWarning: getTaskStatus() is deprecated: Use getOperation\n",
            "  def getTaskStatus(taskId):\n"
          ],
          "name": "stderr"
        },
        {
          "output_type": "stream",
          "text": [
            "Polling for task (id: K7LKU3AQE2G4QOQEIULETLAV).\n"
          ],
          "name": "stdout"
        },
        {
          "output_type": "stream",
          "text": [
            "/usr/local/lib/python3.7/dist-packages/ee/data.py:1132: DeprecationWarning: getTaskStatus() is deprecated: Use getOperation\n",
            "  def getTaskStatus(taskId):\n"
          ],
          "name": "stderr"
        },
        {
          "output_type": "stream",
          "text": [
            "Polling for task (id: K7LKU3AQE2G4QOQEIULETLAV).\n"
          ],
          "name": "stdout"
        },
        {
          "output_type": "stream",
          "text": [
            "/usr/local/lib/python3.7/dist-packages/ee/data.py:1132: DeprecationWarning: getTaskStatus() is deprecated: Use getOperation\n",
            "  def getTaskStatus(taskId):\n"
          ],
          "name": "stderr"
        },
        {
          "output_type": "stream",
          "text": [
            "Polling for task (id: K7LKU3AQE2G4QOQEIULETLAV).\n"
          ],
          "name": "stdout"
        },
        {
          "output_type": "stream",
          "text": [
            "/usr/local/lib/python3.7/dist-packages/ee/data.py:1132: DeprecationWarning: getTaskStatus() is deprecated: Use getOperation\n",
            "  def getTaskStatus(taskId):\n"
          ],
          "name": "stderr"
        },
        {
          "output_type": "stream",
          "text": [
            "Polling for task (id: K7LKU3AQE2G4QOQEIULETLAV).\n"
          ],
          "name": "stdout"
        },
        {
          "output_type": "stream",
          "text": [
            "/usr/local/lib/python3.7/dist-packages/ee/data.py:1132: DeprecationWarning: getTaskStatus() is deprecated: Use getOperation\n",
            "  def getTaskStatus(taskId):\n"
          ],
          "name": "stderr"
        },
        {
          "output_type": "stream",
          "text": [
            "Polling for task (id: K7LKU3AQE2G4QOQEIULETLAV).\n"
          ],
          "name": "stdout"
        },
        {
          "output_type": "stream",
          "text": [
            "/usr/local/lib/python3.7/dist-packages/ee/data.py:1132: DeprecationWarning: getTaskStatus() is deprecated: Use getOperation\n",
            "  def getTaskStatus(taskId):\n"
          ],
          "name": "stderr"
        },
        {
          "output_type": "stream",
          "text": [
            "Polling for task (id: K7LKU3AQE2G4QOQEIULETLAV).\n"
          ],
          "name": "stdout"
        },
        {
          "output_type": "stream",
          "text": [
            "/usr/local/lib/python3.7/dist-packages/ee/data.py:1132: DeprecationWarning: getTaskStatus() is deprecated: Use getOperation\n",
            "  def getTaskStatus(taskId):\n"
          ],
          "name": "stderr"
        },
        {
          "output_type": "stream",
          "text": [
            "Polling for task (id: K7LKU3AQE2G4QOQEIULETLAV).\n"
          ],
          "name": "stdout"
        },
        {
          "output_type": "stream",
          "text": [
            "/usr/local/lib/python3.7/dist-packages/ee/data.py:1132: DeprecationWarning: getTaskStatus() is deprecated: Use getOperation\n",
            "  def getTaskStatus(taskId):\n"
          ],
          "name": "stderr"
        },
        {
          "output_type": "stream",
          "text": [
            "Polling for task (id: K7LKU3AQE2G4QOQEIULETLAV).\n"
          ],
          "name": "stdout"
        },
        {
          "output_type": "stream",
          "text": [
            "/usr/local/lib/python3.7/dist-packages/ee/data.py:1132: DeprecationWarning: getTaskStatus() is deprecated: Use getOperation\n",
            "  def getTaskStatus(taskId):\n"
          ],
          "name": "stderr"
        },
        {
          "output_type": "stream",
          "text": [
            "Polling for task (id: K7LKU3AQE2G4QOQEIULETLAV).\n"
          ],
          "name": "stdout"
        },
        {
          "output_type": "stream",
          "text": [
            "/usr/local/lib/python3.7/dist-packages/ee/data.py:1132: DeprecationWarning: getTaskStatus() is deprecated: Use getOperation\n",
            "  def getTaskStatus(taskId):\n"
          ],
          "name": "stderr"
        },
        {
          "output_type": "stream",
          "text": [
            "Polling for task (id: K7LKU3AQE2G4QOQEIULETLAV).\n"
          ],
          "name": "stdout"
        },
        {
          "output_type": "stream",
          "text": [
            "/usr/local/lib/python3.7/dist-packages/ee/data.py:1132: DeprecationWarning: getTaskStatus() is deprecated: Use getOperation\n",
            "  def getTaskStatus(taskId):\n"
          ],
          "name": "stderr"
        },
        {
          "output_type": "stream",
          "text": [
            "Polling for task (id: K7LKU3AQE2G4QOQEIULETLAV).\n"
          ],
          "name": "stdout"
        },
        {
          "output_type": "stream",
          "text": [
            "/usr/local/lib/python3.7/dist-packages/ee/data.py:1132: DeprecationWarning: getTaskStatus() is deprecated: Use getOperation\n",
            "  def getTaskStatus(taskId):\n"
          ],
          "name": "stderr"
        },
        {
          "output_type": "stream",
          "text": [
            "Polling for task (id: K7LKU3AQE2G4QOQEIULETLAV).\n"
          ],
          "name": "stdout"
        },
        {
          "output_type": "stream",
          "text": [
            "/usr/local/lib/python3.7/dist-packages/ee/data.py:1132: DeprecationWarning: getTaskStatus() is deprecated: Use getOperation\n",
            "  def getTaskStatus(taskId):\n"
          ],
          "name": "stderr"
        },
        {
          "output_type": "stream",
          "text": [
            "Polling for task (id: K7LKU3AQE2G4QOQEIULETLAV).\n"
          ],
          "name": "stdout"
        },
        {
          "output_type": "stream",
          "text": [
            "/usr/local/lib/python3.7/dist-packages/ee/data.py:1132: DeprecationWarning: getTaskStatus() is deprecated: Use getOperation\n",
            "  def getTaskStatus(taskId):\n"
          ],
          "name": "stderr"
        },
        {
          "output_type": "stream",
          "text": [
            "Polling for task (id: K7LKU3AQE2G4QOQEIULETLAV).\n"
          ],
          "name": "stdout"
        },
        {
          "output_type": "stream",
          "text": [
            "/usr/local/lib/python3.7/dist-packages/ee/data.py:1132: DeprecationWarning: getTaskStatus() is deprecated: Use getOperation\n",
            "  def getTaskStatus(taskId):\n"
          ],
          "name": "stderr"
        },
        {
          "output_type": "stream",
          "text": [
            "Polling for task (id: K7LKU3AQE2G4QOQEIULETLAV).\n"
          ],
          "name": "stdout"
        },
        {
          "output_type": "stream",
          "text": [
            "/usr/local/lib/python3.7/dist-packages/ee/data.py:1132: DeprecationWarning: getTaskStatus() is deprecated: Use getOperation\n",
            "  def getTaskStatus(taskId):\n"
          ],
          "name": "stderr"
        },
        {
          "output_type": "stream",
          "text": [
            "Polling for task (id: K7LKU3AQE2G4QOQEIULETLAV).\n"
          ],
          "name": "stdout"
        },
        {
          "output_type": "stream",
          "text": [
            "/usr/local/lib/python3.7/dist-packages/ee/data.py:1132: DeprecationWarning: getTaskStatus() is deprecated: Use getOperation\n",
            "  def getTaskStatus(taskId):\n"
          ],
          "name": "stderr"
        },
        {
          "output_type": "stream",
          "text": [
            "Polling for task (id: K7LKU3AQE2G4QOQEIULETLAV).\n"
          ],
          "name": "stdout"
        },
        {
          "output_type": "stream",
          "text": [
            "/usr/local/lib/python3.7/dist-packages/ee/data.py:1132: DeprecationWarning: getTaskStatus() is deprecated: Use getOperation\n",
            "  def getTaskStatus(taskId):\n"
          ],
          "name": "stderr"
        },
        {
          "output_type": "stream",
          "text": [
            "Polling for task (id: K7LKU3AQE2G4QOQEIULETLAV).\n"
          ],
          "name": "stdout"
        },
        {
          "output_type": "stream",
          "text": [
            "/usr/local/lib/python3.7/dist-packages/ee/data.py:1132: DeprecationWarning: getTaskStatus() is deprecated: Use getOperation\n",
            "  def getTaskStatus(taskId):\n"
          ],
          "name": "stderr"
        },
        {
          "output_type": "stream",
          "text": [
            "Polling for task (id: K7LKU3AQE2G4QOQEIULETLAV).\n"
          ],
          "name": "stdout"
        },
        {
          "output_type": "stream",
          "text": [
            "/usr/local/lib/python3.7/dist-packages/ee/data.py:1132: DeprecationWarning: getTaskStatus() is deprecated: Use getOperation\n",
            "  def getTaskStatus(taskId):\n"
          ],
          "name": "stderr"
        },
        {
          "output_type": "stream",
          "text": [
            "Polling for task (id: K7LKU3AQE2G4QOQEIULETLAV).\n"
          ],
          "name": "stdout"
        },
        {
          "output_type": "stream",
          "text": [
            "/usr/local/lib/python3.7/dist-packages/ee/data.py:1132: DeprecationWarning: getTaskStatus() is deprecated: Use getOperation\n",
            "  def getTaskStatus(taskId):\n"
          ],
          "name": "stderr"
        },
        {
          "output_type": "stream",
          "text": [
            "Polling for task (id: K7LKU3AQE2G4QOQEIULETLAV).\n"
          ],
          "name": "stdout"
        },
        {
          "output_type": "stream",
          "text": [
            "/usr/local/lib/python3.7/dist-packages/ee/data.py:1132: DeprecationWarning: getTaskStatus() is deprecated: Use getOperation\n",
            "  def getTaskStatus(taskId):\n"
          ],
          "name": "stderr"
        },
        {
          "output_type": "stream",
          "text": [
            "Polling for task (id: K7LKU3AQE2G4QOQEIULETLAV).\n"
          ],
          "name": "stdout"
        },
        {
          "output_type": "stream",
          "text": [
            "/usr/local/lib/python3.7/dist-packages/ee/data.py:1132: DeprecationWarning: getTaskStatus() is deprecated: Use getOperation\n",
            "  def getTaskStatus(taskId):\n"
          ],
          "name": "stderr"
        },
        {
          "output_type": "stream",
          "text": [
            "Polling for task (id: K7LKU3AQE2G4QOQEIULETLAV).\n"
          ],
          "name": "stdout"
        },
        {
          "output_type": "stream",
          "text": [
            "/usr/local/lib/python3.7/dist-packages/ee/data.py:1132: DeprecationWarning: getTaskStatus() is deprecated: Use getOperation\n",
            "  def getTaskStatus(taskId):\n"
          ],
          "name": "stderr"
        },
        {
          "output_type": "stream",
          "text": [
            "Polling for task (id: K7LKU3AQE2G4QOQEIULETLAV).\n"
          ],
          "name": "stdout"
        },
        {
          "output_type": "stream",
          "text": [
            "/usr/local/lib/python3.7/dist-packages/ee/data.py:1132: DeprecationWarning: getTaskStatus() is deprecated: Use getOperation\n",
            "  def getTaskStatus(taskId):\n"
          ],
          "name": "stderr"
        },
        {
          "output_type": "stream",
          "text": [
            "Polling for task (id: K7LKU3AQE2G4QOQEIULETLAV).\n"
          ],
          "name": "stdout"
        },
        {
          "output_type": "stream",
          "text": [
            "/usr/local/lib/python3.7/dist-packages/ee/data.py:1132: DeprecationWarning: getTaskStatus() is deprecated: Use getOperation\n",
            "  def getTaskStatus(taskId):\n"
          ],
          "name": "stderr"
        },
        {
          "output_type": "stream",
          "text": [
            "Polling for task (id: K7LKU3AQE2G4QOQEIULETLAV).\n"
          ],
          "name": "stdout"
        },
        {
          "output_type": "stream",
          "text": [
            "/usr/local/lib/python3.7/dist-packages/ee/data.py:1132: DeprecationWarning: getTaskStatus() is deprecated: Use getOperation\n",
            "  def getTaskStatus(taskId):\n"
          ],
          "name": "stderr"
        },
        {
          "output_type": "stream",
          "text": [
            "Polling for task (id: K7LKU3AQE2G4QOQEIULETLAV).\n"
          ],
          "name": "stdout"
        },
        {
          "output_type": "stream",
          "text": [
            "/usr/local/lib/python3.7/dist-packages/ee/data.py:1132: DeprecationWarning: getTaskStatus() is deprecated: Use getOperation\n",
            "  def getTaskStatus(taskId):\n"
          ],
          "name": "stderr"
        },
        {
          "output_type": "stream",
          "text": [
            "Polling for task (id: K7LKU3AQE2G4QOQEIULETLAV).\n"
          ],
          "name": "stdout"
        },
        {
          "output_type": "stream",
          "text": [
            "/usr/local/lib/python3.7/dist-packages/ee/data.py:1132: DeprecationWarning: getTaskStatus() is deprecated: Use getOperation\n",
            "  def getTaskStatus(taskId):\n"
          ],
          "name": "stderr"
        },
        {
          "output_type": "stream",
          "text": [
            "Polling for task (id: K7LKU3AQE2G4QOQEIULETLAV).\n"
          ],
          "name": "stdout"
        },
        {
          "output_type": "stream",
          "text": [
            "/usr/local/lib/python3.7/dist-packages/ee/data.py:1132: DeprecationWarning: getTaskStatus() is deprecated: Use getOperation\n",
            "  def getTaskStatus(taskId):\n"
          ],
          "name": "stderr"
        },
        {
          "output_type": "stream",
          "text": [
            "Polling for task (id: K7LKU3AQE2G4QOQEIULETLAV).\n"
          ],
          "name": "stdout"
        },
        {
          "output_type": "stream",
          "text": [
            "/usr/local/lib/python3.7/dist-packages/ee/data.py:1132: DeprecationWarning: getTaskStatus() is deprecated: Use getOperation\n",
            "  def getTaskStatus(taskId):\n"
          ],
          "name": "stderr"
        },
        {
          "output_type": "stream",
          "text": [
            "Polling for task (id: K7LKU3AQE2G4QOQEIULETLAV).\n"
          ],
          "name": "stdout"
        },
        {
          "output_type": "stream",
          "text": [
            "/usr/local/lib/python3.7/dist-packages/ee/data.py:1132: DeprecationWarning: getTaskStatus() is deprecated: Use getOperation\n",
            "  def getTaskStatus(taskId):\n"
          ],
          "name": "stderr"
        },
        {
          "output_type": "stream",
          "text": [
            "Polling for task (id: K7LKU3AQE2G4QOQEIULETLAV).\n"
          ],
          "name": "stdout"
        },
        {
          "output_type": "stream",
          "text": [
            "/usr/local/lib/python3.7/dist-packages/ee/data.py:1132: DeprecationWarning: getTaskStatus() is deprecated: Use getOperation\n",
            "  def getTaskStatus(taskId):\n"
          ],
          "name": "stderr"
        },
        {
          "output_type": "stream",
          "text": [
            "Polling for task (id: K7LKU3AQE2G4QOQEIULETLAV).\n"
          ],
          "name": "stdout"
        },
        {
          "output_type": "stream",
          "text": [
            "/usr/local/lib/python3.7/dist-packages/ee/data.py:1132: DeprecationWarning: getTaskStatus() is deprecated: Use getOperation\n",
            "  def getTaskStatus(taskId):\n"
          ],
          "name": "stderr"
        },
        {
          "output_type": "stream",
          "text": [
            "Polling for task (id: K7LKU3AQE2G4QOQEIULETLAV).\n"
          ],
          "name": "stdout"
        },
        {
          "output_type": "stream",
          "text": [
            "/usr/local/lib/python3.7/dist-packages/ee/data.py:1132: DeprecationWarning: getTaskStatus() is deprecated: Use getOperation\n",
            "  def getTaskStatus(taskId):\n"
          ],
          "name": "stderr"
        },
        {
          "output_type": "stream",
          "text": [
            "Polling for task (id: K7LKU3AQE2G4QOQEIULETLAV).\n"
          ],
          "name": "stdout"
        },
        {
          "output_type": "stream",
          "text": [
            "/usr/local/lib/python3.7/dist-packages/ee/data.py:1132: DeprecationWarning: getTaskStatus() is deprecated: Use getOperation\n",
            "  def getTaskStatus(taskId):\n"
          ],
          "name": "stderr"
        },
        {
          "output_type": "stream",
          "text": [
            "Polling for task (id: K7LKU3AQE2G4QOQEIULETLAV).\n"
          ],
          "name": "stdout"
        },
        {
          "output_type": "stream",
          "text": [
            "/usr/local/lib/python3.7/dist-packages/ee/data.py:1132: DeprecationWarning: getTaskStatus() is deprecated: Use getOperation\n",
            "  def getTaskStatus(taskId):\n"
          ],
          "name": "stderr"
        },
        {
          "output_type": "stream",
          "text": [
            "Polling for task (id: K7LKU3AQE2G4QOQEIULETLAV).\n"
          ],
          "name": "stdout"
        },
        {
          "output_type": "stream",
          "text": [
            "/usr/local/lib/python3.7/dist-packages/ee/data.py:1132: DeprecationWarning: getTaskStatus() is deprecated: Use getOperation\n",
            "  def getTaskStatus(taskId):\n"
          ],
          "name": "stderr"
        }
      ]
    },
    {
      "cell_type": "code",
      "metadata": {
        "colab": {
          "background_save": true
        },
        "id": "KPily8zCYwB2"
      },
      "source": [
        "#wait until the sentinel2_image.tif file is created by earthengine on google drive path root_dir\n",
        "print(os.listdir(root_dir))\n",
        "\n",
        "def save_label(geo, src_prf, dir, class_dict):\n",
        "    src_prf.update(dtype=rasterio.uint8, count=1, driver='Gtiff')\n",
        "\n",
        "    #convert the class identifier column to type integer\n",
        "    geo['id']  = geo.name.map(class_dict)\n",
        "    # pair the geometries and their integer class values\n",
        "    shapes = ((geom,value) for geom, value in zip(geo.geometry, geo.id))\n",
        "    labels = features.rasterize(shapes=shapes, out_shape=(src_prf['height'], src_prf['width']), transform=src_prf['transform'], fill=0, all_touched=True, dtype=rasterio.uint8)\n",
        "    print(labels.shape)\n",
        "  \n",
        "    print(\"Values in labeled image: \", np.unique(labels))\n",
        "    with rasterio.open(dir + '/labels.tif', 'w', **src_prf) as labels_out:\n",
        "        labels_out.write(labels.astype(rasterio.uint8), 1)\n",
        "    return dir + '/labels.tif'"
      ],
      "execution_count": null,
      "outputs": []
    },
    {
      "cell_type": "code",
      "metadata": {
        "colab": {
          "background_save": true
        },
        "id": "BNLcFm3rcEsj",
        "outputId": "4bce150d-6df2-494f-f8d9-425812ef6ca7"
      },
      "source": [
        "# get the file and labels file as a CSV table with name an  \n",
        "src = rasterio.open(root_dir+'/sentinel2_image.tif')\n",
        "labels_df = gpd.GeoDataFrame(pd.read_csv(root_dir+'/green_areas.csv'))\n",
        "classes = labels_df.name.unique()\n",
        "\n",
        "n_classes = len(classes)\n",
        "# set all classes to the same label of 255 \n",
        "class_dict = dict(zip(classes, [1 for i in range(n_classes)]))\n",
        "\n",
        "# uncomnent to use each class label label (max 255 classes)  \n",
        "# class_dict = dict(zip(classes, [i for i in range(n_classes[:256])]))\n",
        "\n",
        "# convert string gemetries to shapely geometries \n",
        "labels_df['geometry'] = labels_df['geometry'].apply(loads)\n",
        "\n",
        "# burn the labels on labels.tiff file in given dir \n",
        "labels_file = save_label(labels_df, src.profile, root_dir, class_dict)"
      ],
      "execution_count": null,
      "outputs": [
        {
          "output_type": "stream",
          "text": [
            "(10502, 9467)\n",
            "Values in labeled image:  [0 1]\n"
          ],
          "name": "stdout"
        }
      ]
    },
    {
      "cell_type": "code",
      "metadata": {
        "id": "Pt0cQx0r78Tx",
        "colab": {
          "base_uri": "https://localhost:8080/",
          "height": 579
        },
        "outputId": "edb765d9-f67d-4d2e-dbb8-dd242fb4b7fb"
      },
      "source": [
        "plt.figure(figsize=(10, 15))\n",
        "plt.subplot(1, 2, 1)\n",
        "plt.title(\"Original Image\")\n",
        "show(src)  \n",
        "plt.subplot(1, 2, 2)\n",
        "plt.title(\"Masked Image\")  \n",
        "show(rasterio.open(labels_file))  "
      ],
      "execution_count": 56,
      "outputs": [
        {
          "output_type": "display_data",
          "data": {
            "image/png": "[encoded data removed]",
            "text/plain": [
              "<Figure size 720x1080 with 1 Axes>"
            ]
          },
          "metadata": {
            "tags": [],
            "needs_background": "light"
          }
        },
        {
          "output_type": "display_data",
          "data": {
            "image/png": "[encoded data removed]",
            "text/plain": [
              "<Figure size 432x288 with 1 Axes>"
            ]
          },
          "metadata": {
            "tags": [],
            "needs_background": "light"
          }
        },
        {
          "output_type": "execute_result",
          "data": {
            "text/plain": [
              "<AxesSubplot:title={'center':'Masked Image'}>"
            ]
          },
          "metadata": {
            "tags": []
          },
          "execution_count": 56
        }
      ]
    }
  ]
}